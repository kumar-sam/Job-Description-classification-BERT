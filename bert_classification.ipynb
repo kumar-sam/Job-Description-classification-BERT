{
  "nbformat": 4,
  "nbformat_minor": 0,
  "metadata": {
    "colab": {
      "name": "bert_classification.ipynb",
      "provenance": [],
      "mount_file_id": "1fiqVzVivvjp3wWpKR9r61UUYrsNKubUE",
      "authorship_tag": "ABX9TyMJX3pSW67iho77A4uLp8Yl",
      "include_colab_link": true
    },
    "kernelspec": {
      "name": "python3",
      "display_name": "Python 3"
    },
    "accelerator": "GPU"
  },
  "cells": [
    {
      "cell_type": "markdown",
      "metadata": {
        "id": "view-in-github",
        "colab_type": "text"
      },
      "source": [
        "<a href=\"https://colab.research.google.com/github/kumar-sam/Job-Description-classification-BERT/blob/master/bert_classification.ipynb\" target=\"_parent\"><img src=\"https://colab.research.google.com/assets/colab-badge.svg\" alt=\"Open In Colab\"/></a>"
      ]
    },
    {
      "cell_type": "code",
      "metadata": {
        "id": "vj2TVxdeU0iZ",
        "colab_type": "code",
        "colab": {}
      },
      "source": [
        "%tensorflow_version 1.x"
      ],
      "execution_count": 20,
      "outputs": []
    },
    {
      "cell_type": "code",
      "metadata": {
        "id": "DfGxnOw9SoCK",
        "colab_type": "code",
        "colab": {
          "base_uri": "https://localhost:8080/",
          "height": 35
        },
        "outputId": "b24b88cf-ad4c-4909-f274-ef18ec29e57d"
      },
      "source": [
        "import tensorflow as tf\n",
        "tf.test.gpu_device_name()"
      ],
      "execution_count": 81,
      "outputs": [
        {
          "output_type": "execute_result",
          "data": {
            "application/vnd.google.colaboratory.intrinsic": {
              "type": "string"
            },
            "text/plain": [
              "'/device:GPU:0'"
            ]
          },
          "metadata": {
            "tags": []
          },
          "execution_count": 81
        }
      ]
    },
    {
      "cell_type": "markdown",
      "metadata": {
        "id": "xJ6rx40ClX_U",
        "colab_type": "text"
      },
      "source": [
        "### 1. Data Preperation"
      ]
    },
    {
      "cell_type": "code",
      "metadata": {
        "id": "qLCVPs6C_bC4",
        "colab_type": "code",
        "colab": {}
      },
      "source": [
        "#importing the library\n",
        "import re\n",
        "import nltk\n",
        "import numpy as np\n",
        "import pandas as pd\n",
        "from nltk import word_tokenize\n",
        "np.random.seed(1337)\n",
        "from keras import Sequential\n",
        "from keras.utils import Sequence\n",
        "from keras.layers import LSTM, Dense, Masking\n",
        "import numpy as np\n",
        "import keras\n",
        "from keras.utils import np_utils\n",
        "from keras import optimizers\n",
        "from keras.models import Sequential, Model\n",
        "from keras.layers import Embedding, Dense, Input, concatenate, Layer, Lambda, Dropout, Activation\n",
        "import datetime\n",
        "from datetime import datetime\n",
        "from keras.callbacks import ModelCheckpoint, EarlyStopping, Callback, TensorBoard\n",
        "import tensorflow as tf\n",
        "import tensorflow_hub as hub"
      ],
      "execution_count": 22,
      "outputs": []
    },
    {
      "cell_type": "code",
      "metadata": {
        "id": "RtICF6WBUWVD",
        "colab_type": "code",
        "colab": {
          "base_uri": "https://localhost:8080/",
          "height": 111
        },
        "outputId": "c099cb58-c833-4b85-bd2b-d26a34e95c38"
      },
      "source": [
        "df = pd.read_excel(\"/content/dataset_jd.xlsx\")\n",
        "df.head(2)"
      ],
      "execution_count": 23,
      "outputs": [
        {
          "output_type": "execute_result",
          "data": {
            "text/html": [
              "<div>\n",
              "<style scoped>\n",
              "    .dataframe tbody tr th:only-of-type {\n",
              "        vertical-align: middle;\n",
              "    }\n",
              "\n",
              "    .dataframe tbody tr th {\n",
              "        vertical-align: top;\n",
              "    }\n",
              "\n",
              "    .dataframe thead th {\n",
              "        text-align: right;\n",
              "    }\n",
              "</style>\n",
              "<table border=\"1\" class=\"dataframe\">\n",
              "  <thead>\n",
              "    <tr style=\"text-align: right;\">\n",
              "      <th></th>\n",
              "      <th>JD Type</th>\n",
              "      <th>TITLE</th>\n",
              "      <th>JD</th>\n",
              "    </tr>\n",
              "  </thead>\n",
              "  <tbody>\n",
              "    <tr>\n",
              "      <th>0</th>\n",
              "      <td>T</td>\n",
              "      <td>Software Developer</td>\n",
              "      <td>Minimum Required Skills:C/C#/C++, Java/J2EE, G...</td>\n",
              "    </tr>\n",
              "    <tr>\n",
              "      <th>1</th>\n",
              "      <td>T</td>\n",
              "      <td>Mechanical Engineer</td>\n",
              "      <td>Interested please share resumes ASAP. Call 301...</td>\n",
              "    </tr>\n",
              "  </tbody>\n",
              "</table>\n",
              "</div>"
            ],
            "text/plain": [
              "  JD Type  ...                                                 JD\n",
              "0       T  ...  Minimum Required Skills:C/C#/C++, Java/J2EE, G...\n",
              "1       T  ...  Interested please share resumes ASAP. Call 301...\n",
              "\n",
              "[2 rows x 3 columns]"
            ]
          },
          "metadata": {
            "tags": []
          },
          "execution_count": 23
        }
      ]
    },
    {
      "cell_type": "code",
      "metadata": {
        "id": "XSbNv4PzWj_z",
        "colab_type": "code",
        "colab": {
          "base_uri": "https://localhost:8080/",
          "height": 0
        },
        "outputId": "0995c06a-96d1-4c4b-8862-7e3e539c04e0"
      },
      "source": [
        "for jd in df.JD.values[3000:3005]:\n",
        "  print(jd)"
      ],
      "execution_count": 24,
      "outputs": [
        {
          "output_type": "stream",
          "text": [
            "<P style=\"TEXT-ALIGN: center\"><STRONG>GOWIRELESS<BR>\\r <BR>\\r</STRONG><EM>Looking for a rewarding sales opportunity? Like to be rewarded for your efforts? How about an uncapped earning potential? <STRONG>GoWireless</STRONG> has it all. <BR>\\rWe are offering sales management and retail supervisory professionals an exciting opportunity for growth with one of the leading providers of wireless products, services and accessories in the US<STRONG> </STRONG>market.</EM> </P>\\r<STRONG>\\r<CENTER>\\r<HR>\\r</CENTER>\\r<CENTER><STRONG> </STRONG></CENTER></STRONG>\\r<CENTER><STRONG>ABOUT US</STRONG></CENTER>\\r<CENTER><BR>\\r<EM><STRONG>GoWireless</STRONG> is one of the most comprehensive sources of wireless products and services. Marketing wireless products and services online and through its nationwide traditional retail operation, <STRONG>GoWireless</STRONG> is one of the largest wireless phone retailers and a major retailer in the US. <BR>\\rFounded in Southern California in 1995, GoWireless has continually strived to be a driving force in the wireless industry. Upon opening its first store, GoWireless helped to bridge the gap commonly seen between paging and cellular; and the company has continually done so year after year incorporating any and all new emerging technologies across the country. Today, GoWireless continues to grow steadfast with over 300 stores throughout the United States. <BR>\\r<BR>\\r<STRONG>GoWireless'</STRONG> innovative, up to date and cutting edge technology, gives our patrons the instant power to experience the next generation of communication with ease. For the professional whose offices are on the go, <STRONG>GoWireless</STRONG> is the mobile technology provider that powers being productive anywhere, anytime.</EM> </CENTER>\\r<CENTER><STRONG>\\r<HR>\\r</STRONG><STRONG><BR>\\r</STRONG></CENTER>\\r<CENTER><STRONG>YOUR SALES MANAGEMENT OPPORTUNITY</STRONG></CENTER>\\r<CENTER><BR>\\r<EM>Obviously the wireless industry is booming and now is the perfect time to get in on this rapidly developing business arena. <STRONG>GoWireless</STRONG> is seeking a management-level retail professional responsible for driving sales volume of wireless products, services in the region and surrounding areas.<BR>\\r<BR>\\rAs an exclusive dealer for Verizon Wireless, we offer a competitive compensation package, that includes personal profit sharing, excellent advancement opportunities, benefits, and a fun, success-driven work environment. We pride ourselves on offering superior customer service, as well as having the best locations throughout the state. <BR>\\r<BR>\\rIn addition to becoming a valued member of our successful sales force and building solid, reputable sales management experience, we offer: </EM></CENTER>\\r<CENTER>\\r<UL>\\r <LI><EM>Lucrative compensation package </EM>\\r <LI><EM>Advancement opportunities </EM>\\r <LI><EM>Health, Dental, Vision and AflacBenefits </EM>\\r <LI>Flex-Time off\\r <LI>Product Discounts\\r <LI>Best in class training\\r <LI>Full Time and Part time shifts available\\r <LI>And much more!!!\\r <P> </P>\\r  </LI>\\r</UL>\\r</CENTER>\\r<P><EM><STRONG><EM>If you have the drive; we have the tools to further your career. </EM><BR>\\r<EM>If you’re looking for a competitive workplace where an unlimited earnings potential exists, look no further! </EM><BR>\\r</STRONG></EM></P>\\r<P>---------------------------------------------------------------------------------------------------------------------------------<BR>\\r<BR>\\r</P>\\r<P><B><SPAN>Description </SPAN></B></P>\\r<P><SPAN>GoWireless a premium retailer of Verizon is now seeking motivated, excellent sales people for our new locations in the sourrounding areas. We are also looking for Store Managers with supervisor experience to help lead the team to victory.</SPAN></P>\\r<P><SPAN><BR>\\r </SPAN></P>\\r<P><B><SPAN>POSITION OVERVIEW</SPAN></B> </P>\\r<P><SPAN>The <STRONG>Retail </STRONG></SPAN><SPAN><STRONG>Wireless Sales Consultant</STRONG></SPAN><SPAN> is responsible for the providing excellent customer service and selling GoWireless products to patrons. This position reports to Store Manager. </SPAN></P>\\r<P><SPAN><BR>\\r </SPAN></P>\\r<P><B><SPAN>Minimum Qualifications </SPAN></B></P>\\r<UL>\\r <LI><SPAN>High School Diploma or equivalent required. Two (2) years of relevant field experience may be substituted for every one (1) year of required academia.</SPAN> </LI>\\r</UL>\\r<UL>\\r <LI><SPAN>Strong sales skills and the ability to ensure customer satisfaction on a daily basis while maintaining operations within a retail store environment</SPAN> </LI>\\r</UL>\\r<UL>\\r <LI><SPAN> Strong interpersonal and communication skills</SPAN> </LI>\\r</UL>\\r<UL>\\r <LI><SPAN>Self-motivated, prioritizes tasks and works independently with minimal supervision</SPAN> </LI>\\r</UL>\\r<UL>\\r <LI><SPAN>Professional appearance and the ability to work early evenings and weekends</SPAN> </LI>\\r</UL>\\r<P><SPAN> </SPAN></P>\\r<P><SPAN><STRONG>Requirements:</STRONG></SPAN></P>\\r<UL>\\r <LI><SPAN>Two (2) years of relevant field experience may be substituted for every one (1) yr of required academia</SPAN>\\r <LI><SPAN>Experienced in supervising, managing and training of employees</SPAN>\\r <LI><SPAN>Strong interpersonal and communication skills</SPAN>\\r <LI><SPAN>Strong organizational and time management skills</SPAN>\\r <LI><SPAN>Self motivated and works independently with minimal supervision</SPAN>\\r <LI><SPAN>Positive mental attitude</SPAN>\\r <LI><SPAN>Creative thinker</SPAN>\\r <LI><SPAN>Team player</SPAN> </LI>\\r</UL>\n",
            "<p style=\"text-align: center\"><strong>GOWIRELESS<br>\\r <br>\\r</strong><em>Looking for a rewarding sales opportunity? Like to be rewarded for your efforts? How about an uncapped earning potential? <strong>GoWireless</strong> has it all. <br>\\rWe are offering sales management and retail supervisory professionals an exciting opportunity for growth with one of the leading providers of wireless products, services and accessories in the US<strong> </strong>market.</em> </p>\\r<strong>\\r<center>\\r<hr>\\r</center>\\r<center><strong> </strong></center></strong>\\r<center><strong>ABOUT US</strong></center>\\r<center><br>\\r<em><strong>GoWireless</strong> is one of the most comprehensive sources of wireless products and services. Marketing wireless products and services online and through its nationwide traditional retail operation, <strong>GoWireless</strong> is one of the largest wireless phone retailers and a major retailer in the US. <br>\\rFounded in Southern California in 1995, GoWireless has continually strived to be a driving force in the wireless industry. Upon opening its first store, GoWireless helped to bridge the gap commonly seen between paging and cellular; and the company has continually done so year after year incorporating any and all new emerging technologies across the country. Today, GoWireless continues to grow steadfast with over 300 stores throughout the United States. <br>\\r<br>\\r<strong>GoWireless'</strong> innovative, up to date and cutting edge technology, gives our patrons the instant power to experience the next generation of communication with ease. For the professional whose offices are on the go, <strong>GoWireless</strong> is the mobile technology provider that powers being productive anywhere, anytime.</em> </center>\\r<center><strong>\\r<hr>\\r</strong><strong><br>\\r</strong></center>\\r<center><strong>YOUR SALES MANAGEMENT OPPORTUNITY</strong></center>\\r<center><br>\\r<em>Obviously the wireless industry is booming and now is the perfect time to get in on this rapidly developing business arena. <strong>GoWireless</strong> is seeking a management-level retail professional responsible for driving sales volume of wireless products, services in the region and surrounding areas.<br>\\r<br>\\rAs an exclusive dealer for Verizon Wireless, we offer a competitive compensation package, that includes personal profit sharing, excellent advancement opportunities, benefits, and a fun, success-driven work environment. We pride ourselves on offering superior customer service, as well as having the best locations throughout the state. <br>\\r<br>\\rIn addition to becoming a valued member of our successful sales force and building solid, reputable sales management experience, we offer: </em></center>\\r<center>\\r<ul>\\r <li><em>Lucrative compensation package </em>\\r <li><em>Advancement opportunities </em>\\r <li><em>Health, Dental, Vision and AflacBenefits </em>\\r <li>Flex-Time off\\r <li>Product Discounts\\r <li>Best in class training\\r <li>Full Time and Part time shifts available\\r <li>And much more!!!\\r <p>&nbsp;</p>\\r  </li>\\r</ul>\\r</center>\\r<p><em><strong><em>If you have the drive; we have the tools to further your career. </em><br>\\r<em>If you’re looking for a competitive workplace where an unlimited earnings potential exists, look no further! </em><br>\\r</strong></em></p>\\r<p>---------------------------------------------------------------------------------------------------------------------------------<br>\\r<br>\\r</p>\\r<p><b><span>Description </span></b></p>\\r<p><span>GoWireless a premium retailer of Verizon is now seeking motivated, excellent sales people for our new locations in the sourrounding areas. We are also looking for Store Managers with supervisor experience to help lead the team to victory.</span></p>\\r<p><span><br>\\r </span>&nbsp;</p>\\r<p><b><span>POSITION OVERVIEW</span></b> </p>\\r<p><span>The <strong>Retail </strong></span><span><strong>Wireless Sales Consultant</strong></span><span> is responsible for the providing excellent customer service and selling GoWireless products to patrons. This position reports to Store Manager. </span></p>\\r<p><span><br>\\r </span>&nbsp;</p>\\r<p><b><span>Minimum Qualifications </span></b></p>\\r<ul>\\r <li><span>High School Diploma or equivalent required. Two (2) years of relevant field experience may be substituted for every one (1) year of required academia.</span> </li>\\r</ul>\\r<ul>\\r <li><span>Strong sales skills and the ability to ensure customer satisfaction on a daily basis while maintaining operations within a retail store environment</span> </li>\\r</ul>\\r<ul>\\r <li><span> Strong interpersonal and communication skills</span> </li>\\r</ul>\\r<ul>\\r <li><span>Self-motivated, prioritizes tasks and works independently with minimal supervision</span> </li>\\r</ul>\\r<ul>\\r <li><span>Professional appearance and the ability to work early evenings and weekends</span> </li>\\r</ul>\\r<p><span> </span>&nbsp;</p>\\r<p><span><strong>Requirements:</strong></span></p>\\r<ul>\\r <li><span>Two (2) years of relevant field experience may be substituted for every one (1) yr of required academia</span>\\r <li><span>Experienced in supervising, managing and training of employees</span>\\r <li><span>Strong interpersonal and communication skills</span>\\r <li><span>Strong organizational and time management skills</span>\\r <li><span>Self motivated and works independently with minimal supervision</span>\\r <li><span>Positive mental attitude</span>\\r <li><span>Creative thinker</span>\\r <li><span>Team player</span> </li>\\r</ul>\n",
            "Busy medical practice in Williamsburg seeking motivated candidate for full time position. Must be highly organized, and able to handle multiple tasks.\n",
            "<p><span style=\"text-decoration: underline\"></span>&nbsp;</p>\\r<p><span>Anvil International<br>\\r<br>\\r</span></p>\\r<p>&nbsp;</p>\\r<p><b><i><span>Building Connections That Last….</span></i></b></p>\\r<p><span><br>\\r</span><span>That is what Anvil International delivers—trusted, proven connections. We are the world’s largest and most complete manufacturer of pipe connections, and have built our reputation on 150 years of proven excellence. In addition, Anvil manufactures a complete line of Gruvlok grooved-end fittings, couplings and valves.</span></p>\\r<span>\\r<p><span style=\"text-decoration: underline\"></span>&nbsp;</p>\\r<p><span>An Inside Salesperson ensures client satisfaction and works with outside sales to grow existing customer base. They effectively manage their resources, and work within the policies and procedures of the company.</span></p>\\r<p>&nbsp;</p>\\r<ul>\\r <li><span>Responsible for answering inbound sales calls from customers and internal staff members in a timely and professional manner</span>\\r <li><span>Quote, check inventory, and take phone orders</span>\\r <li><span>Provide technical information, as qualified, to the customer. When unqualified, follow up with other resources to ensure customer satisfaction.</span>\\r <li><span>Process customers’ requests accurately while paying attention to details</span>\\r <li><span>Communicate with outside sales team to ensure customers’ needs are met</span> </li>\\r</ul>\\r</span>\n",
            "Staff Accountant for a newly formed multi brand company. Primary duties include: managing budgets, royalty report preparation, invoice coding, managing weekly cash flow, assist materials manager, assist in financial statement preparation, create various sales/brand reports. Create and post journal entries and manage special projects.\n"
          ],
          "name": "stdout"
        }
      ]
    },
    {
      "cell_type": "code",
      "metadata": {
        "id": "kM9JiIisZduY",
        "colab_type": "code",
        "colab": {
          "base_uri": "https://localhost:8080/",
          "height": 0
        },
        "outputId": "de5e9c7f-8179-44c5-e275-826195d6fbbf"
      },
      "source": [
        "import nltk\n",
        "nltk.download('punkt')"
      ],
      "execution_count": 25,
      "outputs": [
        {
          "output_type": "stream",
          "text": [
            "[nltk_data] Downloading package punkt to /root/nltk_data...\n",
            "[nltk_data]   Package punkt is already up-to-date!\n"
          ],
          "name": "stdout"
        },
        {
          "output_type": "execute_result",
          "data": {
            "text/plain": [
              "True"
            ]
          },
          "metadata": {
            "tags": []
          },
          "execution_count": 25
        }
      ]
    },
    {
      "cell_type": "code",
      "metadata": {
        "id": "oOuY_cQyWFPm",
        "colab_type": "code",
        "colab": {
          "base_uri": "https://localhost:8080/",
          "height": 0
        },
        "outputId": "07984c2c-ab47-4a28-aea2-38a6c143e40a"
      },
      "source": [
        "TAG_RE = re.compile(r'<[^>]+>')\n",
        "def remove_tags(text):\n",
        "    return TAG_RE.sub(' ', text)\n",
        "\n",
        "\n",
        "import nltk\n",
        "nltk.download('stopwords')\n",
        "from nltk.corpus import stopwords"
      ],
      "execution_count": 26,
      "outputs": [
        {
          "output_type": "stream",
          "text": [
            "[nltk_data] Downloading package stopwords to /root/nltk_data...\n",
            "[nltk_data]   Package stopwords is already up-to-date!\n"
          ],
          "name": "stdout"
        }
      ]
    },
    {
      "cell_type": "code",
      "metadata": {
        "id": "qdsjhUehZzAG",
        "colab_type": "code",
        "colab": {}
      },
      "source": [
        "stop_words = stopwords.words('english')"
      ],
      "execution_count": 27,
      "outputs": []
    },
    {
      "cell_type": "code",
      "metadata": {
        "id": "aYnRFakHX5PL",
        "colab_type": "code",
        "colab": {}
      },
      "source": [
        "df['JD'] =df['JD'].apply(remove_tags)"
      ],
      "execution_count": 28,
      "outputs": []
    },
    {
      "cell_type": "code",
      "metadata": {
        "id": "mhKPwVM6Ut-v",
        "colab_type": "code",
        "colab": {}
      },
      "source": [
        "def preprocessJob(job_desc):\n",
        "    \"\"\"\n",
        "        processess the document text by removing punct, digits,\n",
        "        replaces phrase skill words with underscore, removes stop_words\n",
        "        \"\"\"\n",
        "    global stop_words\n",
        "\n",
        "    #replacing html based space(&nbsp)\n",
        "    job_desc = job_desc.replace('&nbsp', ' ')\n",
        "\n",
        "    #dealing with unicode char\n",
        "    job_desc = job_desc.replace(u'\\xa0', u' ')\n",
        "    job_desc = re.sub(r'[^\\x00-\\x7F]',' ', job_desc)\n",
        "\n",
        "    # Removes non-alphabetic characters excluding _\n",
        "    job_desc= re.sub('[^.A-Za-z]', ' ', job_desc)\n",
        "    #replacing multiple space with single space\n",
        "    job_desc = re.sub('\\s+', ' ', job_desc)\n",
        "\n",
        "    tokens = word_tokenize(str(job_desc))\n",
        "    result = [token for token in tokens if token not in stop_words]\n",
        "    result = \" \".join(result)\n",
        "    return result\n"
      ],
      "execution_count": 29,
      "outputs": []
    },
    {
      "cell_type": "code",
      "metadata": {
        "id": "Rm1StirhV2mt",
        "colab_type": "code",
        "colab": {}
      },
      "source": [
        "df['JD'] =df['JD'].apply(preprocessJob)"
      ],
      "execution_count": 30,
      "outputs": []
    },
    {
      "cell_type": "code",
      "metadata": {
        "id": "QPK2nHZyZK7v",
        "colab_type": "code",
        "colab": {
          "base_uri": "https://localhost:8080/",
          "height": 0
        },
        "outputId": "2e77fe20-8069-45c4-9744-b2b06adb6b11"
      },
      "source": [
        "for jd in df.JD.values[3000:3005]:\n",
        "  print(jd)"
      ],
      "execution_count": 31,
      "outputs": [
        {
          "output_type": "stream",
          "text": [
            "GOWIRELESS r r Looking rewarding sales opportunity Like rewarded efforts How uncapped earning potential GoWireless . rWe offering sales management retail supervisory professionals exciting opportunity growth one leading providers wireless products services accessories US market . r r r r r r ABOUT US r r GoWireless one comprehensive sources wireless products services . Marketing wireless products services online nationwide traditional retail operation GoWireless one largest wireless phone retailers major retailer US . rFounded Southern California GoWireless continually strived driving force wireless industry . Upon opening first store GoWireless helped bridge gap commonly seen paging cellular company continually done year year incorporating new emerging technologies across country . Today GoWireless continues grow steadfast stores throughout United States . r r GoWireless innovative date cutting edge technology gives patrons instant power experience next generation communication ease . For professional whose offices go GoWireless mobile technology provider powers productive anywhere anytime . r r r r r YOUR SALES MANAGEMENT OPPORTUNITY r r Obviously wireless industry booming perfect time get rapidly developing business arena . GoWireless seeking management level retail professional responsible driving sales volume wireless products services region surrounding areas . r rAs exclusive dealer Verizon Wireless offer competitive compensation package includes personal profit sharing excellent advancement opportunities benefits fun success driven work environment . We pride offering superior customer service well best locations throughout state . r rIn addition becoming valued member successful sales force building solid reputable sales management experience offer r r r Lucrative compensation package r Advancement opportunities r Health Dental Vision AflacBenefits r Flex Time r Product Discounts r Best class training r Full Time Part time shifts available r And much r r r r r If drive tools career . r If looking competitive workplace unlimited earnings potential exists look r r r r r Description r GoWireless premium retailer Verizon seeking motivated excellent sales people new locations sourrounding areas . We also looking Store Managers supervisor experience help lead team victory . r r r POSITION OVERVIEW r The Retail Wireless Sales Consultant responsible providing excellent customer service selling GoWireless products patrons . This position reports Store Manager . r r r Minimum Qualifications r r High School Diploma equivalent required . Two years relevant field experience may substituted every one year required academia . r r r Strong sales skills ability ensure customer satisfaction daily basis maintaining operations within retail store environment r r r Strong interpersonal communication skills r r r Self motivated prioritizes tasks works independently minimal supervision r r r Professional appearance ability work early evenings weekends r r r Requirements r r Two years relevant field experience may substituted every one yr required academia r Experienced supervising managing training employees r Strong interpersonal communication skills r Strong organizational time management skills r Self motivated works independently minimal supervision r Positive mental attitude r Creative thinker r Team player r\n",
            "GOWIRELESS r r Looking rewarding sales opportunity Like rewarded efforts How uncapped earning potential GoWireless . rWe offering sales management retail supervisory professionals exciting opportunity growth one leading providers wireless products services accessories US market . r r r r r r ABOUT US r r GoWireless one comprehensive sources wireless products services . Marketing wireless products services online nationwide traditional retail operation GoWireless one largest wireless phone retailers major retailer US . rFounded Southern California GoWireless continually strived driving force wireless industry . Upon opening first store GoWireless helped bridge gap commonly seen paging cellular company continually done year year incorporating new emerging technologies across country . Today GoWireless continues grow steadfast stores throughout United States . r r GoWireless innovative date cutting edge technology gives patrons instant power experience next generation communication ease . For professional whose offices go GoWireless mobile technology provider powers productive anywhere anytime . r r r r r YOUR SALES MANAGEMENT OPPORTUNITY r r Obviously wireless industry booming perfect time get rapidly developing business arena . GoWireless seeking management level retail professional responsible driving sales volume wireless products services region surrounding areas . r rAs exclusive dealer Verizon Wireless offer competitive compensation package includes personal profit sharing excellent advancement opportunities benefits fun success driven work environment . We pride offering superior customer service well best locations throughout state . r rIn addition becoming valued member successful sales force building solid reputable sales management experience offer r r r Lucrative compensation package r Advancement opportunities r Health Dental Vision AflacBenefits r Flex Time r Product Discounts r Best class training r Full Time Part time shifts available r And much r r r r r If drive tools career . r If looking competitive workplace unlimited earnings potential exists look r r r r r Description r GoWireless premium retailer Verizon seeking motivated excellent sales people new locations sourrounding areas . We also looking Store Managers supervisor experience help lead team victory . r r r POSITION OVERVIEW r The Retail Wireless Sales Consultant responsible providing excellent customer service selling GoWireless products patrons . This position reports Store Manager . r r r Minimum Qualifications r r High School Diploma equivalent required . Two years relevant field experience may substituted every one year required academia . r r r Strong sales skills ability ensure customer satisfaction daily basis maintaining operations within retail store environment r r r Strong interpersonal communication skills r r r Self motivated prioritizes tasks works independently minimal supervision r r r Professional appearance ability work early evenings weekends r r r Requirements r r Two years relevant field experience may substituted every one yr required academia r Experienced supervising managing training employees r Strong interpersonal communication skills r Strong organizational time management skills r Self motivated works independently minimal supervision r Positive mental attitude r Creative thinker r Team player r\n",
            "Busy medical practice Williamsburg seeking motivated candidate full time position . Must highly organized able handle multiple tasks .\n",
            "r Anvil International r r r r Building Connections That Last . r r That Anvil International delivers trusted proven connections . We world largest complete manufacturer pipe connections built reputation years proven excellence . In addition Anvil manufactures complete line Gruvlok grooved end fittings couplings valves . r r r An Inside Salesperson ensures client satisfaction works outside sales grow existing customer base . They effectively manage resources work within policies procedures company . r r r Responsible answering inbound sales calls customers internal staff members timely professional manner r Quote check inventory take phone orders r Provide technical information qualified customer . When unqualified follow resources ensure customer satisfaction . r Process customers requests accurately paying attention details r Communicate outside sales team ensure customers needs met r r\n",
            "Staff Accountant newly formed multi brand company . Primary duties include managing budgets royalty report preparation invoice coding managing weekly cash flow assist materials manager assist financial statement preparation create various sales brand reports . Create post journal entries manage special projects .\n"
          ],
          "name": "stdout"
        }
      ]
    },
    {
      "cell_type": "code",
      "metadata": {
        "id": "pWy_vT2DaR_O",
        "colab_type": "code",
        "colab": {}
      },
      "source": [
        "df.to_excel(\"/content/clean_dataset_jd.xlsx\")"
      ],
      "execution_count": 32,
      "outputs": []
    },
    {
      "cell_type": "code",
      "metadata": {
        "id": "-qq2CS-Ba8sR",
        "colab_type": "code",
        "colab": {
          "base_uri": "https://localhost:8080/",
          "height": 0
        },
        "outputId": "b3abe98c-adbb-4a18-ca89-9831778abf87"
      },
      "source": [
        "df.head(3)"
      ],
      "execution_count": 33,
      "outputs": [
        {
          "output_type": "execute_result",
          "data": {
            "text/html": [
              "<div>\n",
              "<style scoped>\n",
              "    .dataframe tbody tr th:only-of-type {\n",
              "        vertical-align: middle;\n",
              "    }\n",
              "\n",
              "    .dataframe tbody tr th {\n",
              "        vertical-align: top;\n",
              "    }\n",
              "\n",
              "    .dataframe thead th {\n",
              "        text-align: right;\n",
              "    }\n",
              "</style>\n",
              "<table border=\"1\" class=\"dataframe\">\n",
              "  <thead>\n",
              "    <tr style=\"text-align: right;\">\n",
              "      <th></th>\n",
              "      <th>JD Type</th>\n",
              "      <th>TITLE</th>\n",
              "      <th>JD</th>\n",
              "    </tr>\n",
              "  </thead>\n",
              "  <tbody>\n",
              "    <tr>\n",
              "      <th>0</th>\n",
              "      <td>T</td>\n",
              "      <td>Software Developer</td>\n",
              "      <td>Minimum Required Skills C C C Java J EE GUI De...</td>\n",
              "    </tr>\n",
              "    <tr>\n",
              "      <th>1</th>\n",
              "      <td>T</td>\n",
              "      <td>Mechanical Engineer</td>\n",
              "      <td>Interested please share resumes ASAP . Call fa...</td>\n",
              "    </tr>\n",
              "    <tr>\n",
              "      <th>2</th>\n",
              "      <td>T</td>\n",
              "      <td>Product Engineer</td>\n",
              "      <td>Responsibilities Designing developing products...</td>\n",
              "    </tr>\n",
              "  </tbody>\n",
              "</table>\n",
              "</div>"
            ],
            "text/plain": [
              "  JD Type  ...                                                 JD\n",
              "0       T  ...  Minimum Required Skills C C C Java J EE GUI De...\n",
              "1       T  ...  Interested please share resumes ASAP . Call fa...\n",
              "2       T  ...  Responsibilities Designing developing products...\n",
              "\n",
              "[3 rows x 3 columns]"
            ]
          },
          "metadata": {
            "tags": []
          },
          "execution_count": 33
        }
      ]
    },
    {
      "cell_type": "code",
      "metadata": {
        "id": "x6ONkTVahg9j",
        "colab_type": "code",
        "colab": {}
      },
      "source": [
        "df = df[['JD','JD Type']]"
      ],
      "execution_count": 34,
      "outputs": []
    },
    {
      "cell_type": "code",
      "metadata": {
        "id": "RtW-jg5Yk3YG",
        "colab_type": "code",
        "colab": {
          "base_uri": "https://localhost:8080/",
          "height": 0
        },
        "outputId": "f655d58d-12b9-43db-a607-528c08f4b51c"
      },
      "source": [
        "df.head(3)"
      ],
      "execution_count": 35,
      "outputs": [
        {
          "output_type": "execute_result",
          "data": {
            "text/html": [
              "<div>\n",
              "<style scoped>\n",
              "    .dataframe tbody tr th:only-of-type {\n",
              "        vertical-align: middle;\n",
              "    }\n",
              "\n",
              "    .dataframe tbody tr th {\n",
              "        vertical-align: top;\n",
              "    }\n",
              "\n",
              "    .dataframe thead th {\n",
              "        text-align: right;\n",
              "    }\n",
              "</style>\n",
              "<table border=\"1\" class=\"dataframe\">\n",
              "  <thead>\n",
              "    <tr style=\"text-align: right;\">\n",
              "      <th></th>\n",
              "      <th>JD</th>\n",
              "      <th>JD Type</th>\n",
              "    </tr>\n",
              "  </thead>\n",
              "  <tbody>\n",
              "    <tr>\n",
              "      <th>0</th>\n",
              "      <td>Minimum Required Skills C C C Java J EE GUI De...</td>\n",
              "      <td>T</td>\n",
              "    </tr>\n",
              "    <tr>\n",
              "      <th>1</th>\n",
              "      <td>Interested please share resumes ASAP . Call fa...</td>\n",
              "      <td>T</td>\n",
              "    </tr>\n",
              "    <tr>\n",
              "      <th>2</th>\n",
              "      <td>Responsibilities Designing developing products...</td>\n",
              "      <td>T</td>\n",
              "    </tr>\n",
              "  </tbody>\n",
              "</table>\n",
              "</div>"
            ],
            "text/plain": [
              "                                                  JD JD Type\n",
              "0  Minimum Required Skills C C C Java J EE GUI De...       T\n",
              "1  Interested please share resumes ASAP . Call fa...       T\n",
              "2  Responsibilities Designing developing products...       T"
            ]
          },
          "metadata": {
            "tags": []
          },
          "execution_count": 35
        }
      ]
    },
    {
      "cell_type": "code",
      "metadata": {
        "id": "4fliXWirk4vc",
        "colab_type": "code",
        "colab": {}
      },
      "source": [
        "df.rename(columns={\"JD\": \"text\", \"JD Type\": \"label\"}, inplace=True, errors=\"raise\")"
      ],
      "execution_count": 36,
      "outputs": []
    },
    {
      "cell_type": "code",
      "metadata": {
        "id": "zWVdGWTclUno",
        "colab_type": "code",
        "colab": {
          "base_uri": "https://localhost:8080/",
          "height": 0
        },
        "outputId": "da8ca3af-f248-4e9a-cac9-14eb29f2b912"
      },
      "source": [
        "df.head(3)"
      ],
      "execution_count": 37,
      "outputs": [
        {
          "output_type": "execute_result",
          "data": {
            "text/html": [
              "<div>\n",
              "<style scoped>\n",
              "    .dataframe tbody tr th:only-of-type {\n",
              "        vertical-align: middle;\n",
              "    }\n",
              "\n",
              "    .dataframe tbody tr th {\n",
              "        vertical-align: top;\n",
              "    }\n",
              "\n",
              "    .dataframe thead th {\n",
              "        text-align: right;\n",
              "    }\n",
              "</style>\n",
              "<table border=\"1\" class=\"dataframe\">\n",
              "  <thead>\n",
              "    <tr style=\"text-align: right;\">\n",
              "      <th></th>\n",
              "      <th>text</th>\n",
              "      <th>label</th>\n",
              "    </tr>\n",
              "  </thead>\n",
              "  <tbody>\n",
              "    <tr>\n",
              "      <th>0</th>\n",
              "      <td>Minimum Required Skills C C C Java J EE GUI De...</td>\n",
              "      <td>T</td>\n",
              "    </tr>\n",
              "    <tr>\n",
              "      <th>1</th>\n",
              "      <td>Interested please share resumes ASAP . Call fa...</td>\n",
              "      <td>T</td>\n",
              "    </tr>\n",
              "    <tr>\n",
              "      <th>2</th>\n",
              "      <td>Responsibilities Designing developing products...</td>\n",
              "      <td>T</td>\n",
              "    </tr>\n",
              "  </tbody>\n",
              "</table>\n",
              "</div>"
            ],
            "text/plain": [
              "                                                text label\n",
              "0  Minimum Required Skills C C C Java J EE GUI De...     T\n",
              "1  Interested please share resumes ASAP . Call fa...     T\n",
              "2  Responsibilities Designing developing products...     T"
            ]
          },
          "metadata": {
            "tags": []
          },
          "execution_count": 37
        }
      ]
    },
    {
      "cell_type": "code",
      "metadata": {
        "id": "9FFItM1sajdX",
        "colab_type": "code",
        "colab": {}
      },
      "source": [
        "def trim_label(label):\n",
        "  return label.strip()"
      ],
      "execution_count": 38,
      "outputs": []
    },
    {
      "cell_type": "code",
      "metadata": {
        "id": "PsdTGE7waUHz",
        "colab_type": "code",
        "colab": {}
      },
      "source": [
        "df['label'] = df['label'].apply(trim_label)"
      ],
      "execution_count": 39,
      "outputs": []
    },
    {
      "cell_type": "code",
      "metadata": {
        "id": "1UZwycksZ06U",
        "colab_type": "code",
        "colab": {
          "base_uri": "https://localhost:8080/",
          "height": 0
        },
        "outputId": "c10ebfbd-05d1-4d76-cb1d-fc1c0205c579"
      },
      "source": [
        "from sklearn.preprocessing import LabelEncoder\n",
        "\n",
        "LE = LabelEncoder()\n",
        "df['label'] = LE.fit_transform(df['label'])\n",
        "df.head()"
      ],
      "execution_count": 40,
      "outputs": [
        {
          "output_type": "execute_result",
          "data": {
            "text/html": [
              "<div>\n",
              "<style scoped>\n",
              "    .dataframe tbody tr th:only-of-type {\n",
              "        vertical-align: middle;\n",
              "    }\n",
              "\n",
              "    .dataframe tbody tr th {\n",
              "        vertical-align: top;\n",
              "    }\n",
              "\n",
              "    .dataframe thead th {\n",
              "        text-align: right;\n",
              "    }\n",
              "</style>\n",
              "<table border=\"1\" class=\"dataframe\">\n",
              "  <thead>\n",
              "    <tr style=\"text-align: right;\">\n",
              "      <th></th>\n",
              "      <th>text</th>\n",
              "      <th>label</th>\n",
              "    </tr>\n",
              "  </thead>\n",
              "  <tbody>\n",
              "    <tr>\n",
              "      <th>0</th>\n",
              "      <td>Minimum Required Skills C C C Java J EE GUI De...</td>\n",
              "      <td>1</td>\n",
              "    </tr>\n",
              "    <tr>\n",
              "      <th>1</th>\n",
              "      <td>Interested please share resumes ASAP . Call fa...</td>\n",
              "      <td>1</td>\n",
              "    </tr>\n",
              "    <tr>\n",
              "      <th>2</th>\n",
              "      <td>Responsibilities Designing developing products...</td>\n",
              "      <td>1</td>\n",
              "    </tr>\n",
              "    <tr>\n",
              "      <th>3</th>\n",
              "      <td>Serves liaison internal external business comm...</td>\n",
              "      <td>0</td>\n",
              "    </tr>\n",
              "    <tr>\n",
              "      <th>4</th>\n",
              "      <td>Company DescriptionWinning Edge Solutions tech...</td>\n",
              "      <td>1</td>\n",
              "    </tr>\n",
              "  </tbody>\n",
              "</table>\n",
              "</div>"
            ],
            "text/plain": [
              "                                                text  label\n",
              "0  Minimum Required Skills C C C Java J EE GUI De...      1\n",
              "1  Interested please share resumes ASAP . Call fa...      1\n",
              "2  Responsibilities Designing developing products...      1\n",
              "3  Serves liaison internal external business comm...      0\n",
              "4  Company DescriptionWinning Edge Solutions tech...      1"
            ]
          },
          "metadata": {
            "tags": []
          },
          "execution_count": 40
        }
      ]
    },
    {
      "cell_type": "code",
      "metadata": {
        "id": "DAV8VFvulV7Y",
        "colab_type": "code",
        "colab": {
          "base_uri": "https://localhost:8080/",
          "height": 0
        },
        "outputId": "7ef84a2d-9bf8-48bd-d082-6a933ff4a432"
      },
      "source": [
        "df.shape"
      ],
      "execution_count": 41,
      "outputs": [
        {
          "output_type": "execute_result",
          "data": {
            "text/plain": [
              "(3608, 2)"
            ]
          },
          "metadata": {
            "tags": []
          },
          "execution_count": 41
        }
      ]
    },
    {
      "cell_type": "code",
      "metadata": {
        "id": "n_Q5onbDocfH",
        "colab_type": "code",
        "colab": {
          "base_uri": "https://localhost:8080/",
          "height": 0
        },
        "outputId": "95cf0955-c981-4631-c9f6-6b1e6f270bd7"
      },
      "source": [
        "df.label.value_counts()"
      ],
      "execution_count": 42,
      "outputs": [
        {
          "output_type": "execute_result",
          "data": {
            "text/plain": [
              "1    1963\n",
              "0    1645\n",
              "Name: label, dtype: int64"
            ]
          },
          "metadata": {
            "tags": []
          },
          "execution_count": 42
        }
      ]
    },
    {
      "cell_type": "code",
      "metadata": {
        "id": "QPZnCCwOoAPP",
        "colab_type": "code",
        "colab": {
          "base_uri": "https://localhost:8080/",
          "height": 0
        },
        "outputId": "6015b786-d8ad-4f92-98dd-64dad3d889b0"
      },
      "source": [
        "df.label.value_counts().plot(kind='bar')"
      ],
      "execution_count": 43,
      "outputs": [
        {
          "output_type": "execute_result",
          "data": {
            "text/plain": [
              "<matplotlib.axes._subplots.AxesSubplot at 0x7f128edeeba8>"
            ]
          },
          "metadata": {
            "tags": []
          },
          "execution_count": 43
        },
        {
          "output_type": "display_data",
          "data": {
            "image/png": "[encoded data removed]",
            "text/plain": [
              "<Figure size 432x288 with 1 Axes>"
            ]
          },
          "metadata": {
            "tags": [],
            "needs_background": "light"
          }
        }
      ]
    },
    {
      "cell_type": "code",
      "metadata": {
        "id": "jaQdiI3upMTB",
        "colab_type": "code",
        "colab": {
          "base_uri": "https://localhost:8080/",
          "height": 0
        },
        "outputId": "4b13f46c-bdef-4310-cb53-40d90074748e"
      },
      "source": [
        "from sklearn.model_selection import train_test_split\n",
        "train, val = train_test_split(df, test_size=0.2, random_state=35)\n",
        "train.head()"
      ],
      "execution_count": 44,
      "outputs": [
        {
          "output_type": "execute_result",
          "data": {
            "text/html": [
              "<div>\n",
              "<style scoped>\n",
              "    .dataframe tbody tr th:only-of-type {\n",
              "        vertical-align: middle;\n",
              "    }\n",
              "\n",
              "    .dataframe tbody tr th {\n",
              "        vertical-align: top;\n",
              "    }\n",
              "\n",
              "    .dataframe thead th {\n",
              "        text-align: right;\n",
              "    }\n",
              "</style>\n",
              "<table border=\"1\" class=\"dataframe\">\n",
              "  <thead>\n",
              "    <tr style=\"text-align: right;\">\n",
              "      <th></th>\n",
              "      <th>text</th>\n",
              "      <th>label</th>\n",
              "    </tr>\n",
              "  </thead>\n",
              "  <tbody>\n",
              "    <tr>\n",
              "      <th>2437</th>\n",
              "      <td>Minimum Required Skills Photoshop Front End De...</td>\n",
              "      <td>1</td>\n",
              "    </tr>\n",
              "    <tr>\n",
              "      <th>584</th>\n",
              "      <td>With years business Group One Trading leading ...</td>\n",
              "      <td>0</td>\n",
              "    </tr>\n",
              "    <tr>\n",
              "      <th>1322</th>\n",
              "      <td>Entry Help Desk Coordinator Skills years exper...</td>\n",
              "      <td>0</td>\n",
              "    </tr>\n",
              "    <tr>\n",
              "      <th>1625</th>\n",
              "      <td>Minimum Required Skills REST APIs Agile Java U...</td>\n",
              "      <td>1</td>\n",
              "    </tr>\n",
              "    <tr>\n",
              "      <th>1841</th>\n",
              "      <td>RESPONSIBILITIES Kforce client searching Help ...</td>\n",
              "      <td>1</td>\n",
              "    </tr>\n",
              "  </tbody>\n",
              "</table>\n",
              "</div>"
            ],
            "text/plain": [
              "                                                   text  label\n",
              "2437  Minimum Required Skills Photoshop Front End De...      1\n",
              "584   With years business Group One Trading leading ...      0\n",
              "1322  Entry Help Desk Coordinator Skills years exper...      0\n",
              "1625  Minimum Required Skills REST APIs Agile Java U...      1\n",
              "1841  RESPONSIBILITIES Kforce client searching Help ...      1"
            ]
          },
          "metadata": {
            "tags": []
          },
          "execution_count": 44
        }
      ]
    },
    {
      "cell_type": "code",
      "metadata": {
        "id": "2fNO8lvSq58I",
        "colab_type": "code",
        "colab": {
          "base_uri": "https://localhost:8080/",
          "height": 0
        },
        "outputId": "3ba5f454-62ed-4bf6-87cd-8635808704f7"
      },
      "source": [
        "print(\"Train shape: {}\".format(train.shape))\n",
        "print(\"Test shape: {}\".format(val.shape))"
      ],
      "execution_count": 45,
      "outputs": [
        {
          "output_type": "stream",
          "text": [
            "Train shape: (2886, 2)\n",
            "Test shape: (722, 2)\n"
          ],
          "name": "stdout"
        }
      ]
    },
    {
      "cell_type": "code",
      "metadata": {
        "id": "LKraISePq6B5",
        "colab_type": "code",
        "colab": {
          "base_uri": "https://localhost:8080/",
          "height": 0
        },
        "outputId": "adbc27d8-1de1-4179-ceb1-97f5380ce16f"
      },
      "source": [
        "train.reset_index(drop=True, inplace=True)\n",
        "train.head(2)"
      ],
      "execution_count": 46,
      "outputs": [
        {
          "output_type": "execute_result",
          "data": {
            "text/html": [
              "<div>\n",
              "<style scoped>\n",
              "    .dataframe tbody tr th:only-of-type {\n",
              "        vertical-align: middle;\n",
              "    }\n",
              "\n",
              "    .dataframe tbody tr th {\n",
              "        vertical-align: top;\n",
              "    }\n",
              "\n",
              "    .dataframe thead th {\n",
              "        text-align: right;\n",
              "    }\n",
              "</style>\n",
              "<table border=\"1\" class=\"dataframe\">\n",
              "  <thead>\n",
              "    <tr style=\"text-align: right;\">\n",
              "      <th></th>\n",
              "      <th>text</th>\n",
              "      <th>label</th>\n",
              "    </tr>\n",
              "  </thead>\n",
              "  <tbody>\n",
              "    <tr>\n",
              "      <th>0</th>\n",
              "      <td>Minimum Required Skills Photoshop Front End De...</td>\n",
              "      <td>1</td>\n",
              "    </tr>\n",
              "    <tr>\n",
              "      <th>1</th>\n",
              "      <td>With years business Group One Trading leading ...</td>\n",
              "      <td>0</td>\n",
              "    </tr>\n",
              "  </tbody>\n",
              "</table>\n",
              "</div>"
            ],
            "text/plain": [
              "                                                text  label\n",
              "0  Minimum Required Skills Photoshop Front End De...      1\n",
              "1  With years business Group One Trading leading ...      0"
            ]
          },
          "metadata": {
            "tags": []
          },
          "execution_count": 46
        }
      ]
    },
    {
      "cell_type": "code",
      "metadata": {
        "id": "pQnSfw3-q6Gk",
        "colab_type": "code",
        "colab": {
          "base_uri": "https://localhost:8080/",
          "height": 0
        },
        "outputId": "62dcb41e-d89b-405e-df24-c35796c4b8b5"
      },
      "source": [
        "val.reset_index(drop=True, inplace=True)\n",
        "val.head(2)"
      ],
      "execution_count": 47,
      "outputs": [
        {
          "output_type": "execute_result",
          "data": {
            "text/html": [
              "<div>\n",
              "<style scoped>\n",
              "    .dataframe tbody tr th:only-of-type {\n",
              "        vertical-align: middle;\n",
              "    }\n",
              "\n",
              "    .dataframe tbody tr th {\n",
              "        vertical-align: top;\n",
              "    }\n",
              "\n",
              "    .dataframe thead th {\n",
              "        text-align: right;\n",
              "    }\n",
              "</style>\n",
              "<table border=\"1\" class=\"dataframe\">\n",
              "  <thead>\n",
              "    <tr style=\"text-align: right;\">\n",
              "      <th></th>\n",
              "      <th>text</th>\n",
              "      <th>label</th>\n",
              "    </tr>\n",
              "  </thead>\n",
              "  <tbody>\n",
              "    <tr>\n",
              "      <th>0</th>\n",
              "      <td>Minimum Required Skills Linux DevOps Chef Pupp...</td>\n",
              "      <td>1</td>\n",
              "    </tr>\n",
              "    <tr>\n",
              "      <th>1</th>\n",
              "      <td>Skills Mandatory PreferableTechnical Skills ye...</td>\n",
              "      <td>1</td>\n",
              "    </tr>\n",
              "  </tbody>\n",
              "</table>\n",
              "</div>"
            ],
            "text/plain": [
              "                                                text  label\n",
              "0  Minimum Required Skills Linux DevOps Chef Pupp...      1\n",
              "1  Skills Mandatory PreferableTechnical Skills ye...      1"
            ]
          },
          "metadata": {
            "tags": []
          },
          "execution_count": 47
        }
      ]
    },
    {
      "cell_type": "code",
      "metadata": {
        "id": "DEJZI_cKr8Wf",
        "colab_type": "code",
        "colab": {
          "base_uri": "https://localhost:8080/",
          "height": 0
        },
        "outputId": "7e2492dc-e08a-4ed0-dd1d-23edbbfcb04d"
      },
      "source": [
        "train.shape, val.shape"
      ],
      "execution_count": 48,
      "outputs": [
        {
          "output_type": "execute_result",
          "data": {
            "text/plain": [
              "((2886, 2), (722, 2))"
            ]
          },
          "metadata": {
            "tags": []
          },
          "execution_count": 48
        }
      ]
    },
    {
      "cell_type": "code",
      "metadata": {
        "id": "ZhzNNdMRtkRt",
        "colab_type": "code",
        "colab": {}
      },
      "source": [
        ""
      ],
      "execution_count": 48,
      "outputs": []
    },
    {
      "cell_type": "code",
      "metadata": {
        "id": "8oHtRIDbsAxD",
        "colab_type": "code",
        "colab": {
          "base_uri": "https://localhost:8080/",
          "height": 0
        },
        "outputId": "7edf8d56-2ac5-4653-8bca-258af41a5a6d"
      },
      "source": [
        "#Installing BERT module\n",
        "!pip install bert-tensorflow"
      ],
      "execution_count": 49,
      "outputs": [
        {
          "output_type": "stream",
          "text": [
            "Requirement already satisfied: bert-tensorflow in /usr/local/lib/python3.6/dist-packages (1.0.1)\n",
            "Requirement already satisfied: six in /usr/local/lib/python3.6/dist-packages (from bert-tensorflow) (1.12.0)\n"
          ],
          "name": "stdout"
        }
      ]
    },
    {
      "cell_type": "code",
      "metadata": {
        "id": "ffapOacAsA0b",
        "colab_type": "code",
        "colab": {
          "base_uri": "https://localhost:8080/",
          "height": 0
        },
        "outputId": "b59ec26f-1eee-4bc0-f92e-e3a921976f63"
      },
      "source": [
        "#Importing BERT modules\n",
        "import bert\n",
        "from bert import run_classifier\n",
        "from bert import optimization\n",
        "from bert import tokenization"
      ],
      "execution_count": 50,
      "outputs": [
        {
          "output_type": "stream",
          "text": [
            "WARNING:tensorflow:From /usr/local/lib/python3.6/dist-packages/bert/optimization.py:87: The name tf.train.Optimizer is deprecated. Please use tf.compat.v1.train.Optimizer instead.\n",
            "\n"
          ],
          "name": "stdout"
        }
      ]
    },
    {
      "cell_type": "code",
      "metadata": {
        "id": "TMoYu6QisA3w",
        "colab_type": "code",
        "colab": {}
      },
      "source": [
        "# Set the output directory for saving model file\n",
        "OUTPUT_DIR = '/content/bert_jd_category'\n",
        "\n",
        "#@markdown Whether or not to clear/delete the directory and create a new one\n",
        "DO_DELETE = True #@param {type:\"boolean\"}\n",
        "\n",
        "if DO_DELETE:\n",
        "  try:\n",
        "    tf.gfile.DeleteRecursively(OUTPUT_DIR)\n",
        "  except:\n",
        "    pass\n",
        "\n",
        "tf.gfile.MakeDirs(OUTPUT_DIR)"
      ],
      "execution_count": 51,
      "outputs": []
    },
    {
      "cell_type": "code",
      "metadata": {
        "id": "nRDD8hgnvXPp",
        "colab_type": "code",
        "colab": {}
      },
      "source": [
        "# Splitting the Data into smaller chunks\n",
        "def get_split(text1):\n",
        "  l_total = []\n",
        "  l_parcial = []\n",
        "  if len(text1.split())//150 >0:\n",
        "    n = len(text1.split())//150\n",
        "  else: \n",
        "    n = 1\n",
        "  for w in range(n):\n",
        "    if w == 0:\n",
        "      l_parcial = text1.split()[:200]\n",
        "      l_total.append(\" \".join(l_parcial))\n",
        "    else:\n",
        "      l_parcial = text1.split()[w*150:w*150 + 200]\n",
        "      l_total.append(\" \".join(l_parcial))\n",
        "  return l_total"
      ],
      "execution_count": 52,
      "outputs": []
    },
    {
      "cell_type": "code",
      "metadata": {
        "id": "fUlWXbWYvXTB",
        "colab_type": "code",
        "colab": {
          "base_uri": "https://localhost:8080/",
          "height": 0
        },
        "outputId": "194e01f0-935a-4fd3-941a-3d63d06a395f"
      },
      "source": [
        "train['text_split'] = train['text'].apply(get_split)\n",
        "train.head()"
      ],
      "execution_count": 53,
      "outputs": [
        {
          "output_type": "stream",
          "text": [
            "/usr/local/lib/python3.6/dist-packages/ipykernel_launcher.py:1: SettingWithCopyWarning: \n",
            "A value is trying to be set on a copy of a slice from a DataFrame.\n",
            "Try using .loc[row_indexer,col_indexer] = value instead\n",
            "\n",
            "See the caveats in the documentation: https://pandas.pydata.org/pandas-docs/stable/user_guide/indexing.html#returning-a-view-versus-a-copy\n",
            "  \"\"\"Entry point for launching an IPython kernel.\n"
          ],
          "name": "stderr"
        },
        {
          "output_type": "execute_result",
          "data": {
            "text/html": [
              "<div>\n",
              "<style scoped>\n",
              "    .dataframe tbody tr th:only-of-type {\n",
              "        vertical-align: middle;\n",
              "    }\n",
              "\n",
              "    .dataframe tbody tr th {\n",
              "        vertical-align: top;\n",
              "    }\n",
              "\n",
              "    .dataframe thead th {\n",
              "        text-align: right;\n",
              "    }\n",
              "</style>\n",
              "<table border=\"1\" class=\"dataframe\">\n",
              "  <thead>\n",
              "    <tr style=\"text-align: right;\">\n",
              "      <th></th>\n",
              "      <th>text</th>\n",
              "      <th>label</th>\n",
              "      <th>text_split</th>\n",
              "    </tr>\n",
              "  </thead>\n",
              "  <tbody>\n",
              "    <tr>\n",
              "      <th>0</th>\n",
              "      <td>Minimum Required Skills Photoshop Front End De...</td>\n",
              "      <td>1</td>\n",
              "      <td>[Minimum Required Skills Photoshop Front End D...</td>\n",
              "    </tr>\n",
              "    <tr>\n",
              "      <th>1</th>\n",
              "      <td>With years business Group One Trading leading ...</td>\n",
              "      <td>0</td>\n",
              "      <td>[With years business Group One Trading leading...</td>\n",
              "    </tr>\n",
              "    <tr>\n",
              "      <th>2</th>\n",
              "      <td>Entry Help Desk Coordinator Skills years exper...</td>\n",
              "      <td>0</td>\n",
              "      <td>[Entry Help Desk Coordinator Skills years expe...</td>\n",
              "    </tr>\n",
              "    <tr>\n",
              "      <th>3</th>\n",
              "      <td>Minimum Required Skills REST APIs Agile Java U...</td>\n",
              "      <td>1</td>\n",
              "      <td>[Minimum Required Skills REST APIs Agile Java ...</td>\n",
              "    </tr>\n",
              "    <tr>\n",
              "      <th>4</th>\n",
              "      <td>RESPONSIBILITIES Kforce client searching Help ...</td>\n",
              "      <td>1</td>\n",
              "      <td>[RESPONSIBILITIES Kforce client searching Help...</td>\n",
              "    </tr>\n",
              "  </tbody>\n",
              "</table>\n",
              "</div>"
            ],
            "text/plain": [
              "                                                text  ...                                         text_split\n",
              "0  Minimum Required Skills Photoshop Front End De...  ...  [Minimum Required Skills Photoshop Front End D...\n",
              "1  With years business Group One Trading leading ...  ...  [With years business Group One Trading leading...\n",
              "2  Entry Help Desk Coordinator Skills years exper...  ...  [Entry Help Desk Coordinator Skills years expe...\n",
              "3  Minimum Required Skills REST APIs Agile Java U...  ...  [Minimum Required Skills REST APIs Agile Java ...\n",
              "4  RESPONSIBILITIES Kforce client searching Help ...  ...  [RESPONSIBILITIES Kforce client searching Help...\n",
              "\n",
              "[5 rows x 3 columns]"
            ]
          },
          "metadata": {
            "tags": []
          },
          "execution_count": 53
        }
      ]
    },
    {
      "cell_type": "code",
      "metadata": {
        "id": "lXfP7IbuvXWZ",
        "colab_type": "code",
        "colab": {
          "base_uri": "https://localhost:8080/",
          "height": 0
        },
        "outputId": "58474283-90cb-4762-97b3-086e6f92cc77"
      },
      "source": [
        "val['text_split'] = val['text'].apply(get_split)\n",
        "val.head()"
      ],
      "execution_count": 54,
      "outputs": [
        {
          "output_type": "stream",
          "text": [
            "/usr/local/lib/python3.6/dist-packages/ipykernel_launcher.py:1: SettingWithCopyWarning: \n",
            "A value is trying to be set on a copy of a slice from a DataFrame.\n",
            "Try using .loc[row_indexer,col_indexer] = value instead\n",
            "\n",
            "See the caveats in the documentation: https://pandas.pydata.org/pandas-docs/stable/user_guide/indexing.html#returning-a-view-versus-a-copy\n",
            "  \"\"\"Entry point for launching an IPython kernel.\n"
          ],
          "name": "stderr"
        },
        {
          "output_type": "execute_result",
          "data": {
            "text/html": [
              "<div>\n",
              "<style scoped>\n",
              "    .dataframe tbody tr th:only-of-type {\n",
              "        vertical-align: middle;\n",
              "    }\n",
              "\n",
              "    .dataframe tbody tr th {\n",
              "        vertical-align: top;\n",
              "    }\n",
              "\n",
              "    .dataframe thead th {\n",
              "        text-align: right;\n",
              "    }\n",
              "</style>\n",
              "<table border=\"1\" class=\"dataframe\">\n",
              "  <thead>\n",
              "    <tr style=\"text-align: right;\">\n",
              "      <th></th>\n",
              "      <th>text</th>\n",
              "      <th>label</th>\n",
              "      <th>text_split</th>\n",
              "    </tr>\n",
              "  </thead>\n",
              "  <tbody>\n",
              "    <tr>\n",
              "      <th>0</th>\n",
              "      <td>Minimum Required Skills Linux DevOps Chef Pupp...</td>\n",
              "      <td>1</td>\n",
              "      <td>[Minimum Required Skills Linux DevOps Chef Pup...</td>\n",
              "    </tr>\n",
              "    <tr>\n",
              "      <th>1</th>\n",
              "      <td>Skills Mandatory PreferableTechnical Skills ye...</td>\n",
              "      <td>1</td>\n",
              "      <td>[Skills Mandatory PreferableTechnical Skills y...</td>\n",
              "    </tr>\n",
              "    <tr>\n",
              "      <th>2</th>\n",
              "      <td>Title .NET Developer Location Boca Raton FL Du...</td>\n",
              "      <td>1</td>\n",
              "      <td>[Title .NET Developer Location Boca Raton FL D...</td>\n",
              "    </tr>\n",
              "    <tr>\n",
              "      <th>3</th>\n",
              "      <td>Location Rocklin CAPosition Senior Developer T...</td>\n",
              "      <td>1</td>\n",
              "      <td>[Location Rocklin CAPosition Senior Developer ...</td>\n",
              "    </tr>\n",
              "    <tr>\n",
              "      <th>4</th>\n",
              "      <td>Duties Migrating SQL Server data warehouse AWS...</td>\n",
              "      <td>1</td>\n",
              "      <td>[Duties Migrating SQL Server data warehouse AW...</td>\n",
              "    </tr>\n",
              "  </tbody>\n",
              "</table>\n",
              "</div>"
            ],
            "text/plain": [
              "                                                text  ...                                         text_split\n",
              "0  Minimum Required Skills Linux DevOps Chef Pupp...  ...  [Minimum Required Skills Linux DevOps Chef Pup...\n",
              "1  Skills Mandatory PreferableTechnical Skills ye...  ...  [Skills Mandatory PreferableTechnical Skills y...\n",
              "2  Title .NET Developer Location Boca Raton FL Du...  ...  [Title .NET Developer Location Boca Raton FL D...\n",
              "3  Location Rocklin CAPosition Senior Developer T...  ...  [Location Rocklin CAPosition Senior Developer ...\n",
              "4  Duties Migrating SQL Server data warehouse AWS...  ...  [Duties Migrating SQL Server data warehouse AW...\n",
              "\n",
              "[5 rows x 3 columns]"
            ]
          },
          "metadata": {
            "tags": []
          },
          "execution_count": 54
        }
      ]
    },
    {
      "cell_type": "code",
      "metadata": {
        "id": "dWWwwRSWvXZd",
        "colab_type": "code",
        "colab": {
          "base_uri": "https://localhost:8080/",
          "height": 0
        },
        "outputId": "e293589a-48c2-423a-8ec6-6933532d808b"
      },
      "source": [
        "val['text_split'].values[0]"
      ],
      "execution_count": 55,
      "outputs": [
        {
          "output_type": "execute_result",
          "data": {
            "text/plain": [
              "['Minimum Required Skills Linux DevOps Chef Puppet Ruby Ansible Shell Scripting VMWare ESX ESXi JIRA Maven Jenkins Hudson HadoopIf DevOps Engineer open full time role contract exceptional scripting Linux skills please read Based outside Atlanta near Roswell award winning systems integrator working heavily DevOps Cloud Big Data Middleware Mobile technologies . Since focus help customers modernize optimize workloads new cloud world . Our team specializes migrating applications modernizing optimizing infrastructure enhancing manageability orchestration automationRight seeking someone join team travel bit work customers collaborate smart engineering team working heavily Linux environment.Top Reasons Work Us . Generous compensation solid benefits Medical Dental Vision PTO k w Match Profit Sharing tons . You working new technologies meeting new people networking customer base . . Opportunity work wide variety stacks including Hadoop VMware Ruby Shell Scripting name few.What You Will Be Doing Developing new products evangelizing use open source technology assisting customers design implementation cutting edge technology solutions.What You Need Position BSCS related Large deployment experience Puppet Chef Ansible Ability configure automate server builds Linux shell scripting Proficient scripting language like Ruby Python Perl Bash etc . Nice Exposure following github HDFS Hadoop Cloudera Hbase zookeeper redis MongoDB RabbitMQ JBoss OSGI Virgo Experience creation',\n",
              " 'cutting edge technology solutions.What You Need Position BSCS related Large deployment experience Puppet Chef Ansible Ability configure automate server builds Linux shell scripting Proficient scripting language like Ruby Python Perl Bash etc . Nice Exposure following github HDFS Hadoop Cloudera Hbase zookeeper redis MongoDB RabbitMQ JBoss OSGI Virgo Experience creation management VMware based virtual infrastructure using ESX ESXi Red Hat CentOS UbuntuWhat In It You Our team access latest training encouraged help cultivate culture open source local Meetups industry events Our team consists senior level technology professionals providing services training mentoring new IT implementations consultants spend time customer locations working directly teamSo DevOps Engineer please apply today Applicants must authorized work U.S.Please apply directly clicking Click Here Apply Word resume Looking forward receiving resume going position detail . Not fit position Click link bottom email search open positions.Looking forward receiving resume CyberCodersCyberCoders Inc proud Equal Opportunity EmployerAll qualified applicants receive consideration employment without regard race color religion sex national origin disability protected veteran status characteristic protected law.Your Right Work In compliance federal law persons hired required verify identity eligibility work United States complete required employment eligibility verification document form upon hire.Copyright . CyberCoders Inc. All rights reserved .']"
            ]
          },
          "metadata": {
            "tags": []
          },
          "execution_count": 55
        }
      ]
    },
    {
      "cell_type": "code",
      "metadata": {
        "id": "eoWkspgXHbGD",
        "colab_type": "code",
        "colab": {
          "base_uri": "https://localhost:8080/",
          "height": 0
        },
        "outputId": "04a8be6a-9d68-4829-d79e-2ec0ccc62b71"
      },
      "source": [
        "print(\"Training Set Shape :\", train.shape)\n",
        "print(\"Validation Set Shape :\", val.shape)"
      ],
      "execution_count": 56,
      "outputs": [
        {
          "output_type": "stream",
          "text": [
            "Training Set Shape : (2886, 3)\n",
            "Validation Set Shape : (722, 3)\n"
          ],
          "name": "stdout"
        }
      ]
    },
    {
      "cell_type": "code",
      "metadata": {
        "id": "n-xbxZVCyB_K",
        "colab_type": "code",
        "colab": {
          "base_uri": "https://localhost:8080/",
          "height": 0
        },
        "outputId": "bccce576-a149-4dd4-9de7-b166f939fd28"
      },
      "source": [
        "train_l = []\n",
        "label_l = []\n",
        "index_l =[]\n",
        "for idx,row in train.iterrows():\n",
        "  for l in row['text_split']:\n",
        "    train_l.append(l)\n",
        "    label_l.append(row['label'])\n",
        "    index_l.append(idx)\n",
        "len(train_l), len(label_l), len(index_l)"
      ],
      "execution_count": 57,
      "outputs": [
        {
          "output_type": "execute_result",
          "data": {
            "text/plain": [
              "(3722, 3722, 3722)"
            ]
          },
          "metadata": {
            "tags": []
          },
          "execution_count": 57
        }
      ]
    },
    {
      "cell_type": "code",
      "metadata": {
        "id": "bux8PxVAyCFG",
        "colab_type": "code",
        "colab": {
          "base_uri": "https://localhost:8080/",
          "height": 0
        },
        "outputId": "64653501-9934-45e4-d02a-84cbdca0e12f"
      },
      "source": [
        "val_l = []\n",
        "val_label_l = []\n",
        "val_index_l = []\n",
        "for idx,row in val.iterrows():\n",
        "  for l in row['text_split']:\n",
        "    val_l.append(l)\n",
        "    val_label_l.append(row['label'])\n",
        "    val_index_l.append(idx)\n",
        "len(val_l), len(val_label_l), len(val_index_l)\n"
      ],
      "execution_count": 58,
      "outputs": [
        {
          "output_type": "execute_result",
          "data": {
            "text/plain": [
              "(919, 919, 919)"
            ]
          },
          "metadata": {
            "tags": []
          },
          "execution_count": 58
        }
      ]
    },
    {
      "cell_type": "code",
      "metadata": {
        "id": "FBxEYeq9Hzkt",
        "colab_type": "code",
        "colab": {
          "base_uri": "https://localhost:8080/",
          "height": 0
        },
        "outputId": "87bf8833-7f99-4d12-c7bb-ec74d476e907"
      },
      "source": [
        "DATA_COLUMN = 'text'\n",
        "LABEL_COLUMN = 'label'\n",
        "label_list = [x for x in np.unique(train.label)]\n",
        "label_list"
      ],
      "execution_count": 59,
      "outputs": [
        {
          "output_type": "execute_result",
          "data": {
            "text/plain": [
              "[0, 1]"
            ]
          },
          "metadata": {
            "tags": []
          },
          "execution_count": 59
        }
      ]
    },
    {
      "cell_type": "code",
      "metadata": {
        "id": "NqhpuZdCyCI5",
        "colab_type": "code",
        "colab": {
          "base_uri": "https://localhost:8080/",
          "height": 0
        },
        "outputId": "c418007e-4ba1-4263-e203-65ed2dd26a84"
      },
      "source": [
        "train_df = pd.DataFrame({DATA_COLUMN:train_l, LABEL_COLUMN:label_l})\n",
        "train_df.head()"
      ],
      "execution_count": 60,
      "outputs": [
        {
          "output_type": "execute_result",
          "data": {
            "text/html": [
              "<div>\n",
              "<style scoped>\n",
              "    .dataframe tbody tr th:only-of-type {\n",
              "        vertical-align: middle;\n",
              "    }\n",
              "\n",
              "    .dataframe tbody tr th {\n",
              "        vertical-align: top;\n",
              "    }\n",
              "\n",
              "    .dataframe thead th {\n",
              "        text-align: right;\n",
              "    }\n",
              "</style>\n",
              "<table border=\"1\" class=\"dataframe\">\n",
              "  <thead>\n",
              "    <tr style=\"text-align: right;\">\n",
              "      <th></th>\n",
              "      <th>text</th>\n",
              "      <th>label</th>\n",
              "    </tr>\n",
              "  </thead>\n",
              "  <tbody>\n",
              "    <tr>\n",
              "      <th>0</th>\n",
              "      <td>Minimum Required Skills Photoshop Front End De...</td>\n",
              "      <td>1</td>\n",
              "    </tr>\n",
              "    <tr>\n",
              "      <th>1</th>\n",
              "      <td>environment paid vacataion What You Will Be Do...</td>\n",
              "      <td>1</td>\n",
              "    </tr>\n",
              "    <tr>\n",
              "      <th>2</th>\n",
              "      <td>With years business Group One Trading leading ...</td>\n",
              "      <td>0</td>\n",
              "    </tr>\n",
              "    <tr>\n",
              "      <th>3</th>\n",
              "      <td>Entry Help Desk Coordinator Skills years exper...</td>\n",
              "      <td>0</td>\n",
              "    </tr>\n",
              "    <tr>\n",
              "      <th>4</th>\n",
              "      <td>Minimum Required Skills REST APIs Agile Java U...</td>\n",
              "      <td>1</td>\n",
              "    </tr>\n",
              "  </tbody>\n",
              "</table>\n",
              "</div>"
            ],
            "text/plain": [
              "                                                text  label\n",
              "0  Minimum Required Skills Photoshop Front End De...      1\n",
              "1  environment paid vacataion What You Will Be Do...      1\n",
              "2  With years business Group One Trading leading ...      0\n",
              "3  Entry Help Desk Coordinator Skills years exper...      0\n",
              "4  Minimum Required Skills REST APIs Agile Java U...      1"
            ]
          },
          "metadata": {
            "tags": []
          },
          "execution_count": 60
        }
      ]
    },
    {
      "cell_type": "code",
      "metadata": {
        "id": "wVEYPHbnyCMD",
        "colab_type": "code",
        "colab": {
          "base_uri": "https://localhost:8080/",
          "height": 0
        },
        "outputId": "90e92c1d-8b05-4f56-fd28-5dedcf318f1c"
      },
      "source": [
        "val_df = pd.DataFrame({DATA_COLUMN:val_l, LABEL_COLUMN:val_label_l})\n",
        "val_df.head()"
      ],
      "execution_count": 61,
      "outputs": [
        {
          "output_type": "execute_result",
          "data": {
            "text/html": [
              "<div>\n",
              "<style scoped>\n",
              "    .dataframe tbody tr th:only-of-type {\n",
              "        vertical-align: middle;\n",
              "    }\n",
              "\n",
              "    .dataframe tbody tr th {\n",
              "        vertical-align: top;\n",
              "    }\n",
              "\n",
              "    .dataframe thead th {\n",
              "        text-align: right;\n",
              "    }\n",
              "</style>\n",
              "<table border=\"1\" class=\"dataframe\">\n",
              "  <thead>\n",
              "    <tr style=\"text-align: right;\">\n",
              "      <th></th>\n",
              "      <th>text</th>\n",
              "      <th>label</th>\n",
              "    </tr>\n",
              "  </thead>\n",
              "  <tbody>\n",
              "    <tr>\n",
              "      <th>0</th>\n",
              "      <td>Minimum Required Skills Linux DevOps Chef Pupp...</td>\n",
              "      <td>1</td>\n",
              "    </tr>\n",
              "    <tr>\n",
              "      <th>1</th>\n",
              "      <td>cutting edge technology solutions.What You Nee...</td>\n",
              "      <td>1</td>\n",
              "    </tr>\n",
              "    <tr>\n",
              "      <th>2</th>\n",
              "      <td>Skills Mandatory PreferableTechnical Skills ye...</td>\n",
              "      <td>1</td>\n",
              "    </tr>\n",
              "    <tr>\n",
              "      <th>3</th>\n",
              "      <td>Title .NET Developer Location Boca Raton FL Du...</td>\n",
              "      <td>1</td>\n",
              "    </tr>\n",
              "    <tr>\n",
              "      <th>4</th>\n",
              "      <td>SQL Server TSQL Xml Xslt Object Oriented Analy...</td>\n",
              "      <td>1</td>\n",
              "    </tr>\n",
              "  </tbody>\n",
              "</table>\n",
              "</div>"
            ],
            "text/plain": [
              "                                                text  label\n",
              "0  Minimum Required Skills Linux DevOps Chef Pupp...      1\n",
              "1  cutting edge technology solutions.What You Nee...      1\n",
              "2  Skills Mandatory PreferableTechnical Skills ye...      1\n",
              "3  Title .NET Developer Location Boca Raton FL Du...      1\n",
              "4  SQL Server TSQL Xml Xslt Object Oriented Analy...      1"
            ]
          },
          "metadata": {
            "tags": []
          },
          "execution_count": 61
        }
      ]
    },
    {
      "cell_type": "code",
      "metadata": {
        "id": "pyS4wSOuyCPk",
        "colab_type": "code",
        "colab": {}
      },
      "source": [
        ""
      ],
      "execution_count": 61,
      "outputs": []
    },
    {
      "cell_type": "markdown",
      "metadata": {
        "id": "PU1eoS_3IWBx",
        "colab_type": "text"
      },
      "source": [
        "### 2. BERT: Data Preprocessing"
      ]
    },
    {
      "cell_type": "code",
      "metadata": {
        "id": "aMk60JpVyCTA",
        "colab_type": "code",
        "colab": {
          "base_uri": "https://localhost:8080/",
          "height": 51
        },
        "outputId": "0dfb39f2-53ae-4129-b97c-76d1650de577"
      },
      "source": [
        "# outcome for Data Preprocessing is train_df and val_df\n",
        "print(\"Training Set Shape :\", train_df.shape)\n",
        "print(\"Validation Set Shape :\", val_df.shape)"
      ],
      "execution_count": 62,
      "outputs": [
        {
          "output_type": "stream",
          "text": [
            "Training Set Shape : (3722, 2)\n",
            "Validation Set Shape : (919, 2)\n"
          ],
          "name": "stdout"
        }
      ]
    },
    {
      "cell_type": "code",
      "metadata": {
        "id": "Cx761MUhyCWR",
        "colab_type": "code",
        "colab": {}
      },
      "source": [
        "#Process the data for BERT\n",
        "train_InputExamples = train_df.apply(lambda x: bert.run_classifier.InputExample(guid=None,\n",
        "                                                                   text_a = x[DATA_COLUMN], \n",
        "                                                                   text_b = None, \n",
        "                                                                   label = x[LABEL_COLUMN]), axis = 1)\n",
        "\n",
        "val_InputExamples = val_df.apply(lambda x: bert.run_classifier.InputExample(guid=None, \n",
        "                                                                   text_a = x[DATA_COLUMN], \n",
        "                                                                   text_b = None, \n",
        "                                                                   label = x[LABEL_COLUMN]), axis = 1)"
      ],
      "execution_count": 63,
      "outputs": []
    },
    {
      "cell_type": "code",
      "metadata": {
        "id": "j57G3Bc-sA6p",
        "colab_type": "code",
        "colab": {
          "base_uri": "https://localhost:8080/",
          "height": 221
        },
        "outputId": "afd41599-86d5-48dc-c665-301b2a544fa5"
      },
      "source": [
        "train_InputExamples"
      ],
      "execution_count": 64,
      "outputs": [
        {
          "output_type": "execute_result",
          "data": {
            "text/plain": [
              "0       <bert.run_classifier.InputExample object at 0x...\n",
              "1       <bert.run_classifier.InputExample object at 0x...\n",
              "2       <bert.run_classifier.InputExample object at 0x...\n",
              "3       <bert.run_classifier.InputExample object at 0x...\n",
              "4       <bert.run_classifier.InputExample object at 0x...\n",
              "                              ...                        \n",
              "3717    <bert.run_classifier.InputExample object at 0x...\n",
              "3718    <bert.run_classifier.InputExample object at 0x...\n",
              "3719    <bert.run_classifier.InputExample object at 0x...\n",
              "3720    <bert.run_classifier.InputExample object at 0x...\n",
              "3721    <bert.run_classifier.InputExample object at 0x...\n",
              "Length: 3722, dtype: object"
            ]
          },
          "metadata": {
            "tags": []
          },
          "execution_count": 64
        }
      ]
    },
    {
      "cell_type": "code",
      "metadata": {
        "id": "noblsZo0Ocg6",
        "colab_type": "code",
        "colab": {
          "base_uri": "https://localhost:8080/",
          "height": 207
        },
        "outputId": "dde8aa93-109d-4b9e-9493-71b2f8345ea6"
      },
      "source": [
        "print(\"Row 0 - guid of training set : \", train_InputExamples.iloc[0].guid)\n",
        "print(\"\\n__________\\nRow 0 - text_a of training set : \", train_InputExamples.iloc[0].text_a)\n",
        "print(\"\\n__________\\nRow 0 - text_b of training set : \", train_InputExamples.iloc[0].text_b)\n",
        "print(\"\\n__________\\nRow 0 - label of training set : \", train_InputExamples.iloc[0].label)"
      ],
      "execution_count": 65,
      "outputs": [
        {
          "output_type": "stream",
          "text": [
            "Row 0 - guid of training set :  None\n",
            "\n",
            "__________\n",
            "Row 0 - text_a of training set :  Minimum Required Skills Photoshop Front End Development JavaScript JQuery HTML CSS Wireframes Mock ups Prototypes AJAX UX Development EXT JS If UX Developer experience please read Based Carlsbad CA one fastest growing supply chain intelligence companies hit market . We well funded well established company growing rapidly unique target market using cloud based technology collect analyze distribute big data supply chain intelligence order optimize efficiency logistics supply chain companies country . We excellent leadership made company flourishing San Diego area . Currently seeking highly skilled UX Developer experience Front End Development User Interface User Experience development Javascript .JS D . If strong working HTML HTML CSS CSS .JS Ext JS D skills listed read . We need someone extensive experience UI UX web development skills would love opportunity speak amazing opportunityTop Reasons Work Us Competitive Salary Great Benefits Brand New MAC PC hired work Flexible hours schedule week Fun work environment paid vacataion What You Will Be Doing Identify user requirements specifications Maintain complex files rapid prototyping Work design team product owners define optimal design specifications capabilitiesWhat You Need PositionMore Than Years experience knowledge Must UX UI Web Development Must experienced Angular Ember Backbone Node JS D Must solid Javascript\n",
            "\n",
            "__________\n",
            "Row 0 - text_b of training set :  None\n",
            "\n",
            "__________\n",
            "Row 0 - label of training set :  1\n"
          ],
          "name": "stdout"
        }
      ]
    },
    {
      "cell_type": "markdown",
      "metadata": {
        "id": "SrCMhVV0PKG-",
        "colab_type": "text"
      },
      "source": [
        "### 3. BERT: Loading the pre-trained model"
      ]
    },
    {
      "cell_type": "code",
      "metadata": {
        "id": "RmpjzfhpOckR",
        "colab_type": "code",
        "colab": {
          "base_uri": "https://localhost:8080/",
          "height": 139
        },
        "outputId": "434798ea-00f1-4173-dc3d-8dadbea875db"
      },
      "source": [
        "# This is a path to an uncased (all lowercase) version of BERT\n",
        "BERT_MODEL_HUB = \"https://tfhub.dev/google/bert_uncased_L-12_H-768_A-12/1\"\n",
        "\n",
        "def create_tokenizer_from_hub_module():\n",
        "  \"\"\"Get the vocab file and casing info from the Hub module.\"\"\"\n",
        "  with tf.Graph().as_default():\n",
        "    bert_module = hub.Module(BERT_MODEL_HUB)\n",
        "    tokenization_info = bert_module(signature=\"tokenization_info\", as_dict=True)\n",
        "    with tf.Session() as sess:\n",
        "      vocab_file, do_lower_case = sess.run([tokenization_info[\"vocab_file\"],\n",
        "                                            tokenization_info[\"do_lower_case\"]])\n",
        "      \n",
        "  return bert.tokenization.FullTokenizer(\n",
        "      vocab_file=vocab_file, do_lower_case=do_lower_case)\n",
        "\n",
        "tokenizer = create_tokenizer_from_hub_module()"
      ],
      "execution_count": 66,
      "outputs": [
        {
          "output_type": "stream",
          "text": [
            "INFO:tensorflow:Saver not created because there are no variables in the graph to restore\n"
          ],
          "name": "stdout"
        },
        {
          "output_type": "stream",
          "text": [
            "INFO:tensorflow:Saver not created because there are no variables in the graph to restore\n"
          ],
          "name": "stderr"
        },
        {
          "output_type": "stream",
          "text": [
            "WARNING:tensorflow:From /usr/local/lib/python3.6/dist-packages/bert/tokenization.py:125: The name tf.gfile.GFile is deprecated. Please use tf.io.gfile.GFile instead.\n",
            "\n"
          ],
          "name": "stdout"
        },
        {
          "output_type": "stream",
          "text": [
            "WARNING:tensorflow:From /usr/local/lib/python3.6/dist-packages/bert/tokenization.py:125: The name tf.gfile.GFile is deprecated. Please use tf.io.gfile.GFile instead.\n",
            "\n"
          ],
          "name": "stderr"
        }
      ]
    },
    {
      "cell_type": "code",
      "metadata": {
        "id": "pxCMVUQ0Ocni",
        "colab_type": "code",
        "colab": {
          "base_uri": "https://localhost:8080/",
          "height": 34
        },
        "outputId": "d92d5a9c-a0d8-40e9-97f4-cc6c61f760a6"
      },
      "source": [
        "len(tokenizer.vocab.keys())"
      ],
      "execution_count": 67,
      "outputs": [
        {
          "output_type": "execute_result",
          "data": {
            "text/plain": [
              "30522"
            ]
          },
          "metadata": {
            "tags": []
          },
          "execution_count": 67
        }
      ]
    },
    {
      "cell_type": "code",
      "metadata": {
        "id": "zFOv6mw-Y6vV",
        "colab_type": "code",
        "colab": {
          "base_uri": "https://localhost:8080/",
          "height": 0
        },
        "outputId": "efc88e74-7459-4325-e85b-66b80cb432c1"
      },
      "source": [
        "train_InputExamples.iloc[0].text_a"
      ],
      "execution_count": 68,
      "outputs": [
        {
          "output_type": "execute_result",
          "data": {
            "application/vnd.google.colaboratory.intrinsic": {
              "type": "string"
            },
            "text/plain": [
              "'Minimum Required Skills Photoshop Front End Development JavaScript JQuery HTML CSS Wireframes Mock ups Prototypes AJAX UX Development EXT JS If UX Developer experience please read Based Carlsbad CA one fastest growing supply chain intelligence companies hit market . We well funded well established company growing rapidly unique target market using cloud based technology collect analyze distribute big data supply chain intelligence order optimize efficiency logistics supply chain companies country . We excellent leadership made company flourishing San Diego area . Currently seeking highly skilled UX Developer experience Front End Development User Interface User Experience development Javascript .JS D . If strong working HTML HTML CSS CSS .JS Ext JS D skills listed read . We need someone extensive experience UI UX web development skills would love opportunity speak amazing opportunityTop Reasons Work Us Competitive Salary Great Benefits Brand New MAC PC hired work Flexible hours schedule week Fun work environment paid vacataion What You Will Be Doing Identify user requirements specifications Maintain complex files rapid prototyping Work design team product owners define optimal design specifications capabilitiesWhat You Need PositionMore Than Years experience knowledge Must UX UI Web Development Must experienced Angular Ember Backbone Node JS D Must solid Javascript'"
            ]
          },
          "metadata": {
            "tags": []
          },
          "execution_count": 68
        }
      ]
    },
    {
      "cell_type": "code",
      "metadata": {
        "id": "8GLUiX-gOcq2",
        "colab_type": "code",
        "colab": {
          "base_uri": "https://localhost:8080/",
          "height": 0
        },
        "outputId": "11236a60-6ec6-4fbb-a1bf-b67747587c62"
      },
      "source": [
        "print(tokenizer.tokenize(train_InputExamples.iloc[0].text_a))"
      ],
      "execution_count": 69,
      "outputs": [
        {
          "output_type": "stream",
          "text": [
            "['minimum', 'required', 'skills', 'photos', '##hop', 'front', 'end', 'development', 'java', '##script', 'j', '##que', '##ry', 'html', 'cs', '##s', 'wire', '##frame', '##s', 'mock', 'ups', 'prototypes', 'ajax', 'u', '##x', 'development', 'ex', '##t', 'j', '##s', 'if', 'u', '##x', 'developer', 'experience', 'please', 'read', 'based', 'carl', '##sb', '##ad', 'ca', 'one', 'fastest', 'growing', 'supply', 'chain', 'intelligence', 'companies', 'hit', 'market', '.', 'we', 'well', 'funded', 'well', 'established', 'company', 'growing', 'rapidly', 'unique', 'target', 'market', 'using', 'cloud', 'based', 'technology', 'collect', 'analyze', 'distribute', 'big', 'data', 'supply', 'chain', 'intelligence', 'order', 'opt', '##imi', '##ze', 'efficiency', 'logistics', 'supply', 'chain', 'companies', 'country', '.', 'we', 'excellent', 'leadership', 'made', 'company', 'flourishing', 'san', 'diego', 'area', '.', 'currently', 'seeking', 'highly', 'skilled', 'u', '##x', 'developer', 'experience', 'front', 'end', 'development', 'user', 'interface', 'user', 'experience', 'development', 'java', '##script', '.', 'j', '##s', 'd', '.', 'if', 'strong', 'working', 'html', 'html', 'cs', '##s', 'cs', '##s', '.', 'j', '##s', 'ex', '##t', 'j', '##s', 'd', 'skills', 'listed', 'read', '.', 'we', 'need', 'someone', 'extensive', 'experience', 'ui', 'u', '##x', 'web', 'development', 'skills', 'would', 'love', 'opportunity', 'speak', 'amazing', 'opportunity', '##top', 'reasons', 'work', 'us', 'competitive', 'salary', 'great', 'benefits', 'brand', 'new', 'mac', 'pc', 'hired', 'work', 'flexible', 'hours', 'schedule', 'week', 'fun', 'work', 'environment', 'paid', 'va', '##cat', '##ai', '##on', 'what', 'you', 'will', 'be', 'doing', 'identify', 'user', 'requirements', 'specifications', 'maintain', 'complex', 'files', 'rapid', 'proto', '##ty', '##ping', 'work', 'design', 'team', 'product', 'owners', 'define', 'optimal', 'design', 'specifications', 'capabilities', '##w', '##hat', 'you', 'need', 'position', '##more', 'than', 'years', 'experience', 'knowledge', 'must', 'u', '##x', 'ui', 'web', 'development', 'must', 'experienced', 'angular', 'em', '##ber', 'backbone', 'node', 'j', '##s', 'd', 'must', 'solid', 'java', '##script']\n"
          ],
          "name": "stdout"
        }
      ]
    },
    {
      "cell_type": "code",
      "metadata": {
        "id": "SNfccsFHVFTe",
        "colab_type": "code",
        "colab": {}
      },
      "source": [
        "MAX_SEQ_LENGTH = 200"
      ],
      "execution_count": 70,
      "outputs": []
    },
    {
      "cell_type": "code",
      "metadata": {
        "id": "VJO2NBGtVFW2",
        "colab_type": "code",
        "colab": {
          "base_uri": "https://localhost:8080/",
          "height": 0
        },
        "outputId": "e04ea61d-0087-4671-9d9e-2778e1b987c2"
      },
      "source": [
        "# Convert our train and validation features to InputFeatures that BERT understands.\n",
        "train_features = bert.run_classifier.convert_examples_to_features(train_InputExamples, label_list, MAX_SEQ_LENGTH, tokenizer)\n",
        "\n",
        "val_features = bert.run_classifier.convert_examples_to_features(val_InputExamples, label_list, MAX_SEQ_LENGTH, tokenizer)"
      ],
      "execution_count": 72,
      "outputs": [
        {
          "output_type": "stream",
          "text": [
            "INFO:tensorflow:Writing example 0 of 3722\n"
          ],
          "name": "stdout"
        },
        {
          "output_type": "stream",
          "text": [
            "INFO:tensorflow:Writing example 0 of 3722\n"
          ],
          "name": "stderr"
        },
        {
          "output_type": "stream",
          "text": [
            "INFO:tensorflow:*** Example ***\n"
          ],
          "name": "stdout"
        },
        {
          "output_type": "stream",
          "text": [
            "INFO:tensorflow:*** Example ***\n"
          ],
          "name": "stderr"
        },
        {
          "output_type": "stream",
          "text": [
            "INFO:tensorflow:guid: None\n"
          ],
          "name": "stdout"
        },
        {
          "output_type": "stream",
          "text": [
            "INFO:tensorflow:guid: None\n"
          ],
          "name": "stderr"
        },
        {
          "output_type": "stream",
          "text": [
            "INFO:tensorflow:tokens: [CLS] minimum required skills photos ##hop front end development java ##script j ##que ##ry html cs ##s wire ##frame ##s mock ups prototypes ajax u ##x development ex ##t j ##s if u ##x developer experience please read based carl ##sb ##ad ca one fastest growing supply chain intelligence companies hit market . we well funded well established company growing rapidly unique target market using cloud based technology collect analyze distribute big data supply chain intelligence order opt ##imi ##ze efficiency logistics supply chain companies country . we excellent leadership made company flourishing san diego area . currently seeking highly skilled u ##x developer experience front end development user interface user experience development java ##script . j ##s d . if strong working html html cs ##s cs ##s . j ##s ex ##t j ##s d skills listed read . we need someone extensive experience ui u ##x web development skills would love opportunity speak amazing opportunity ##top reasons work us competitive salary great benefits brand new mac pc hired work flexible hours schedule week fun work environment paid va ##cat ##ai ##on what you will be doing identify user requirements specifications maintain complex files rapid proto ##ty [SEP]\n"
          ],
          "name": "stdout"
        },
        {
          "output_type": "stream",
          "text": [
            "INFO:tensorflow:tokens: [CLS] minimum required skills photos ##hop front end development java ##script j ##que ##ry html cs ##s wire ##frame ##s mock ups prototypes ajax u ##x development ex ##t j ##s if u ##x developer experience please read based carl ##sb ##ad ca one fastest growing supply chain intelligence companies hit market . we well funded well established company growing rapidly unique target market using cloud based technology collect analyze distribute big data supply chain intelligence order opt ##imi ##ze efficiency logistics supply chain companies country . we excellent leadership made company flourishing san diego area . currently seeking highly skilled u ##x developer experience front end development user interface user experience development java ##script . j ##s d . if strong working html html cs ##s cs ##s . j ##s ex ##t j ##s d skills listed read . we need someone extensive experience ui u ##x web development skills would love opportunity speak amazing opportunity ##top reasons work us competitive salary great benefits brand new mac pc hired work flexible hours schedule week fun work environment paid va ##cat ##ai ##on what you will be doing identify user requirements specifications maintain complex files rapid proto ##ty [SEP]\n"
          ],
          "name": "stderr"
        },
        {
          "output_type": "stream",
          "text": [
            "INFO:tensorflow:input_ids: 101 6263 3223 4813 7760 18471 2392 2203 2458 9262 22483 1046 4226 2854 16129 20116 2015 7318 15643 2015 12934 11139 19599 18176 1057 2595 2458 4654 2102 1046 2015 2065 1057 2595 9722 3325 3531 3191 2241 5529 19022 4215 6187 2028 7915 3652 4425 4677 4454 3316 2718 3006 1012 2057 2092 6787 2092 2511 2194 3652 5901 4310 4539 3006 2478 6112 2241 2974 8145 17908 16062 2502 2951 4425 4677 4454 2344 23569 27605 4371 8122 12708 4425 4677 3316 2406 1012 2057 6581 4105 2081 2194 29571 2624 5277 2181 1012 2747 6224 3811 10571 1057 2595 9722 3325 2392 2203 2458 5310 8278 5310 3325 2458 9262 22483 1012 1046 2015 1040 1012 2065 2844 2551 16129 16129 20116 2015 20116 2015 1012 1046 2015 4654 2102 1046 2015 1040 4813 3205 3191 1012 2057 2342 2619 4866 3325 21318 1057 2595 4773 2458 4813 2052 2293 4495 3713 6429 4495 14399 4436 2147 2149 6975 10300 2307 6666 4435 2047 6097 7473 5086 2147 12379 2847 6134 2733 4569 2147 4044 3825 12436 11266 4886 2239 2054 2017 2097 2022 2725 6709 5310 5918 15480 5441 3375 6764 5915 15053 3723 102\n"
          ],
          "name": "stdout"
        },
        {
          "output_type": "stream",
          "text": [
            "INFO:tensorflow:input_ids: 101 6263 3223 4813 7760 18471 2392 2203 2458 9262 22483 1046 4226 2854 16129 20116 2015 7318 15643 2015 12934 11139 19599 18176 1057 2595 2458 4654 2102 1046 2015 2065 1057 2595 9722 3325 3531 3191 2241 5529 19022 4215 6187 2028 7915 3652 4425 4677 4454 3316 2718 3006 1012 2057 2092 6787 2092 2511 2194 3652 5901 4310 4539 3006 2478 6112 2241 2974 8145 17908 16062 2502 2951 4425 4677 4454 2344 23569 27605 4371 8122 12708 4425 4677 3316 2406 1012 2057 6581 4105 2081 2194 29571 2624 5277 2181 1012 2747 6224 3811 10571 1057 2595 9722 3325 2392 2203 2458 5310 8278 5310 3325 2458 9262 22483 1012 1046 2015 1040 1012 2065 2844 2551 16129 16129 20116 2015 20116 2015 1012 1046 2015 4654 2102 1046 2015 1040 4813 3205 3191 1012 2057 2342 2619 4866 3325 21318 1057 2595 4773 2458 4813 2052 2293 4495 3713 6429 4495 14399 4436 2147 2149 6975 10300 2307 6666 4435 2047 6097 7473 5086 2147 12379 2847 6134 2733 4569 2147 4044 3825 12436 11266 4886 2239 2054 2017 2097 2022 2725 6709 5310 5918 15480 5441 3375 6764 5915 15053 3723 102\n"
          ],
          "name": "stderr"
        },
        {
          "output_type": "stream",
          "text": [
            "INFO:tensorflow:input_mask: 1 1 1 1 1 1 1 1 1 1 1 1 1 1 1 1 1 1 1 1 1 1 1 1 1 1 1 1 1 1 1 1 1 1 1 1 1 1 1 1 1 1 1 1 1 1 1 1 1 1 1 1 1 1 1 1 1 1 1 1 1 1 1 1 1 1 1 1 1 1 1 1 1 1 1 1 1 1 1 1 1 1 1 1 1 1 1 1 1 1 1 1 1 1 1 1 1 1 1 1 1 1 1 1 1 1 1 1 1 1 1 1 1 1 1 1 1 1 1 1 1 1 1 1 1 1 1 1 1 1 1 1 1 1 1 1 1 1 1 1 1 1 1 1 1 1 1 1 1 1 1 1 1 1 1 1 1 1 1 1 1 1 1 1 1 1 1 1 1 1 1 1 1 1 1 1 1 1 1 1 1 1 1 1 1 1 1 1 1 1 1 1 1 1 1 1 1 1 1 1\n"
          ],
          "name": "stdout"
        },
        {
          "output_type": "stream",
          "text": [
            "INFO:tensorflow:input_mask: 1 1 1 1 1 1 1 1 1 1 1 1 1 1 1 1 1 1 1 1 1 1 1 1 1 1 1 1 1 1 1 1 1 1 1 1 1 1 1 1 1 1 1 1 1 1 1 1 1 1 1 1 1 1 1 1 1 1 1 1 1 1 1 1 1 1 1 1 1 1 1 1 1 1 1 1 1 1 1 1 1 1 1 1 1 1 1 1 1 1 1 1 1 1 1 1 1 1 1 1 1 1 1 1 1 1 1 1 1 1 1 1 1 1 1 1 1 1 1 1 1 1 1 1 1 1 1 1 1 1 1 1 1 1 1 1 1 1 1 1 1 1 1 1 1 1 1 1 1 1 1 1 1 1 1 1 1 1 1 1 1 1 1 1 1 1 1 1 1 1 1 1 1 1 1 1 1 1 1 1 1 1 1 1 1 1 1 1 1 1 1 1 1 1 1 1 1 1 1 1\n"
          ],
          "name": "stderr"
        },
        {
          "output_type": "stream",
          "text": [
            "INFO:tensorflow:segment_ids: 0 0 0 0 0 0 0 0 0 0 0 0 0 0 0 0 0 0 0 0 0 0 0 0 0 0 0 0 0 0 0 0 0 0 0 0 0 0 0 0 0 0 0 0 0 0 0 0 0 0 0 0 0 0 0 0 0 0 0 0 0 0 0 0 0 0 0 0 0 0 0 0 0 0 0 0 0 0 0 0 0 0 0 0 0 0 0 0 0 0 0 0 0 0 0 0 0 0 0 0 0 0 0 0 0 0 0 0 0 0 0 0 0 0 0 0 0 0 0 0 0 0 0 0 0 0 0 0 0 0 0 0 0 0 0 0 0 0 0 0 0 0 0 0 0 0 0 0 0 0 0 0 0 0 0 0 0 0 0 0 0 0 0 0 0 0 0 0 0 0 0 0 0 0 0 0 0 0 0 0 0 0 0 0 0 0 0 0 0 0 0 0 0 0 0 0 0 0 0 0\n"
          ],
          "name": "stdout"
        },
        {
          "output_type": "stream",
          "text": [
            "INFO:tensorflow:segment_ids: 0 0 0 0 0 0 0 0 0 0 0 0 0 0 0 0 0 0 0 0 0 0 0 0 0 0 0 0 0 0 0 0 0 0 0 0 0 0 0 0 0 0 0 0 0 0 0 0 0 0 0 0 0 0 0 0 0 0 0 0 0 0 0 0 0 0 0 0 0 0 0 0 0 0 0 0 0 0 0 0 0 0 0 0 0 0 0 0 0 0 0 0 0 0 0 0 0 0 0 0 0 0 0 0 0 0 0 0 0 0 0 0 0 0 0 0 0 0 0 0 0 0 0 0 0 0 0 0 0 0 0 0 0 0 0 0 0 0 0 0 0 0 0 0 0 0 0 0 0 0 0 0 0 0 0 0 0 0 0 0 0 0 0 0 0 0 0 0 0 0 0 0 0 0 0 0 0 0 0 0 0 0 0 0 0 0 0 0 0 0 0 0 0 0 0 0 0 0 0 0\n"
          ],
          "name": "stderr"
        },
        {
          "output_type": "stream",
          "text": [
            "INFO:tensorflow:label: 1 (id = 1)\n"
          ],
          "name": "stdout"
        },
        {
          "output_type": "stream",
          "text": [
            "INFO:tensorflow:label: 1 (id = 1)\n"
          ],
          "name": "stderr"
        },
        {
          "output_type": "stream",
          "text": [
            "INFO:tensorflow:*** Example ***\n"
          ],
          "name": "stdout"
        },
        {
          "output_type": "stream",
          "text": [
            "INFO:tensorflow:*** Example ***\n"
          ],
          "name": "stderr"
        },
        {
          "output_type": "stream",
          "text": [
            "INFO:tensorflow:guid: None\n"
          ],
          "name": "stdout"
        },
        {
          "output_type": "stream",
          "text": [
            "INFO:tensorflow:guid: None\n"
          ],
          "name": "stderr"
        },
        {
          "output_type": "stream",
          "text": [
            "INFO:tensorflow:tokens: [CLS] environment paid va ##cat ##ai ##on what you will be doing identify user requirements specifications maintain complex files rapid proto ##ty ##ping work design team product owners define optimal design specifications capabilities ##w ##hat you need position ##more than years experience knowledge must u ##x ui web development must experienced angular em ##ber backbone node j ##s d must solid java ##script j ##que ##ry ajax must experience html html cs ##s cs ##s must comfortable ex ##t j ##s . j ##s language ##w ##hat in it you competitive salary doe new mac choice remote days week bonus vacation pt ##o medical dental vision k match ##so u ##x developer experience please apply today applicants must authorized work u . s . please apply directly clicking click here apply word resume looking forward receiving resume going position detail . not fit position click link bottom email search open positions . looking forward receiving resume cyber ##code ##rs ##cy ##ber ##code ##rs inc proud equal opportunity employer ##all qualified applicants receive consideration employment without regard race color religion sex national origin disability protected veteran status characteristic protected law . your right work in compliance federal law persons hired [SEP]\n"
          ],
          "name": "stdout"
        },
        {
          "output_type": "stream",
          "text": [
            "INFO:tensorflow:tokens: [CLS] environment paid va ##cat ##ai ##on what you will be doing identify user requirements specifications maintain complex files rapid proto ##ty ##ping work design team product owners define optimal design specifications capabilities ##w ##hat you need position ##more than years experience knowledge must u ##x ui web development must experienced angular em ##ber backbone node j ##s d must solid java ##script j ##que ##ry ajax must experience html html cs ##s cs ##s must comfortable ex ##t j ##s . j ##s language ##w ##hat in it you competitive salary doe new mac choice remote days week bonus vacation pt ##o medical dental vision k match ##so u ##x developer experience please apply today applicants must authorized work u . s . please apply directly clicking click here apply word resume looking forward receiving resume going position detail . not fit position click link bottom email search open positions . looking forward receiving resume cyber ##code ##rs ##cy ##ber ##code ##rs inc proud equal opportunity employer ##all qualified applicants receive consideration employment without regard race color religion sex national origin disability protected veteran status characteristic protected law . your right work in compliance federal law persons hired [SEP]\n"
          ],
          "name": "stderr"
        },
        {
          "output_type": "stream",
          "text": [
            "INFO:tensorflow:input_ids: 101 4044 3825 12436 11266 4886 2239 2054 2017 2097 2022 2725 6709 5310 5918 15480 5441 3375 6764 5915 15053 3723 4691 2147 2640 2136 4031 5608 9375 15502 2640 15480 9859 2860 12707 2017 2342 2597 5974 2084 2086 3325 3716 2442 1057 2595 21318 4773 2458 2442 5281 16108 7861 5677 21505 13045 1046 2015 1040 2442 5024 9262 22483 1046 4226 2854 18176 2442 3325 16129 16129 20116 2015 20116 2015 2442 6625 4654 2102 1046 2015 1012 1046 2015 2653 2860 12707 1999 2009 2017 6975 10300 18629 2047 6097 3601 6556 2420 2733 6781 10885 13866 2080 2966 11394 4432 1047 2674 6499 1057 2595 9722 3325 3531 6611 2651 17362 2442 9362 2147 1057 1012 1055 1012 3531 6611 3495 22042 11562 2182 6611 2773 13746 2559 2830 4909 13746 2183 2597 6987 1012 2025 4906 2597 11562 4957 3953 10373 3945 2330 4460 1012 2559 2830 4909 13746 16941 16044 2869 5666 5677 16044 2869 4297 7098 5020 4495 11194 8095 4591 17362 4374 9584 6107 2302 7634 2679 3609 4676 3348 2120 4761 11980 5123 8003 3570 8281 5123 2375 1012 2115 2157 2147 1999 12646 2976 2375 5381 5086 102\n"
          ],
          "name": "stdout"
        },
        {
          "output_type": "stream",
          "text": [
            "INFO:tensorflow:input_ids: 101 4044 3825 12436 11266 4886 2239 2054 2017 2097 2022 2725 6709 5310 5918 15480 5441 3375 6764 5915 15053 3723 4691 2147 2640 2136 4031 5608 9375 15502 2640 15480 9859 2860 12707 2017 2342 2597 5974 2084 2086 3325 3716 2442 1057 2595 21318 4773 2458 2442 5281 16108 7861 5677 21505 13045 1046 2015 1040 2442 5024 9262 22483 1046 4226 2854 18176 2442 3325 16129 16129 20116 2015 20116 2015 2442 6625 4654 2102 1046 2015 1012 1046 2015 2653 2860 12707 1999 2009 2017 6975 10300 18629 2047 6097 3601 6556 2420 2733 6781 10885 13866 2080 2966 11394 4432 1047 2674 6499 1057 2595 9722 3325 3531 6611 2651 17362 2442 9362 2147 1057 1012 1055 1012 3531 6611 3495 22042 11562 2182 6611 2773 13746 2559 2830 4909 13746 2183 2597 6987 1012 2025 4906 2597 11562 4957 3953 10373 3945 2330 4460 1012 2559 2830 4909 13746 16941 16044 2869 5666 5677 16044 2869 4297 7098 5020 4495 11194 8095 4591 17362 4374 9584 6107 2302 7634 2679 3609 4676 3348 2120 4761 11980 5123 8003 3570 8281 5123 2375 1012 2115 2157 2147 1999 12646 2976 2375 5381 5086 102\n"
          ],
          "name": "stderr"
        },
        {
          "output_type": "stream",
          "text": [
            "INFO:tensorflow:input_mask: 1 1 1 1 1 1 1 1 1 1 1 1 1 1 1 1 1 1 1 1 1 1 1 1 1 1 1 1 1 1 1 1 1 1 1 1 1 1 1 1 1 1 1 1 1 1 1 1 1 1 1 1 1 1 1 1 1 1 1 1 1 1 1 1 1 1 1 1 1 1 1 1 1 1 1 1 1 1 1 1 1 1 1 1 1 1 1 1 1 1 1 1 1 1 1 1 1 1 1 1 1 1 1 1 1 1 1 1 1 1 1 1 1 1 1 1 1 1 1 1 1 1 1 1 1 1 1 1 1 1 1 1 1 1 1 1 1 1 1 1 1 1 1 1 1 1 1 1 1 1 1 1 1 1 1 1 1 1 1 1 1 1 1 1 1 1 1 1 1 1 1 1 1 1 1 1 1 1 1 1 1 1 1 1 1 1 1 1 1 1 1 1 1 1 1 1 1 1 1 1\n"
          ],
          "name": "stdout"
        },
        {
          "output_type": "stream",
          "text": [
            "INFO:tensorflow:input_mask: 1 1 1 1 1 1 1 1 1 1 1 1 1 1 1 1 1 1 1 1 1 1 1 1 1 1 1 1 1 1 1 1 1 1 1 1 1 1 1 1 1 1 1 1 1 1 1 1 1 1 1 1 1 1 1 1 1 1 1 1 1 1 1 1 1 1 1 1 1 1 1 1 1 1 1 1 1 1 1 1 1 1 1 1 1 1 1 1 1 1 1 1 1 1 1 1 1 1 1 1 1 1 1 1 1 1 1 1 1 1 1 1 1 1 1 1 1 1 1 1 1 1 1 1 1 1 1 1 1 1 1 1 1 1 1 1 1 1 1 1 1 1 1 1 1 1 1 1 1 1 1 1 1 1 1 1 1 1 1 1 1 1 1 1 1 1 1 1 1 1 1 1 1 1 1 1 1 1 1 1 1 1 1 1 1 1 1 1 1 1 1 1 1 1 1 1 1 1 1 1\n"
          ],
          "name": "stderr"
        },
        {
          "output_type": "stream",
          "text": [
            "INFO:tensorflow:segment_ids: 0 0 0 0 0 0 0 0 0 0 0 0 0 0 0 0 0 0 0 0 0 0 0 0 0 0 0 0 0 0 0 0 0 0 0 0 0 0 0 0 0 0 0 0 0 0 0 0 0 0 0 0 0 0 0 0 0 0 0 0 0 0 0 0 0 0 0 0 0 0 0 0 0 0 0 0 0 0 0 0 0 0 0 0 0 0 0 0 0 0 0 0 0 0 0 0 0 0 0 0 0 0 0 0 0 0 0 0 0 0 0 0 0 0 0 0 0 0 0 0 0 0 0 0 0 0 0 0 0 0 0 0 0 0 0 0 0 0 0 0 0 0 0 0 0 0 0 0 0 0 0 0 0 0 0 0 0 0 0 0 0 0 0 0 0 0 0 0 0 0 0 0 0 0 0 0 0 0 0 0 0 0 0 0 0 0 0 0 0 0 0 0 0 0 0 0 0 0 0 0\n"
          ],
          "name": "stdout"
        },
        {
          "output_type": "stream",
          "text": [
            "INFO:tensorflow:segment_ids: 0 0 0 0 0 0 0 0 0 0 0 0 0 0 0 0 0 0 0 0 0 0 0 0 0 0 0 0 0 0 0 0 0 0 0 0 0 0 0 0 0 0 0 0 0 0 0 0 0 0 0 0 0 0 0 0 0 0 0 0 0 0 0 0 0 0 0 0 0 0 0 0 0 0 0 0 0 0 0 0 0 0 0 0 0 0 0 0 0 0 0 0 0 0 0 0 0 0 0 0 0 0 0 0 0 0 0 0 0 0 0 0 0 0 0 0 0 0 0 0 0 0 0 0 0 0 0 0 0 0 0 0 0 0 0 0 0 0 0 0 0 0 0 0 0 0 0 0 0 0 0 0 0 0 0 0 0 0 0 0 0 0 0 0 0 0 0 0 0 0 0 0 0 0 0 0 0 0 0 0 0 0 0 0 0 0 0 0 0 0 0 0 0 0 0 0 0 0 0 0\n"
          ],
          "name": "stderr"
        },
        {
          "output_type": "stream",
          "text": [
            "INFO:tensorflow:label: 1 (id = 1)\n"
          ],
          "name": "stdout"
        },
        {
          "output_type": "stream",
          "text": [
            "INFO:tensorflow:label: 1 (id = 1)\n"
          ],
          "name": "stderr"
        },
        {
          "output_type": "stream",
          "text": [
            "INFO:tensorflow:*** Example ***\n"
          ],
          "name": "stdout"
        },
        {
          "output_type": "stream",
          "text": [
            "INFO:tensorflow:*** Example ***\n"
          ],
          "name": "stderr"
        },
        {
          "output_type": "stream",
          "text": [
            "INFO:tensorflow:guid: None\n"
          ],
          "name": "stdout"
        },
        {
          "output_type": "stream",
          "text": [
            "INFO:tensorflow:guid: None\n"
          ],
          "name": "stderr"
        },
        {
          "output_type": "stream",
          "text": [
            "INFO:tensorflow:tokens: [CLS] with years business group one trading leading specialist market maker us equity options . our development team empowered solve challenging problems presented constantly evolving electronic trading landscape craft proprietary applications power aspects business . we looking quantitative research analyst help company improve trading strategies method ##ologies . as member development team add mathematical rig ##or process researching implementing theoretical models trading strategies build next generation trading platform . you work closely trading management development staff ensure models strategies provide right balance flexibility simplicity performance robust ##ness need tackle marketplace data volume continues increase required system late ##ncies continue decrease . group one offers competitive compensation including performance based bonus comprehensive benefits . group one small company afford ##s every employee opportunity make impact preserving healthy work life balance . this position available new york city chicago offices . unfortunately accept applications interested working remotely . however provide relocation assistance . responsibilities include research develop improved pricing models trading strategies evaluate performance existing proposed algorithms utilizing historical live data create systems regression testing models strategies provide training guidance traders proper use optimization models strategies become expert topic hand understanding existing literature experimenting work developers translate prototypes robust production ready [SEP]\n"
          ],
          "name": "stdout"
        },
        {
          "output_type": "stream",
          "text": [
            "INFO:tensorflow:tokens: [CLS] with years business group one trading leading specialist market maker us equity options . our development team empowered solve challenging problems presented constantly evolving electronic trading landscape craft proprietary applications power aspects business . we looking quantitative research analyst help company improve trading strategies method ##ologies . as member development team add mathematical rig ##or process researching implementing theoretical models trading strategies build next generation trading platform . you work closely trading management development staff ensure models strategies provide right balance flexibility simplicity performance robust ##ness need tackle marketplace data volume continues increase required system late ##ncies continue decrease . group one offers competitive compensation including performance based bonus comprehensive benefits . group one small company afford ##s every employee opportunity make impact preserving healthy work life balance . this position available new york city chicago offices . unfortunately accept applications interested working remotely . however provide relocation assistance . responsibilities include research develop improved pricing models trading strategies evaluate performance existing proposed algorithms utilizing historical live data create systems regression testing models strategies provide training guidance traders proper use optimization models strategies become expert topic hand understanding existing literature experimenting work developers translate prototypes robust production ready [SEP]\n"
          ],
          "name": "stderr"
        },
        {
          "output_type": "stream",
          "text": [
            "INFO:tensorflow:input_ids: 101 2007 2086 2449 2177 2028 6202 2877 8325 3006 9338 2149 10067 7047 1012 2256 2458 2136 26480 9611 10368 3471 3591 7887 20607 4816 6202 5957 7477 16350 5097 2373 5919 2449 1012 2057 2559 20155 2470 12941 2393 2194 5335 6202 9942 4118 20792 1012 2004 2266 2458 2136 5587 8045 19838 2953 2832 20059 14972 9373 4275 6202 9942 3857 2279 4245 6202 4132 1012 2017 2147 4876 6202 2968 2458 3095 5676 4275 9942 3073 2157 5703 16991 17839 2836 15873 2791 2342 11147 18086 2951 3872 4247 3623 3223 2291 2397 14767 3613 9885 1012 2177 2028 4107 6975 9430 2164 2836 2241 6781 7721 6666 1012 2177 2028 2235 2194 8984 2015 2296 7904 4495 2191 4254 15224 7965 2147 2166 5703 1012 2023 2597 2800 2047 2259 2103 3190 4822 1012 6854 5138 5097 4699 2551 19512 1012 2174 3073 18344 5375 1012 10198 2421 2470 4503 5301 20874 4275 6202 9942 16157 2836 4493 3818 13792 16911 3439 2444 2951 3443 3001 26237 5604 4275 9942 3073 2731 8606 13066 5372 2224 20600 4275 9942 2468 6739 8476 2192 4824 4493 3906 23781 2147 9797 17637 19599 15873 2537 3201 102\n"
          ],
          "name": "stdout"
        },
        {
          "output_type": "stream",
          "text": [
            "INFO:tensorflow:input_ids: 101 2007 2086 2449 2177 2028 6202 2877 8325 3006 9338 2149 10067 7047 1012 2256 2458 2136 26480 9611 10368 3471 3591 7887 20607 4816 6202 5957 7477 16350 5097 2373 5919 2449 1012 2057 2559 20155 2470 12941 2393 2194 5335 6202 9942 4118 20792 1012 2004 2266 2458 2136 5587 8045 19838 2953 2832 20059 14972 9373 4275 6202 9942 3857 2279 4245 6202 4132 1012 2017 2147 4876 6202 2968 2458 3095 5676 4275 9942 3073 2157 5703 16991 17839 2836 15873 2791 2342 11147 18086 2951 3872 4247 3623 3223 2291 2397 14767 3613 9885 1012 2177 2028 4107 6975 9430 2164 2836 2241 6781 7721 6666 1012 2177 2028 2235 2194 8984 2015 2296 7904 4495 2191 4254 15224 7965 2147 2166 5703 1012 2023 2597 2800 2047 2259 2103 3190 4822 1012 6854 5138 5097 4699 2551 19512 1012 2174 3073 18344 5375 1012 10198 2421 2470 4503 5301 20874 4275 6202 9942 16157 2836 4493 3818 13792 16911 3439 2444 2951 3443 3001 26237 5604 4275 9942 3073 2731 8606 13066 5372 2224 20600 4275 9942 2468 6739 8476 2192 4824 4493 3906 23781 2147 9797 17637 19599 15873 2537 3201 102\n"
          ],
          "name": "stderr"
        },
        {
          "output_type": "stream",
          "text": [
            "INFO:tensorflow:input_mask: 1 1 1 1 1 1 1 1 1 1 1 1 1 1 1 1 1 1 1 1 1 1 1 1 1 1 1 1 1 1 1 1 1 1 1 1 1 1 1 1 1 1 1 1 1 1 1 1 1 1 1 1 1 1 1 1 1 1 1 1 1 1 1 1 1 1 1 1 1 1 1 1 1 1 1 1 1 1 1 1 1 1 1 1 1 1 1 1 1 1 1 1 1 1 1 1 1 1 1 1 1 1 1 1 1 1 1 1 1 1 1 1 1 1 1 1 1 1 1 1 1 1 1 1 1 1 1 1 1 1 1 1 1 1 1 1 1 1 1 1 1 1 1 1 1 1 1 1 1 1 1 1 1 1 1 1 1 1 1 1 1 1 1 1 1 1 1 1 1 1 1 1 1 1 1 1 1 1 1 1 1 1 1 1 1 1 1 1 1 1 1 1 1 1 1 1 1 1 1 1\n"
          ],
          "name": "stdout"
        },
        {
          "output_type": "stream",
          "text": [
            "INFO:tensorflow:input_mask: 1 1 1 1 1 1 1 1 1 1 1 1 1 1 1 1 1 1 1 1 1 1 1 1 1 1 1 1 1 1 1 1 1 1 1 1 1 1 1 1 1 1 1 1 1 1 1 1 1 1 1 1 1 1 1 1 1 1 1 1 1 1 1 1 1 1 1 1 1 1 1 1 1 1 1 1 1 1 1 1 1 1 1 1 1 1 1 1 1 1 1 1 1 1 1 1 1 1 1 1 1 1 1 1 1 1 1 1 1 1 1 1 1 1 1 1 1 1 1 1 1 1 1 1 1 1 1 1 1 1 1 1 1 1 1 1 1 1 1 1 1 1 1 1 1 1 1 1 1 1 1 1 1 1 1 1 1 1 1 1 1 1 1 1 1 1 1 1 1 1 1 1 1 1 1 1 1 1 1 1 1 1 1 1 1 1 1 1 1 1 1 1 1 1 1 1 1 1 1 1\n"
          ],
          "name": "stderr"
        },
        {
          "output_type": "stream",
          "text": [
            "INFO:tensorflow:segment_ids: 0 0 0 0 0 0 0 0 0 0 0 0 0 0 0 0 0 0 0 0 0 0 0 0 0 0 0 0 0 0 0 0 0 0 0 0 0 0 0 0 0 0 0 0 0 0 0 0 0 0 0 0 0 0 0 0 0 0 0 0 0 0 0 0 0 0 0 0 0 0 0 0 0 0 0 0 0 0 0 0 0 0 0 0 0 0 0 0 0 0 0 0 0 0 0 0 0 0 0 0 0 0 0 0 0 0 0 0 0 0 0 0 0 0 0 0 0 0 0 0 0 0 0 0 0 0 0 0 0 0 0 0 0 0 0 0 0 0 0 0 0 0 0 0 0 0 0 0 0 0 0 0 0 0 0 0 0 0 0 0 0 0 0 0 0 0 0 0 0 0 0 0 0 0 0 0 0 0 0 0 0 0 0 0 0 0 0 0 0 0 0 0 0 0 0 0 0 0 0 0\n"
          ],
          "name": "stdout"
        },
        {
          "output_type": "stream",
          "text": [
            "INFO:tensorflow:segment_ids: 0 0 0 0 0 0 0 0 0 0 0 0 0 0 0 0 0 0 0 0 0 0 0 0 0 0 0 0 0 0 0 0 0 0 0 0 0 0 0 0 0 0 0 0 0 0 0 0 0 0 0 0 0 0 0 0 0 0 0 0 0 0 0 0 0 0 0 0 0 0 0 0 0 0 0 0 0 0 0 0 0 0 0 0 0 0 0 0 0 0 0 0 0 0 0 0 0 0 0 0 0 0 0 0 0 0 0 0 0 0 0 0 0 0 0 0 0 0 0 0 0 0 0 0 0 0 0 0 0 0 0 0 0 0 0 0 0 0 0 0 0 0 0 0 0 0 0 0 0 0 0 0 0 0 0 0 0 0 0 0 0 0 0 0 0 0 0 0 0 0 0 0 0 0 0 0 0 0 0 0 0 0 0 0 0 0 0 0 0 0 0 0 0 0 0 0 0 0 0 0\n"
          ],
          "name": "stderr"
        },
        {
          "output_type": "stream",
          "text": [
            "INFO:tensorflow:label: 0 (id = 0)\n"
          ],
          "name": "stdout"
        },
        {
          "output_type": "stream",
          "text": [
            "INFO:tensorflow:label: 0 (id = 0)\n"
          ],
          "name": "stderr"
        },
        {
          "output_type": "stream",
          "text": [
            "INFO:tensorflow:*** Example ***\n"
          ],
          "name": "stdout"
        },
        {
          "output_type": "stream",
          "text": [
            "INFO:tensorflow:*** Example ***\n"
          ],
          "name": "stderr"
        },
        {
          "output_type": "stream",
          "text": [
            "INFO:tensorflow:guid: None\n"
          ],
          "name": "stdout"
        },
        {
          "output_type": "stream",
          "text": [
            "INFO:tensorflow:guid: None\n"
          ],
          "name": "stderr"
        },
        {
          "output_type": "stream",
          "text": [
            "INFO:tensorflow:tokens: [CLS] entry help desk coordinator skills years experience . strong customer service skills . light technical troubles ##hoot ##ing abilities . follow es ##cala ##tion . phone support . role the client going massive transition migration legacy applications microsoft office . this include transition lotus notes exchange outlook . this company ##wide migration require steady help desk support internal users day day issues including limited microsoft suite operations outlook email tri ##age office active directory password reset ##s . they casual environment demand customer service imp ##ec ##cable . this individual required take part team collaborations training need adapt internal customer base quickly . the team operates database hd housed . they sit collaborative cubic ##le style format . this individual face it department . when internal customer calls expecting individual highest level customer service technical support . about te ##ks ##yst ##em ##s join te ##ks ##yst ##em ##s leading it staff ##ing it talent management it services firm get career fast track . we offices worldwide partner clients place consultants per year . at te ##ks ##yst ##em ##s seek understand consultants skills goals interests allowing us present targeted job opportunities contract contract hire direct placement basis [SEP]\n"
          ],
          "name": "stdout"
        },
        {
          "output_type": "stream",
          "text": [
            "INFO:tensorflow:tokens: [CLS] entry help desk coordinator skills years experience . strong customer service skills . light technical troubles ##hoot ##ing abilities . follow es ##cala ##tion . phone support . role the client going massive transition migration legacy applications microsoft office . this include transition lotus notes exchange outlook . this company ##wide migration require steady help desk support internal users day day issues including limited microsoft suite operations outlook email tri ##age office active directory password reset ##s . they casual environment demand customer service imp ##ec ##cable . this individual required take part team collaborations training need adapt internal customer base quickly . the team operates database hd housed . they sit collaborative cubic ##le style format . this individual face it department . when internal customer calls expecting individual highest level customer service technical support . about te ##ks ##yst ##em ##s join te ##ks ##yst ##em ##s leading it staff ##ing it talent management it services firm get career fast track . we offices worldwide partner clients place consultants per year . at te ##ks ##yst ##em ##s seek understand consultants skills goals interests allowing us present targeted job opportunities contract contract hire direct placement basis [SEP]\n"
          ],
          "name": "stderr"
        },
        {
          "output_type": "stream",
          "text": [
            "INFO:tensorflow:input_ids: 101 4443 2393 4624 10669 4813 2086 3325 1012 2844 8013 2326 4813 1012 2422 4087 13460 23416 2075 7590 1012 3582 9686 25015 3508 1012 3042 2490 1012 2535 1996 7396 2183 5294 6653 9230 8027 5097 7513 2436 1012 2023 2421 6653 13030 3964 3863 17680 1012 2023 2194 22517 9230 5478 6706 2393 4624 2490 4722 5198 2154 2154 3314 2164 3132 7513 7621 3136 17680 10373 13012 4270 2436 3161 14176 20786 25141 2015 1012 2027 10017 4044 5157 8013 2326 17727 8586 21170 1012 2023 3265 3223 2202 2112 2136 17437 2731 2342 15581 4722 8013 2918 2855 1012 1996 2136 5748 7809 10751 7431 1012 2027 4133 12317 11919 2571 2806 4289 1012 2023 3265 2227 2009 2533 1012 2043 4722 8013 4455 8074 3265 3284 2504 8013 2326 4087 2490 1012 2055 8915 5705 27268 6633 2015 3693 8915 5705 27268 6633 2015 2877 2009 3095 2075 2009 5848 2968 2009 2578 3813 2131 2476 3435 2650 1012 2057 4822 4969 4256 7846 2173 22283 2566 2095 1012 2012 8915 5705 27268 6633 2015 6148 3305 22283 4813 3289 5426 4352 2149 2556 9416 3105 6695 3206 3206 10887 3622 11073 3978 102\n"
          ],
          "name": "stdout"
        },
        {
          "output_type": "stream",
          "text": [
            "INFO:tensorflow:input_ids: 101 4443 2393 4624 10669 4813 2086 3325 1012 2844 8013 2326 4813 1012 2422 4087 13460 23416 2075 7590 1012 3582 9686 25015 3508 1012 3042 2490 1012 2535 1996 7396 2183 5294 6653 9230 8027 5097 7513 2436 1012 2023 2421 6653 13030 3964 3863 17680 1012 2023 2194 22517 9230 5478 6706 2393 4624 2490 4722 5198 2154 2154 3314 2164 3132 7513 7621 3136 17680 10373 13012 4270 2436 3161 14176 20786 25141 2015 1012 2027 10017 4044 5157 8013 2326 17727 8586 21170 1012 2023 3265 3223 2202 2112 2136 17437 2731 2342 15581 4722 8013 2918 2855 1012 1996 2136 5748 7809 10751 7431 1012 2027 4133 12317 11919 2571 2806 4289 1012 2023 3265 2227 2009 2533 1012 2043 4722 8013 4455 8074 3265 3284 2504 8013 2326 4087 2490 1012 2055 8915 5705 27268 6633 2015 3693 8915 5705 27268 6633 2015 2877 2009 3095 2075 2009 5848 2968 2009 2578 3813 2131 2476 3435 2650 1012 2057 4822 4969 4256 7846 2173 22283 2566 2095 1012 2012 8915 5705 27268 6633 2015 6148 3305 22283 4813 3289 5426 4352 2149 2556 9416 3105 6695 3206 3206 10887 3622 11073 3978 102\n"
          ],
          "name": "stderr"
        },
        {
          "output_type": "stream",
          "text": [
            "INFO:tensorflow:input_mask: 1 1 1 1 1 1 1 1 1 1 1 1 1 1 1 1 1 1 1 1 1 1 1 1 1 1 1 1 1 1 1 1 1 1 1 1 1 1 1 1 1 1 1 1 1 1 1 1 1 1 1 1 1 1 1 1 1 1 1 1 1 1 1 1 1 1 1 1 1 1 1 1 1 1 1 1 1 1 1 1 1 1 1 1 1 1 1 1 1 1 1 1 1 1 1 1 1 1 1 1 1 1 1 1 1 1 1 1 1 1 1 1 1 1 1 1 1 1 1 1 1 1 1 1 1 1 1 1 1 1 1 1 1 1 1 1 1 1 1 1 1 1 1 1 1 1 1 1 1 1 1 1 1 1 1 1 1 1 1 1 1 1 1 1 1 1 1 1 1 1 1 1 1 1 1 1 1 1 1 1 1 1 1 1 1 1 1 1 1 1 1 1 1 1 1 1 1 1 1 1\n"
          ],
          "name": "stdout"
        },
        {
          "output_type": "stream",
          "text": [
            "INFO:tensorflow:input_mask: 1 1 1 1 1 1 1 1 1 1 1 1 1 1 1 1 1 1 1 1 1 1 1 1 1 1 1 1 1 1 1 1 1 1 1 1 1 1 1 1 1 1 1 1 1 1 1 1 1 1 1 1 1 1 1 1 1 1 1 1 1 1 1 1 1 1 1 1 1 1 1 1 1 1 1 1 1 1 1 1 1 1 1 1 1 1 1 1 1 1 1 1 1 1 1 1 1 1 1 1 1 1 1 1 1 1 1 1 1 1 1 1 1 1 1 1 1 1 1 1 1 1 1 1 1 1 1 1 1 1 1 1 1 1 1 1 1 1 1 1 1 1 1 1 1 1 1 1 1 1 1 1 1 1 1 1 1 1 1 1 1 1 1 1 1 1 1 1 1 1 1 1 1 1 1 1 1 1 1 1 1 1 1 1 1 1 1 1 1 1 1 1 1 1 1 1 1 1 1 1\n"
          ],
          "name": "stderr"
        },
        {
          "output_type": "stream",
          "text": [
            "INFO:tensorflow:segment_ids: 0 0 0 0 0 0 0 0 0 0 0 0 0 0 0 0 0 0 0 0 0 0 0 0 0 0 0 0 0 0 0 0 0 0 0 0 0 0 0 0 0 0 0 0 0 0 0 0 0 0 0 0 0 0 0 0 0 0 0 0 0 0 0 0 0 0 0 0 0 0 0 0 0 0 0 0 0 0 0 0 0 0 0 0 0 0 0 0 0 0 0 0 0 0 0 0 0 0 0 0 0 0 0 0 0 0 0 0 0 0 0 0 0 0 0 0 0 0 0 0 0 0 0 0 0 0 0 0 0 0 0 0 0 0 0 0 0 0 0 0 0 0 0 0 0 0 0 0 0 0 0 0 0 0 0 0 0 0 0 0 0 0 0 0 0 0 0 0 0 0 0 0 0 0 0 0 0 0 0 0 0 0 0 0 0 0 0 0 0 0 0 0 0 0 0 0 0 0 0 0\n"
          ],
          "name": "stdout"
        },
        {
          "output_type": "stream",
          "text": [
            "INFO:tensorflow:segment_ids: 0 0 0 0 0 0 0 0 0 0 0 0 0 0 0 0 0 0 0 0 0 0 0 0 0 0 0 0 0 0 0 0 0 0 0 0 0 0 0 0 0 0 0 0 0 0 0 0 0 0 0 0 0 0 0 0 0 0 0 0 0 0 0 0 0 0 0 0 0 0 0 0 0 0 0 0 0 0 0 0 0 0 0 0 0 0 0 0 0 0 0 0 0 0 0 0 0 0 0 0 0 0 0 0 0 0 0 0 0 0 0 0 0 0 0 0 0 0 0 0 0 0 0 0 0 0 0 0 0 0 0 0 0 0 0 0 0 0 0 0 0 0 0 0 0 0 0 0 0 0 0 0 0 0 0 0 0 0 0 0 0 0 0 0 0 0 0 0 0 0 0 0 0 0 0 0 0 0 0 0 0 0 0 0 0 0 0 0 0 0 0 0 0 0 0 0 0 0 0 0\n"
          ],
          "name": "stderr"
        },
        {
          "output_type": "stream",
          "text": [
            "INFO:tensorflow:label: 0 (id = 0)\n"
          ],
          "name": "stdout"
        },
        {
          "output_type": "stream",
          "text": [
            "INFO:tensorflow:label: 0 (id = 0)\n"
          ],
          "name": "stderr"
        },
        {
          "output_type": "stream",
          "text": [
            "INFO:tensorflow:*** Example ***\n"
          ],
          "name": "stdout"
        },
        {
          "output_type": "stream",
          "text": [
            "INFO:tensorflow:*** Example ***\n"
          ],
          "name": "stderr"
        },
        {
          "output_type": "stream",
          "text": [
            "INFO:tensorflow:guid: None\n"
          ],
          "name": "stdout"
        },
        {
          "output_type": "stream",
          "text": [
            "INFO:tensorflow:guid: None\n"
          ],
          "name": "stderr"
        },
        {
          "output_type": "stream",
          "text": [
            "INFO:tensorflow:tokens: [CLS] minimum required skills rest api ##s agile java unix sql elastic ##ese ##ar ##ch aw ##s ##j ##r . software engineer salary up k ##lo ##cation la ##rgo fl ##lo ##cated beautiful la ##rgo fl help users see analyze data context human usable data model . we built team problem solve ##rs analysts engineers help eliminate fraud protect customers cyber security threats preventing regulatory fins personal ##izing information customers . what you will be doing deliver innovative products ever . . . pretty groundbreaking ##w ##hat you need position engineering prowess implementing tactical approaches real world data problems intuitive user interfaces powerful data ing ##est solutions ##some sort combination java running unix windows java swing sql jp ##a post ##gre ##s ##q ##l et ##l elastic ##sea ##rch sol ##r luce ##ne rest ##ful web services cloud computing distributed computing amazon web services demo video production ##w ##hat in it you competitive salary awesome benefits flexible hours ##so junior software engineer experience please apply today or send resume sy ##d ##ni . est ##rella cyber ##code ##rs . coma ##pp ##lica ##nts must authorized work u . s . please apply directly clicking click here apply word resume [SEP]\n"
          ],
          "name": "stdout"
        },
        {
          "output_type": "stream",
          "text": [
            "INFO:tensorflow:tokens: [CLS] minimum required skills rest api ##s agile java unix sql elastic ##ese ##ar ##ch aw ##s ##j ##r . software engineer salary up k ##lo ##cation la ##rgo fl ##lo ##cated beautiful la ##rgo fl help users see analyze data context human usable data model . we built team problem solve ##rs analysts engineers help eliminate fraud protect customers cyber security threats preventing regulatory fins personal ##izing information customers . what you will be doing deliver innovative products ever . . . pretty groundbreaking ##w ##hat you need position engineering prowess implementing tactical approaches real world data problems intuitive user interfaces powerful data ing ##est solutions ##some sort combination java running unix windows java swing sql jp ##a post ##gre ##s ##q ##l et ##l elastic ##sea ##rch sol ##r luce ##ne rest ##ful web services cloud computing distributed computing amazon web services demo video production ##w ##hat in it you competitive salary awesome benefits flexible hours ##so junior software engineer experience please apply today or send resume sy ##d ##ni . est ##rella cyber ##code ##rs . coma ##pp ##lica ##nts must authorized work u . s . please apply directly clicking click here apply word resume [SEP]\n"
          ],
          "name": "stderr"
        },
        {
          "output_type": "stream",
          "text": [
            "INFO:tensorflow:input_ids: 101 6263 3223 4813 2717 17928 2015 29003 9262 19998 29296 21274 6810 2906 2818 22091 2015 3501 2099 1012 4007 3992 10300 2039 1047 4135 10719 2474 18581 13109 4135 12921 3376 2474 18581 13109 2393 5198 2156 17908 2951 6123 2529 24013 2951 2944 1012 2057 2328 2136 3291 9611 2869 18288 6145 2393 11027 9861 4047 6304 16941 3036 8767 10723 10738 18564 3167 6026 2592 6304 1012 2054 2017 2097 2022 2725 8116 9525 3688 2412 1012 1012 1012 3492 23222 2860 12707 2017 2342 2597 3330 26120 14972 8608 8107 2613 2088 2951 3471 29202 5310 19706 3928 2951 13749 4355 7300 14045 4066 5257 9262 2770 19998 3645 9262 7370 29296 16545 2050 2695 17603 2015 4160 2140 3802 2140 21274 17310 11140 14017 2099 19913 2638 2717 3993 4773 2578 6112 9798 5500 9798 9733 4773 2578 9703 2678 2537 2860 12707 1999 2009 2017 6975 10300 12476 6666 12379 2847 6499 3502 4007 3992 3325 3531 6611 2651 2030 4604 13746 25353 2094 3490 1012 9765 21835 16941 16044 2869 1012 16571 9397 19341 7666 2442 9362 2147 1057 1012 1055 1012 3531 6611 3495 22042 11562 2182 6611 2773 13746 102\n"
          ],
          "name": "stdout"
        },
        {
          "output_type": "stream",
          "text": [
            "INFO:tensorflow:input_ids: 101 6263 3223 4813 2717 17928 2015 29003 9262 19998 29296 21274 6810 2906 2818 22091 2015 3501 2099 1012 4007 3992 10300 2039 1047 4135 10719 2474 18581 13109 4135 12921 3376 2474 18581 13109 2393 5198 2156 17908 2951 6123 2529 24013 2951 2944 1012 2057 2328 2136 3291 9611 2869 18288 6145 2393 11027 9861 4047 6304 16941 3036 8767 10723 10738 18564 3167 6026 2592 6304 1012 2054 2017 2097 2022 2725 8116 9525 3688 2412 1012 1012 1012 3492 23222 2860 12707 2017 2342 2597 3330 26120 14972 8608 8107 2613 2088 2951 3471 29202 5310 19706 3928 2951 13749 4355 7300 14045 4066 5257 9262 2770 19998 3645 9262 7370 29296 16545 2050 2695 17603 2015 4160 2140 3802 2140 21274 17310 11140 14017 2099 19913 2638 2717 3993 4773 2578 6112 9798 5500 9798 9733 4773 2578 9703 2678 2537 2860 12707 1999 2009 2017 6975 10300 12476 6666 12379 2847 6499 3502 4007 3992 3325 3531 6611 2651 2030 4604 13746 25353 2094 3490 1012 9765 21835 16941 16044 2869 1012 16571 9397 19341 7666 2442 9362 2147 1057 1012 1055 1012 3531 6611 3495 22042 11562 2182 6611 2773 13746 102\n"
          ],
          "name": "stderr"
        },
        {
          "output_type": "stream",
          "text": [
            "INFO:tensorflow:input_mask: 1 1 1 1 1 1 1 1 1 1 1 1 1 1 1 1 1 1 1 1 1 1 1 1 1 1 1 1 1 1 1 1 1 1 1 1 1 1 1 1 1 1 1 1 1 1 1 1 1 1 1 1 1 1 1 1 1 1 1 1 1 1 1 1 1 1 1 1 1 1 1 1 1 1 1 1 1 1 1 1 1 1 1 1 1 1 1 1 1 1 1 1 1 1 1 1 1 1 1 1 1 1 1 1 1 1 1 1 1 1 1 1 1 1 1 1 1 1 1 1 1 1 1 1 1 1 1 1 1 1 1 1 1 1 1 1 1 1 1 1 1 1 1 1 1 1 1 1 1 1 1 1 1 1 1 1 1 1 1 1 1 1 1 1 1 1 1 1 1 1 1 1 1 1 1 1 1 1 1 1 1 1 1 1 1 1 1 1 1 1 1 1 1 1 1 1 1 1 1 1\n"
          ],
          "name": "stdout"
        },
        {
          "output_type": "stream",
          "text": [
            "INFO:tensorflow:input_mask: 1 1 1 1 1 1 1 1 1 1 1 1 1 1 1 1 1 1 1 1 1 1 1 1 1 1 1 1 1 1 1 1 1 1 1 1 1 1 1 1 1 1 1 1 1 1 1 1 1 1 1 1 1 1 1 1 1 1 1 1 1 1 1 1 1 1 1 1 1 1 1 1 1 1 1 1 1 1 1 1 1 1 1 1 1 1 1 1 1 1 1 1 1 1 1 1 1 1 1 1 1 1 1 1 1 1 1 1 1 1 1 1 1 1 1 1 1 1 1 1 1 1 1 1 1 1 1 1 1 1 1 1 1 1 1 1 1 1 1 1 1 1 1 1 1 1 1 1 1 1 1 1 1 1 1 1 1 1 1 1 1 1 1 1 1 1 1 1 1 1 1 1 1 1 1 1 1 1 1 1 1 1 1 1 1 1 1 1 1 1 1 1 1 1 1 1 1 1 1 1\n"
          ],
          "name": "stderr"
        },
        {
          "output_type": "stream",
          "text": [
            "INFO:tensorflow:segment_ids: 0 0 0 0 0 0 0 0 0 0 0 0 0 0 0 0 0 0 0 0 0 0 0 0 0 0 0 0 0 0 0 0 0 0 0 0 0 0 0 0 0 0 0 0 0 0 0 0 0 0 0 0 0 0 0 0 0 0 0 0 0 0 0 0 0 0 0 0 0 0 0 0 0 0 0 0 0 0 0 0 0 0 0 0 0 0 0 0 0 0 0 0 0 0 0 0 0 0 0 0 0 0 0 0 0 0 0 0 0 0 0 0 0 0 0 0 0 0 0 0 0 0 0 0 0 0 0 0 0 0 0 0 0 0 0 0 0 0 0 0 0 0 0 0 0 0 0 0 0 0 0 0 0 0 0 0 0 0 0 0 0 0 0 0 0 0 0 0 0 0 0 0 0 0 0 0 0 0 0 0 0 0 0 0 0 0 0 0 0 0 0 0 0 0 0 0 0 0 0 0\n"
          ],
          "name": "stdout"
        },
        {
          "output_type": "stream",
          "text": [
            "INFO:tensorflow:segment_ids: 0 0 0 0 0 0 0 0 0 0 0 0 0 0 0 0 0 0 0 0 0 0 0 0 0 0 0 0 0 0 0 0 0 0 0 0 0 0 0 0 0 0 0 0 0 0 0 0 0 0 0 0 0 0 0 0 0 0 0 0 0 0 0 0 0 0 0 0 0 0 0 0 0 0 0 0 0 0 0 0 0 0 0 0 0 0 0 0 0 0 0 0 0 0 0 0 0 0 0 0 0 0 0 0 0 0 0 0 0 0 0 0 0 0 0 0 0 0 0 0 0 0 0 0 0 0 0 0 0 0 0 0 0 0 0 0 0 0 0 0 0 0 0 0 0 0 0 0 0 0 0 0 0 0 0 0 0 0 0 0 0 0 0 0 0 0 0 0 0 0 0 0 0 0 0 0 0 0 0 0 0 0 0 0 0 0 0 0 0 0 0 0 0 0 0 0 0 0 0 0\n"
          ],
          "name": "stderr"
        },
        {
          "output_type": "stream",
          "text": [
            "INFO:tensorflow:label: 1 (id = 1)\n"
          ],
          "name": "stdout"
        },
        {
          "output_type": "stream",
          "text": [
            "INFO:tensorflow:label: 1 (id = 1)\n"
          ],
          "name": "stderr"
        },
        {
          "output_type": "stream",
          "text": [
            "INFO:tensorflow:Writing example 0 of 919\n"
          ],
          "name": "stdout"
        },
        {
          "output_type": "stream",
          "text": [
            "INFO:tensorflow:Writing example 0 of 919\n"
          ],
          "name": "stderr"
        },
        {
          "output_type": "stream",
          "text": [
            "INFO:tensorflow:*** Example ***\n"
          ],
          "name": "stdout"
        },
        {
          "output_type": "stream",
          "text": [
            "INFO:tensorflow:*** Example ***\n"
          ],
          "name": "stderr"
        },
        {
          "output_type": "stream",
          "text": [
            "INFO:tensorflow:guid: None\n"
          ],
          "name": "stdout"
        },
        {
          "output_type": "stream",
          "text": [
            "INFO:tensorflow:guid: None\n"
          ],
          "name": "stderr"
        },
        {
          "output_type": "stream",
          "text": [
            "INFO:tensorflow:tokens: [CLS] minimum required skills linux dev ##ops chef puppet ruby an ##sible shell script ##ing v ##m ##ware es ##x es ##xi ji ##ra ma ##ven jenkins hudson had ##oop ##if dev ##ops engineer open full time role contract exceptional script ##ing linux skills please read based outside atlanta near ro ##swell award winning systems int ##eg ##rator working heavily dev ##ops cloud big data middle ##ware mobile technologies . since focus help customers modern ##ize opt ##imi ##ze work ##load ##s new cloud world . our team specializes migrating applications modern ##izing opt ##imi ##zing infrastructure enhancing manage ##ability orchestra ##tion automation ##right seeking someone join team travel bit work customers collaborate smart engineering team working heavily linux environment . top reasons work us . generous compensation solid benefits medical dental vision pt ##o k w match profit sharing tons . you working new technologies meeting new people networking customer base . . opportunity work wide variety stacks including had ##oop v ##m ##ware ruby shell script ##ing name few . what you will be doing developing new products evan ##gel ##izing use open source technology assisting customers design implementation cutting edge technology solutions . what you need [SEP]\n"
          ],
          "name": "stdout"
        },
        {
          "output_type": "stream",
          "text": [
            "INFO:tensorflow:tokens: [CLS] minimum required skills linux dev ##ops chef puppet ruby an ##sible shell script ##ing v ##m ##ware es ##x es ##xi ji ##ra ma ##ven jenkins hudson had ##oop ##if dev ##ops engineer open full time role contract exceptional script ##ing linux skills please read based outside atlanta near ro ##swell award winning systems int ##eg ##rator working heavily dev ##ops cloud big data middle ##ware mobile technologies . since focus help customers modern ##ize opt ##imi ##ze work ##load ##s new cloud world . our team specializes migrating applications modern ##izing opt ##imi ##zing infrastructure enhancing manage ##ability orchestra ##tion automation ##right seeking someone join team travel bit work customers collaborate smart engineering team working heavily linux environment . top reasons work us . generous compensation solid benefits medical dental vision pt ##o k w match profit sharing tons . you working new technologies meeting new people networking customer base . . opportunity work wide variety stacks including had ##oop v ##m ##ware ruby shell script ##ing name few . what you will be doing developing new products evan ##gel ##izing use open source technology assisting customers design implementation cutting edge technology solutions . what you need [SEP]\n"
          ],
          "name": "stderr"
        },
        {
          "output_type": "stream",
          "text": [
            "INFO:tensorflow:input_ids: 101 6263 3223 4813 11603 16475 11923 10026 13997 10090 2019 19307 5806 5896 2075 1058 2213 8059 9686 2595 9686 9048 10147 2527 5003 8159 11098 6842 2018 18589 10128 16475 11923 3992 2330 2440 2051 2535 3206 11813 5896 2075 11603 4813 3531 3191 2241 2648 5865 2379 20996 19228 2400 3045 3001 20014 13910 16259 2551 4600 16475 11923 6112 2502 2951 2690 8059 4684 6786 1012 2144 3579 2393 6304 2715 4697 23569 27605 4371 2147 11066 2015 2047 6112 2088 1012 2256 2136 16997 28636 5097 2715 6026 23569 27605 6774 6502 20226 6133 8010 4032 3508 19309 15950 6224 2619 3693 2136 3604 2978 2147 6304 20880 6047 3330 2136 2551 4600 11603 4044 1012 2327 4436 2147 2149 1012 12382 9430 5024 6666 2966 11394 4432 13866 2080 1047 1059 2674 5618 6631 6197 1012 2017 2551 2047 6786 3116 2047 2111 14048 8013 2918 1012 1012 4495 2147 2898 3528 20829 2164 2018 18589 1058 2213 8059 10090 5806 5896 2075 2171 2261 1012 2054 2017 2097 2022 2725 4975 2047 3688 9340 12439 6026 2224 2330 3120 2974 13951 6304 2640 7375 6276 3341 2974 7300 1012 2054 2017 2342 102\n"
          ],
          "name": "stdout"
        },
        {
          "output_type": "stream",
          "text": [
            "INFO:tensorflow:input_ids: 101 6263 3223 4813 11603 16475 11923 10026 13997 10090 2019 19307 5806 5896 2075 1058 2213 8059 9686 2595 9686 9048 10147 2527 5003 8159 11098 6842 2018 18589 10128 16475 11923 3992 2330 2440 2051 2535 3206 11813 5896 2075 11603 4813 3531 3191 2241 2648 5865 2379 20996 19228 2400 3045 3001 20014 13910 16259 2551 4600 16475 11923 6112 2502 2951 2690 8059 4684 6786 1012 2144 3579 2393 6304 2715 4697 23569 27605 4371 2147 11066 2015 2047 6112 2088 1012 2256 2136 16997 28636 5097 2715 6026 23569 27605 6774 6502 20226 6133 8010 4032 3508 19309 15950 6224 2619 3693 2136 3604 2978 2147 6304 20880 6047 3330 2136 2551 4600 11603 4044 1012 2327 4436 2147 2149 1012 12382 9430 5024 6666 2966 11394 4432 13866 2080 1047 1059 2674 5618 6631 6197 1012 2017 2551 2047 6786 3116 2047 2111 14048 8013 2918 1012 1012 4495 2147 2898 3528 20829 2164 2018 18589 1058 2213 8059 10090 5806 5896 2075 2171 2261 1012 2054 2017 2097 2022 2725 4975 2047 3688 9340 12439 6026 2224 2330 3120 2974 13951 6304 2640 7375 6276 3341 2974 7300 1012 2054 2017 2342 102\n"
          ],
          "name": "stderr"
        },
        {
          "output_type": "stream",
          "text": [
            "INFO:tensorflow:input_mask: 1 1 1 1 1 1 1 1 1 1 1 1 1 1 1 1 1 1 1 1 1 1 1 1 1 1 1 1 1 1 1 1 1 1 1 1 1 1 1 1 1 1 1 1 1 1 1 1 1 1 1 1 1 1 1 1 1 1 1 1 1 1 1 1 1 1 1 1 1 1 1 1 1 1 1 1 1 1 1 1 1 1 1 1 1 1 1 1 1 1 1 1 1 1 1 1 1 1 1 1 1 1 1 1 1 1 1 1 1 1 1 1 1 1 1 1 1 1 1 1 1 1 1 1 1 1 1 1 1 1 1 1 1 1 1 1 1 1 1 1 1 1 1 1 1 1 1 1 1 1 1 1 1 1 1 1 1 1 1 1 1 1 1 1 1 1 1 1 1 1 1 1 1 1 1 1 1 1 1 1 1 1 1 1 1 1 1 1 1 1 1 1 1 1 1 1 1 1 1 1\n"
          ],
          "name": "stdout"
        },
        {
          "output_type": "stream",
          "text": [
            "INFO:tensorflow:input_mask: 1 1 1 1 1 1 1 1 1 1 1 1 1 1 1 1 1 1 1 1 1 1 1 1 1 1 1 1 1 1 1 1 1 1 1 1 1 1 1 1 1 1 1 1 1 1 1 1 1 1 1 1 1 1 1 1 1 1 1 1 1 1 1 1 1 1 1 1 1 1 1 1 1 1 1 1 1 1 1 1 1 1 1 1 1 1 1 1 1 1 1 1 1 1 1 1 1 1 1 1 1 1 1 1 1 1 1 1 1 1 1 1 1 1 1 1 1 1 1 1 1 1 1 1 1 1 1 1 1 1 1 1 1 1 1 1 1 1 1 1 1 1 1 1 1 1 1 1 1 1 1 1 1 1 1 1 1 1 1 1 1 1 1 1 1 1 1 1 1 1 1 1 1 1 1 1 1 1 1 1 1 1 1 1 1 1 1 1 1 1 1 1 1 1 1 1 1 1 1 1\n"
          ],
          "name": "stderr"
        },
        {
          "output_type": "stream",
          "text": [
            "INFO:tensorflow:segment_ids: 0 0 0 0 0 0 0 0 0 0 0 0 0 0 0 0 0 0 0 0 0 0 0 0 0 0 0 0 0 0 0 0 0 0 0 0 0 0 0 0 0 0 0 0 0 0 0 0 0 0 0 0 0 0 0 0 0 0 0 0 0 0 0 0 0 0 0 0 0 0 0 0 0 0 0 0 0 0 0 0 0 0 0 0 0 0 0 0 0 0 0 0 0 0 0 0 0 0 0 0 0 0 0 0 0 0 0 0 0 0 0 0 0 0 0 0 0 0 0 0 0 0 0 0 0 0 0 0 0 0 0 0 0 0 0 0 0 0 0 0 0 0 0 0 0 0 0 0 0 0 0 0 0 0 0 0 0 0 0 0 0 0 0 0 0 0 0 0 0 0 0 0 0 0 0 0 0 0 0 0 0 0 0 0 0 0 0 0 0 0 0 0 0 0 0 0 0 0 0 0\n"
          ],
          "name": "stdout"
        },
        {
          "output_type": "stream",
          "text": [
            "INFO:tensorflow:segment_ids: 0 0 0 0 0 0 0 0 0 0 0 0 0 0 0 0 0 0 0 0 0 0 0 0 0 0 0 0 0 0 0 0 0 0 0 0 0 0 0 0 0 0 0 0 0 0 0 0 0 0 0 0 0 0 0 0 0 0 0 0 0 0 0 0 0 0 0 0 0 0 0 0 0 0 0 0 0 0 0 0 0 0 0 0 0 0 0 0 0 0 0 0 0 0 0 0 0 0 0 0 0 0 0 0 0 0 0 0 0 0 0 0 0 0 0 0 0 0 0 0 0 0 0 0 0 0 0 0 0 0 0 0 0 0 0 0 0 0 0 0 0 0 0 0 0 0 0 0 0 0 0 0 0 0 0 0 0 0 0 0 0 0 0 0 0 0 0 0 0 0 0 0 0 0 0 0 0 0 0 0 0 0 0 0 0 0 0 0 0 0 0 0 0 0 0 0 0 0 0 0\n"
          ],
          "name": "stderr"
        },
        {
          "output_type": "stream",
          "text": [
            "INFO:tensorflow:label: 1 (id = 1)\n"
          ],
          "name": "stdout"
        },
        {
          "output_type": "stream",
          "text": [
            "INFO:tensorflow:label: 1 (id = 1)\n"
          ],
          "name": "stderr"
        },
        {
          "output_type": "stream",
          "text": [
            "INFO:tensorflow:*** Example ***\n"
          ],
          "name": "stdout"
        },
        {
          "output_type": "stream",
          "text": [
            "INFO:tensorflow:*** Example ***\n"
          ],
          "name": "stderr"
        },
        {
          "output_type": "stream",
          "text": [
            "INFO:tensorflow:guid: None\n"
          ],
          "name": "stdout"
        },
        {
          "output_type": "stream",
          "text": [
            "INFO:tensorflow:guid: None\n"
          ],
          "name": "stderr"
        },
        {
          "output_type": "stream",
          "text": [
            "INFO:tensorflow:tokens: [CLS] cutting edge technology solutions . what you need position bsc ##s related large deployment experience puppet chef an ##sible ability con ##fi ##gur ##e auto ##mate server builds linux shell script ##ing proficient script ##ing language like ruby python per ##l bash etc . nice exposure following gi ##th ##ub hd ##fs had ##oop cloud ##era h ##base zoo ##keeper red ##is mon ##go ##db rabbit ##m ##q j ##bos ##s os ##gi vi ##rgo experience creation management v ##m ##ware based virtual infrastructure using es ##x es ##xi red hat cent ##os u ##bu ##nt ##uw ##hat in it you our team access latest training encouraged help cult ##ivate culture open source local meet ##ups industry events our team consists senior level technology professionals providing services training mentoring new it implementations consultants spend time customer locations working directly teams ##o dev ##ops engineer please apply today applicants must authorized work u . s . please apply directly clicking click here apply word resume looking forward receiving resume going position detail . not fit position click link bottom email search open positions . looking forward receiving resume cyber ##code ##rs ##cy ##ber ##code ##rs inc proud equal opportunity [SEP]\n"
          ],
          "name": "stdout"
        },
        {
          "output_type": "stream",
          "text": [
            "INFO:tensorflow:tokens: [CLS] cutting edge technology solutions . what you need position bsc ##s related large deployment experience puppet chef an ##sible ability con ##fi ##gur ##e auto ##mate server builds linux shell script ##ing proficient script ##ing language like ruby python per ##l bash etc . nice exposure following gi ##th ##ub hd ##fs had ##oop cloud ##era h ##base zoo ##keeper red ##is mon ##go ##db rabbit ##m ##q j ##bos ##s os ##gi vi ##rgo experience creation management v ##m ##ware based virtual infrastructure using es ##x es ##xi red hat cent ##os u ##bu ##nt ##uw ##hat in it you our team access latest training encouraged help cult ##ivate culture open source local meet ##ups industry events our team consists senior level technology professionals providing services training mentoring new it implementations consultants spend time customer locations working directly teams ##o dev ##ops engineer please apply today applicants must authorized work u . s . please apply directly clicking click here apply word resume looking forward receiving resume going position detail . not fit position click link bottom email search open positions . looking forward receiving resume cyber ##code ##rs ##cy ##ber ##code ##rs inc proud equal opportunity [SEP]\n"
          ],
          "name": "stderr"
        },
        {
          "output_type": "stream",
          "text": [
            "INFO:tensorflow:input_ids: 101 6276 3341 2974 7300 1012 2054 2017 2342 2597 23533 2015 3141 2312 10813 3325 13997 10026 2019 19307 3754 9530 8873 27390 2063 8285 8585 8241 16473 11603 5806 5896 2075 27029 5896 2075 2653 2066 10090 18750 2566 2140 24234 4385 1012 3835 7524 2206 21025 2705 12083 10751 10343 2018 18589 6112 6906 1044 15058 9201 13106 2417 2483 12256 3995 18939 10442 2213 4160 1046 15853 2015 9808 5856 6819 18581 3325 4325 2968 1058 2213 8059 2241 7484 6502 2478 9686 2595 9686 9048 2417 6045 9358 2891 1057 8569 3372 25974 12707 1999 2009 2017 2256 2136 3229 6745 2731 6628 2393 8754 21466 3226 2330 3120 2334 3113 22264 3068 2824 2256 2136 3774 3026 2504 2974 8390 4346 2578 2731 29192 2047 2009 24977 22283 5247 2051 8013 5269 2551 3495 2780 2080 16475 11923 3992 3531 6611 2651 17362 2442 9362 2147 1057 1012 1055 1012 3531 6611 3495 22042 11562 2182 6611 2773 13746 2559 2830 4909 13746 2183 2597 6987 1012 2025 4906 2597 11562 4957 3953 10373 3945 2330 4460 1012 2559 2830 4909 13746 16941 16044 2869 5666 5677 16044 2869 4297 7098 5020 4495 102\n"
          ],
          "name": "stdout"
        },
        {
          "output_type": "stream",
          "text": [
            "INFO:tensorflow:input_ids: 101 6276 3341 2974 7300 1012 2054 2017 2342 2597 23533 2015 3141 2312 10813 3325 13997 10026 2019 19307 3754 9530 8873 27390 2063 8285 8585 8241 16473 11603 5806 5896 2075 27029 5896 2075 2653 2066 10090 18750 2566 2140 24234 4385 1012 3835 7524 2206 21025 2705 12083 10751 10343 2018 18589 6112 6906 1044 15058 9201 13106 2417 2483 12256 3995 18939 10442 2213 4160 1046 15853 2015 9808 5856 6819 18581 3325 4325 2968 1058 2213 8059 2241 7484 6502 2478 9686 2595 9686 9048 2417 6045 9358 2891 1057 8569 3372 25974 12707 1999 2009 2017 2256 2136 3229 6745 2731 6628 2393 8754 21466 3226 2330 3120 2334 3113 22264 3068 2824 2256 2136 3774 3026 2504 2974 8390 4346 2578 2731 29192 2047 2009 24977 22283 5247 2051 8013 5269 2551 3495 2780 2080 16475 11923 3992 3531 6611 2651 17362 2442 9362 2147 1057 1012 1055 1012 3531 6611 3495 22042 11562 2182 6611 2773 13746 2559 2830 4909 13746 2183 2597 6987 1012 2025 4906 2597 11562 4957 3953 10373 3945 2330 4460 1012 2559 2830 4909 13746 16941 16044 2869 5666 5677 16044 2869 4297 7098 5020 4495 102\n"
          ],
          "name": "stderr"
        },
        {
          "output_type": "stream",
          "text": [
            "INFO:tensorflow:input_mask: 1 1 1 1 1 1 1 1 1 1 1 1 1 1 1 1 1 1 1 1 1 1 1 1 1 1 1 1 1 1 1 1 1 1 1 1 1 1 1 1 1 1 1 1 1 1 1 1 1 1 1 1 1 1 1 1 1 1 1 1 1 1 1 1 1 1 1 1 1 1 1 1 1 1 1 1 1 1 1 1 1 1 1 1 1 1 1 1 1 1 1 1 1 1 1 1 1 1 1 1 1 1 1 1 1 1 1 1 1 1 1 1 1 1 1 1 1 1 1 1 1 1 1 1 1 1 1 1 1 1 1 1 1 1 1 1 1 1 1 1 1 1 1 1 1 1 1 1 1 1 1 1 1 1 1 1 1 1 1 1 1 1 1 1 1 1 1 1 1 1 1 1 1 1 1 1 1 1 1 1 1 1 1 1 1 1 1 1 1 1 1 1 1 1 1 1 1 1 1 1\n"
          ],
          "name": "stdout"
        },
        {
          "output_type": "stream",
          "text": [
            "INFO:tensorflow:input_mask: 1 1 1 1 1 1 1 1 1 1 1 1 1 1 1 1 1 1 1 1 1 1 1 1 1 1 1 1 1 1 1 1 1 1 1 1 1 1 1 1 1 1 1 1 1 1 1 1 1 1 1 1 1 1 1 1 1 1 1 1 1 1 1 1 1 1 1 1 1 1 1 1 1 1 1 1 1 1 1 1 1 1 1 1 1 1 1 1 1 1 1 1 1 1 1 1 1 1 1 1 1 1 1 1 1 1 1 1 1 1 1 1 1 1 1 1 1 1 1 1 1 1 1 1 1 1 1 1 1 1 1 1 1 1 1 1 1 1 1 1 1 1 1 1 1 1 1 1 1 1 1 1 1 1 1 1 1 1 1 1 1 1 1 1 1 1 1 1 1 1 1 1 1 1 1 1 1 1 1 1 1 1 1 1 1 1 1 1 1 1 1 1 1 1 1 1 1 1 1 1\n"
          ],
          "name": "stderr"
        },
        {
          "output_type": "stream",
          "text": [
            "INFO:tensorflow:segment_ids: 0 0 0 0 0 0 0 0 0 0 0 0 0 0 0 0 0 0 0 0 0 0 0 0 0 0 0 0 0 0 0 0 0 0 0 0 0 0 0 0 0 0 0 0 0 0 0 0 0 0 0 0 0 0 0 0 0 0 0 0 0 0 0 0 0 0 0 0 0 0 0 0 0 0 0 0 0 0 0 0 0 0 0 0 0 0 0 0 0 0 0 0 0 0 0 0 0 0 0 0 0 0 0 0 0 0 0 0 0 0 0 0 0 0 0 0 0 0 0 0 0 0 0 0 0 0 0 0 0 0 0 0 0 0 0 0 0 0 0 0 0 0 0 0 0 0 0 0 0 0 0 0 0 0 0 0 0 0 0 0 0 0 0 0 0 0 0 0 0 0 0 0 0 0 0 0 0 0 0 0 0 0 0 0 0 0 0 0 0 0 0 0 0 0 0 0 0 0 0 0\n"
          ],
          "name": "stdout"
        },
        {
          "output_type": "stream",
          "text": [
            "INFO:tensorflow:segment_ids: 0 0 0 0 0 0 0 0 0 0 0 0 0 0 0 0 0 0 0 0 0 0 0 0 0 0 0 0 0 0 0 0 0 0 0 0 0 0 0 0 0 0 0 0 0 0 0 0 0 0 0 0 0 0 0 0 0 0 0 0 0 0 0 0 0 0 0 0 0 0 0 0 0 0 0 0 0 0 0 0 0 0 0 0 0 0 0 0 0 0 0 0 0 0 0 0 0 0 0 0 0 0 0 0 0 0 0 0 0 0 0 0 0 0 0 0 0 0 0 0 0 0 0 0 0 0 0 0 0 0 0 0 0 0 0 0 0 0 0 0 0 0 0 0 0 0 0 0 0 0 0 0 0 0 0 0 0 0 0 0 0 0 0 0 0 0 0 0 0 0 0 0 0 0 0 0 0 0 0 0 0 0 0 0 0 0 0 0 0 0 0 0 0 0 0 0 0 0 0 0\n"
          ],
          "name": "stderr"
        },
        {
          "output_type": "stream",
          "text": [
            "INFO:tensorflow:label: 1 (id = 1)\n"
          ],
          "name": "stdout"
        },
        {
          "output_type": "stream",
          "text": [
            "INFO:tensorflow:label: 1 (id = 1)\n"
          ],
          "name": "stderr"
        },
        {
          "output_type": "stream",
          "text": [
            "INFO:tensorflow:*** Example ***\n"
          ],
          "name": "stdout"
        },
        {
          "output_type": "stream",
          "text": [
            "INFO:tensorflow:*** Example ***\n"
          ],
          "name": "stderr"
        },
        {
          "output_type": "stream",
          "text": [
            "INFO:tensorflow:guid: None\n"
          ],
          "name": "stdout"
        },
        {
          "output_type": "stream",
          "text": [
            "INFO:tensorflow:guid: None\n"
          ],
          "name": "stderr"
        },
        {
          "output_type": "stream",
          "text": [
            "INFO:tensorflow:tokens: [CLS] skills mandatory prefer ##able ##tech ##nical skills years rex experience implementation oracle hyper ##ion planning es ##sb ##ase mandatory strong script ##ing skills borne shell python etc . mandatory strong relational database modeling sql server oracle my ##s ##q ##l mandatory years hands odi development experience years relevant experience similar tools e . g . inform ##atic ##a mandatory years data warehouse experience mandatory exposure et ##l tools odi prefer ##able expertise using topology knowledge modules change data capture metadata web services so ##a . mandatory ##ex ##per ##tis ##e advanced pl sql ##man ##da ##tory ##ex ##per ##tis ##e building et ##l processes scratch ##man ##da ##tory ##ex ##per ##ience performance tuning partition ##ing strategies . prefer ##able experience designing building supporting data integration ##s involve highly sensitive financial data prefer ##able exposure ol ##ap bi tools hyper ##ion ep ##m suite ob ##ie ##ep refer ##able good understanding oracle database partition ##ing materialized view explain plan etc prefer ##able good understanding protocols e . g . sf ##tp https soap system integration methods e . g . web service rest service prefer ##able experience oracle bi application financial analytics prefer ##able ##so ##ft skills excellent oral [SEP]\n"
          ],
          "name": "stdout"
        },
        {
          "output_type": "stream",
          "text": [
            "INFO:tensorflow:tokens: [CLS] skills mandatory prefer ##able ##tech ##nical skills years rex experience implementation oracle hyper ##ion planning es ##sb ##ase mandatory strong script ##ing skills borne shell python etc . mandatory strong relational database modeling sql server oracle my ##s ##q ##l mandatory years hands odi development experience years relevant experience similar tools e . g . inform ##atic ##a mandatory years data warehouse experience mandatory exposure et ##l tools odi prefer ##able expertise using topology knowledge modules change data capture metadata web services so ##a . mandatory ##ex ##per ##tis ##e advanced pl sql ##man ##da ##tory ##ex ##per ##tis ##e building et ##l processes scratch ##man ##da ##tory ##ex ##per ##ience performance tuning partition ##ing strategies . prefer ##able experience designing building supporting data integration ##s involve highly sensitive financial data prefer ##able exposure ol ##ap bi tools hyper ##ion ep ##m suite ob ##ie ##ep refer ##able good understanding oracle database partition ##ing materialized view explain plan etc prefer ##able good understanding protocols e . g . sf ##tp https soap system integration methods e . g . web service rest service prefer ##able experience oracle bi application financial analytics prefer ##able ##so ##ft skills excellent oral [SEP]\n"
          ],
          "name": "stderr"
        },
        {
          "output_type": "stream",
          "text": [
            "INFO:tensorflow:input_ids: 101 4813 10915 9544 3085 15007 20913 4813 2086 10151 3325 7375 14721 23760 3258 4041 9686 19022 11022 10915 2844 5896 2075 4813 15356 5806 18750 4385 1012 10915 2844 28771 7809 11643 29296 8241 14721 2026 2015 4160 2140 10915 2086 2398 21045 2458 3325 2086 7882 3325 2714 5906 1041 1012 1043 1012 12367 12070 2050 10915 2086 2951 9746 3325 10915 7524 3802 2140 5906 21045 9544 3085 11532 2478 19587 3716 14184 2689 2951 5425 27425 4773 2578 2061 2050 1012 10915 10288 4842 7315 2063 3935 20228 29296 2386 2850 7062 10288 4842 7315 2063 2311 3802 2140 6194 11969 2386 2850 7062 10288 4842 13684 2836 17372 13571 2075 9942 1012 9544 3085 3325 12697 2311 4637 2951 8346 2015 9125 3811 7591 3361 2951 9544 3085 7524 19330 9331 12170 5906 23760 3258 4958 2213 7621 27885 2666 13699 6523 3085 2204 4824 14721 7809 13571 2075 27075 3193 4863 2933 4385 9544 3085 2204 4824 16744 1041 1012 1043 1012 16420 25856 16770 7815 2291 8346 4725 1041 1012 1043 1012 4773 2326 2717 2326 9544 3085 3325 14721 12170 4646 3361 25095 9544 3085 6499 6199 4813 6581 8700 102\n"
          ],
          "name": "stdout"
        },
        {
          "output_type": "stream",
          "text": [
            "INFO:tensorflow:input_ids: 101 4813 10915 9544 3085 15007 20913 4813 2086 10151 3325 7375 14721 23760 3258 4041 9686 19022 11022 10915 2844 5896 2075 4813 15356 5806 18750 4385 1012 10915 2844 28771 7809 11643 29296 8241 14721 2026 2015 4160 2140 10915 2086 2398 21045 2458 3325 2086 7882 3325 2714 5906 1041 1012 1043 1012 12367 12070 2050 10915 2086 2951 9746 3325 10915 7524 3802 2140 5906 21045 9544 3085 11532 2478 19587 3716 14184 2689 2951 5425 27425 4773 2578 2061 2050 1012 10915 10288 4842 7315 2063 3935 20228 29296 2386 2850 7062 10288 4842 7315 2063 2311 3802 2140 6194 11969 2386 2850 7062 10288 4842 13684 2836 17372 13571 2075 9942 1012 9544 3085 3325 12697 2311 4637 2951 8346 2015 9125 3811 7591 3361 2951 9544 3085 7524 19330 9331 12170 5906 23760 3258 4958 2213 7621 27885 2666 13699 6523 3085 2204 4824 14721 7809 13571 2075 27075 3193 4863 2933 4385 9544 3085 2204 4824 16744 1041 1012 1043 1012 16420 25856 16770 7815 2291 8346 4725 1041 1012 1043 1012 4773 2326 2717 2326 9544 3085 3325 14721 12170 4646 3361 25095 9544 3085 6499 6199 4813 6581 8700 102\n"
          ],
          "name": "stderr"
        },
        {
          "output_type": "stream",
          "text": [
            "INFO:tensorflow:input_mask: 1 1 1 1 1 1 1 1 1 1 1 1 1 1 1 1 1 1 1 1 1 1 1 1 1 1 1 1 1 1 1 1 1 1 1 1 1 1 1 1 1 1 1 1 1 1 1 1 1 1 1 1 1 1 1 1 1 1 1 1 1 1 1 1 1 1 1 1 1 1 1 1 1 1 1 1 1 1 1 1 1 1 1 1 1 1 1 1 1 1 1 1 1 1 1 1 1 1 1 1 1 1 1 1 1 1 1 1 1 1 1 1 1 1 1 1 1 1 1 1 1 1 1 1 1 1 1 1 1 1 1 1 1 1 1 1 1 1 1 1 1 1 1 1 1 1 1 1 1 1 1 1 1 1 1 1 1 1 1 1 1 1 1 1 1 1 1 1 1 1 1 1 1 1 1 1 1 1 1 1 1 1 1 1 1 1 1 1 1 1 1 1 1 1 1 1 1 1 1 1\n"
          ],
          "name": "stdout"
        },
        {
          "output_type": "stream",
          "text": [
            "INFO:tensorflow:input_mask: 1 1 1 1 1 1 1 1 1 1 1 1 1 1 1 1 1 1 1 1 1 1 1 1 1 1 1 1 1 1 1 1 1 1 1 1 1 1 1 1 1 1 1 1 1 1 1 1 1 1 1 1 1 1 1 1 1 1 1 1 1 1 1 1 1 1 1 1 1 1 1 1 1 1 1 1 1 1 1 1 1 1 1 1 1 1 1 1 1 1 1 1 1 1 1 1 1 1 1 1 1 1 1 1 1 1 1 1 1 1 1 1 1 1 1 1 1 1 1 1 1 1 1 1 1 1 1 1 1 1 1 1 1 1 1 1 1 1 1 1 1 1 1 1 1 1 1 1 1 1 1 1 1 1 1 1 1 1 1 1 1 1 1 1 1 1 1 1 1 1 1 1 1 1 1 1 1 1 1 1 1 1 1 1 1 1 1 1 1 1 1 1 1 1 1 1 1 1 1 1\n"
          ],
          "name": "stderr"
        },
        {
          "output_type": "stream",
          "text": [
            "INFO:tensorflow:segment_ids: 0 0 0 0 0 0 0 0 0 0 0 0 0 0 0 0 0 0 0 0 0 0 0 0 0 0 0 0 0 0 0 0 0 0 0 0 0 0 0 0 0 0 0 0 0 0 0 0 0 0 0 0 0 0 0 0 0 0 0 0 0 0 0 0 0 0 0 0 0 0 0 0 0 0 0 0 0 0 0 0 0 0 0 0 0 0 0 0 0 0 0 0 0 0 0 0 0 0 0 0 0 0 0 0 0 0 0 0 0 0 0 0 0 0 0 0 0 0 0 0 0 0 0 0 0 0 0 0 0 0 0 0 0 0 0 0 0 0 0 0 0 0 0 0 0 0 0 0 0 0 0 0 0 0 0 0 0 0 0 0 0 0 0 0 0 0 0 0 0 0 0 0 0 0 0 0 0 0 0 0 0 0 0 0 0 0 0 0 0 0 0 0 0 0 0 0 0 0 0 0\n"
          ],
          "name": "stdout"
        },
        {
          "output_type": "stream",
          "text": [
            "INFO:tensorflow:segment_ids: 0 0 0 0 0 0 0 0 0 0 0 0 0 0 0 0 0 0 0 0 0 0 0 0 0 0 0 0 0 0 0 0 0 0 0 0 0 0 0 0 0 0 0 0 0 0 0 0 0 0 0 0 0 0 0 0 0 0 0 0 0 0 0 0 0 0 0 0 0 0 0 0 0 0 0 0 0 0 0 0 0 0 0 0 0 0 0 0 0 0 0 0 0 0 0 0 0 0 0 0 0 0 0 0 0 0 0 0 0 0 0 0 0 0 0 0 0 0 0 0 0 0 0 0 0 0 0 0 0 0 0 0 0 0 0 0 0 0 0 0 0 0 0 0 0 0 0 0 0 0 0 0 0 0 0 0 0 0 0 0 0 0 0 0 0 0 0 0 0 0 0 0 0 0 0 0 0 0 0 0 0 0 0 0 0 0 0 0 0 0 0 0 0 0 0 0 0 0 0 0\n"
          ],
          "name": "stderr"
        },
        {
          "output_type": "stream",
          "text": [
            "INFO:tensorflow:label: 1 (id = 1)\n"
          ],
          "name": "stdout"
        },
        {
          "output_type": "stream",
          "text": [
            "INFO:tensorflow:label: 1 (id = 1)\n"
          ],
          "name": "stderr"
        },
        {
          "output_type": "stream",
          "text": [
            "INFO:tensorflow:*** Example ***\n"
          ],
          "name": "stdout"
        },
        {
          "output_type": "stream",
          "text": [
            "INFO:tensorflow:*** Example ***\n"
          ],
          "name": "stderr"
        },
        {
          "output_type": "stream",
          "text": [
            "INFO:tensorflow:guid: None\n"
          ],
          "name": "stdout"
        },
        {
          "output_type": "stream",
          "text": [
            "INFO:tensorflow:guid: None\n"
          ],
          "name": "stderr"
        },
        {
          "output_type": "stream",
          "text": [
            "INFO:tensorflow:tokens: [CLS] title . net developer location boca rat ##on fl duration months could extend work requirements us citizen g ##c holders authorized work us overview te ##k ##par ##tner ##s sought information technology positions available . as rep ##utable company it staff ##ing industry trust us place right position . we currently opportunity . net developer boca rat ##on fl . summary she work team environment provide technical guidance throughout entire software development life cycle . duties include analysis architecture design estimation planning implementation unit integration testing platform improvements operational support ensure systems availability business stakeholders . the senior software engineer must highly experienced agile development methodology at ##ten ##tive detail focused delivery highly reliable scala ##ble applications . technologies involved include limited . net framework . mv ##c c java ##script j query sql . the primary technology stack proficiency required microsoft . net c sql . required skills . net c as ##p . net mv ##c cs ##la rest soap jason multi thread ##ing years c development java ##script angular j ##s j ##que ##ry j ##que ##ry ui sql server ts ##q ##l xml x ##sl ##t object oriented analysis design experience tc ##p ip [SEP]\n"
          ],
          "name": "stdout"
        },
        {
          "output_type": "stream",
          "text": [
            "INFO:tensorflow:tokens: [CLS] title . net developer location boca rat ##on fl duration months could extend work requirements us citizen g ##c holders authorized work us overview te ##k ##par ##tner ##s sought information technology positions available . as rep ##utable company it staff ##ing industry trust us place right position . we currently opportunity . net developer boca rat ##on fl . summary she work team environment provide technical guidance throughout entire software development life cycle . duties include analysis architecture design estimation planning implementation unit integration testing platform improvements operational support ensure systems availability business stakeholders . the senior software engineer must highly experienced agile development methodology at ##ten ##tive detail focused delivery highly reliable scala ##ble applications . technologies involved include limited . net framework . mv ##c c java ##script j query sql . the primary technology stack proficiency required microsoft . net c sql . required skills . net c as ##p . net mv ##c cs ##la rest soap jason multi thread ##ing years c development java ##script angular j ##s j ##que ##ry j ##que ##ry ui sql server ts ##q ##l xml x ##sl ##t object oriented analysis design experience tc ##p ip [SEP]\n"
          ],
          "name": "stderr"
        },
        {
          "output_type": "stream",
          "text": [
            "INFO:tensorflow:input_ids: 101 2516 1012 5658 9722 3295 22765 9350 2239 13109 9367 2706 2071 7949 2147 5918 2149 6926 1043 2278 13304 9362 2147 2149 19184 8915 2243 19362 18885 2015 4912 2592 2974 4460 2800 1012 2004 16360 23056 2194 2009 3095 2075 3068 3404 2149 2173 2157 2597 1012 2057 2747 4495 1012 5658 9722 22765 9350 2239 13109 1012 12654 2016 2147 2136 4044 3073 4087 8606 2802 2972 4007 2458 2166 5402 1012 5704 2421 4106 4294 2640 24155 4041 7375 3131 8346 5604 4132 8377 6515 2490 5676 3001 11343 2449 22859 1012 1996 3026 4007 3992 2442 3811 5281 29003 2458 16134 2012 6528 6024 6987 4208 6959 3811 10539 26743 3468 5097 1012 6786 2920 2421 3132 1012 5658 7705 1012 19842 2278 1039 9262 22483 1046 23032 29296 1012 1996 3078 2974 9991 26293 3223 7513 1012 5658 1039 29296 1012 3223 4813 1012 5658 1039 2004 2361 1012 5658 19842 2278 20116 2721 2717 7815 4463 4800 11689 2075 2086 1039 2458 9262 22483 16108 1046 2015 1046 4226 2854 1046 4226 2854 21318 29296 8241 24529 4160 2140 20950 1060 14540 2102 4874 8048 4106 2640 3325 22975 2361 12997 102\n"
          ],
          "name": "stdout"
        },
        {
          "output_type": "stream",
          "text": [
            "INFO:tensorflow:input_ids: 101 2516 1012 5658 9722 3295 22765 9350 2239 13109 9367 2706 2071 7949 2147 5918 2149 6926 1043 2278 13304 9362 2147 2149 19184 8915 2243 19362 18885 2015 4912 2592 2974 4460 2800 1012 2004 16360 23056 2194 2009 3095 2075 3068 3404 2149 2173 2157 2597 1012 2057 2747 4495 1012 5658 9722 22765 9350 2239 13109 1012 12654 2016 2147 2136 4044 3073 4087 8606 2802 2972 4007 2458 2166 5402 1012 5704 2421 4106 4294 2640 24155 4041 7375 3131 8346 5604 4132 8377 6515 2490 5676 3001 11343 2449 22859 1012 1996 3026 4007 3992 2442 3811 5281 29003 2458 16134 2012 6528 6024 6987 4208 6959 3811 10539 26743 3468 5097 1012 6786 2920 2421 3132 1012 5658 7705 1012 19842 2278 1039 9262 22483 1046 23032 29296 1012 1996 3078 2974 9991 26293 3223 7513 1012 5658 1039 29296 1012 3223 4813 1012 5658 1039 2004 2361 1012 5658 19842 2278 20116 2721 2717 7815 4463 4800 11689 2075 2086 1039 2458 9262 22483 16108 1046 2015 1046 4226 2854 1046 4226 2854 21318 29296 8241 24529 4160 2140 20950 1060 14540 2102 4874 8048 4106 2640 3325 22975 2361 12997 102\n"
          ],
          "name": "stderr"
        },
        {
          "output_type": "stream",
          "text": [
            "INFO:tensorflow:input_mask: 1 1 1 1 1 1 1 1 1 1 1 1 1 1 1 1 1 1 1 1 1 1 1 1 1 1 1 1 1 1 1 1 1 1 1 1 1 1 1 1 1 1 1 1 1 1 1 1 1 1 1 1 1 1 1 1 1 1 1 1 1 1 1 1 1 1 1 1 1 1 1 1 1 1 1 1 1 1 1 1 1 1 1 1 1 1 1 1 1 1 1 1 1 1 1 1 1 1 1 1 1 1 1 1 1 1 1 1 1 1 1 1 1 1 1 1 1 1 1 1 1 1 1 1 1 1 1 1 1 1 1 1 1 1 1 1 1 1 1 1 1 1 1 1 1 1 1 1 1 1 1 1 1 1 1 1 1 1 1 1 1 1 1 1 1 1 1 1 1 1 1 1 1 1 1 1 1 1 1 1 1 1 1 1 1 1 1 1 1 1 1 1 1 1 1 1 1 1 1 1\n"
          ],
          "name": "stdout"
        },
        {
          "output_type": "stream",
          "text": [
            "INFO:tensorflow:input_mask: 1 1 1 1 1 1 1 1 1 1 1 1 1 1 1 1 1 1 1 1 1 1 1 1 1 1 1 1 1 1 1 1 1 1 1 1 1 1 1 1 1 1 1 1 1 1 1 1 1 1 1 1 1 1 1 1 1 1 1 1 1 1 1 1 1 1 1 1 1 1 1 1 1 1 1 1 1 1 1 1 1 1 1 1 1 1 1 1 1 1 1 1 1 1 1 1 1 1 1 1 1 1 1 1 1 1 1 1 1 1 1 1 1 1 1 1 1 1 1 1 1 1 1 1 1 1 1 1 1 1 1 1 1 1 1 1 1 1 1 1 1 1 1 1 1 1 1 1 1 1 1 1 1 1 1 1 1 1 1 1 1 1 1 1 1 1 1 1 1 1 1 1 1 1 1 1 1 1 1 1 1 1 1 1 1 1 1 1 1 1 1 1 1 1 1 1 1 1 1 1\n"
          ],
          "name": "stderr"
        },
        {
          "output_type": "stream",
          "text": [
            "INFO:tensorflow:segment_ids: 0 0 0 0 0 0 0 0 0 0 0 0 0 0 0 0 0 0 0 0 0 0 0 0 0 0 0 0 0 0 0 0 0 0 0 0 0 0 0 0 0 0 0 0 0 0 0 0 0 0 0 0 0 0 0 0 0 0 0 0 0 0 0 0 0 0 0 0 0 0 0 0 0 0 0 0 0 0 0 0 0 0 0 0 0 0 0 0 0 0 0 0 0 0 0 0 0 0 0 0 0 0 0 0 0 0 0 0 0 0 0 0 0 0 0 0 0 0 0 0 0 0 0 0 0 0 0 0 0 0 0 0 0 0 0 0 0 0 0 0 0 0 0 0 0 0 0 0 0 0 0 0 0 0 0 0 0 0 0 0 0 0 0 0 0 0 0 0 0 0 0 0 0 0 0 0 0 0 0 0 0 0 0 0 0 0 0 0 0 0 0 0 0 0 0 0 0 0 0 0\n"
          ],
          "name": "stdout"
        },
        {
          "output_type": "stream",
          "text": [
            "INFO:tensorflow:segment_ids: 0 0 0 0 0 0 0 0 0 0 0 0 0 0 0 0 0 0 0 0 0 0 0 0 0 0 0 0 0 0 0 0 0 0 0 0 0 0 0 0 0 0 0 0 0 0 0 0 0 0 0 0 0 0 0 0 0 0 0 0 0 0 0 0 0 0 0 0 0 0 0 0 0 0 0 0 0 0 0 0 0 0 0 0 0 0 0 0 0 0 0 0 0 0 0 0 0 0 0 0 0 0 0 0 0 0 0 0 0 0 0 0 0 0 0 0 0 0 0 0 0 0 0 0 0 0 0 0 0 0 0 0 0 0 0 0 0 0 0 0 0 0 0 0 0 0 0 0 0 0 0 0 0 0 0 0 0 0 0 0 0 0 0 0 0 0 0 0 0 0 0 0 0 0 0 0 0 0 0 0 0 0 0 0 0 0 0 0 0 0 0 0 0 0 0 0 0 0 0 0\n"
          ],
          "name": "stderr"
        },
        {
          "output_type": "stream",
          "text": [
            "INFO:tensorflow:label: 1 (id = 1)\n"
          ],
          "name": "stdout"
        },
        {
          "output_type": "stream",
          "text": [
            "INFO:tensorflow:label: 1 (id = 1)\n"
          ],
          "name": "stderr"
        },
        {
          "output_type": "stream",
          "text": [
            "INFO:tensorflow:*** Example ***\n"
          ],
          "name": "stdout"
        },
        {
          "output_type": "stream",
          "text": [
            "INFO:tensorflow:*** Example ***\n"
          ],
          "name": "stderr"
        },
        {
          "output_type": "stream",
          "text": [
            "INFO:tensorflow:guid: None\n"
          ],
          "name": "stdout"
        },
        {
          "output_type": "stream",
          "text": [
            "INFO:tensorflow:guid: None\n"
          ],
          "name": "stderr"
        },
        {
          "output_type": "stream",
          "text": [
            "INFO:tensorflow:tokens: [CLS] sql server ts ##q ##l xml x ##sl ##t object oriented analysis design experience tc ##p ip socket based knowledge cs ##s html experience working version control software team foundation server t ##fs excellent written oral communications skills ability work independently team detail oriented excellent problem solving skills reliable self starter functional skills able manage multiple concurrent tasks . flexible handle unexpected daily challenges . strong written verbal communication skills . responsibilities independently meet product management personnel review elaborate document system requirements design effective efficient technical solutions create high quality software based business driven goals timely manner practice agile sc ##rum development techniques create architectural code level documentation sharing technical knowledge team provide project status development manager develop implement software supports inter ##oper ##ability participate peer code reviews review test objectives test cases our benefits package includes comprehensive medical benefits competitive pay k retirement plan and much more about te ##k ##par ##tner ##s te ##k ##par ##tner ##s one fastest growing private staff ##ing firms united states . we premier provider highly qualified it talent workforce solutions business intelligence solutions many enterprise organizations across nation . as experts industry team continues match proven talent right job opportunity [SEP]\n"
          ],
          "name": "stdout"
        },
        {
          "output_type": "stream",
          "text": [
            "INFO:tensorflow:tokens: [CLS] sql server ts ##q ##l xml x ##sl ##t object oriented analysis design experience tc ##p ip socket based knowledge cs ##s html experience working version control software team foundation server t ##fs excellent written oral communications skills ability work independently team detail oriented excellent problem solving skills reliable self starter functional skills able manage multiple concurrent tasks . flexible handle unexpected daily challenges . strong written verbal communication skills . responsibilities independently meet product management personnel review elaborate document system requirements design effective efficient technical solutions create high quality software based business driven goals timely manner practice agile sc ##rum development techniques create architectural code level documentation sharing technical knowledge team provide project status development manager develop implement software supports inter ##oper ##ability participate peer code reviews review test objectives test cases our benefits package includes comprehensive medical benefits competitive pay k retirement plan and much more about te ##k ##par ##tner ##s te ##k ##par ##tner ##s one fastest growing private staff ##ing firms united states . we premier provider highly qualified it talent workforce solutions business intelligence solutions many enterprise organizations across nation . as experts industry team continues match proven talent right job opportunity [SEP]\n"
          ],
          "name": "stderr"
        },
        {
          "output_type": "stream",
          "text": [
            "INFO:tensorflow:input_ids: 101 29296 8241 24529 4160 2140 20950 1060 14540 2102 4874 8048 4106 2640 3325 22975 2361 12997 22278 2241 3716 20116 2015 16129 3325 2551 2544 2491 4007 2136 3192 8241 1056 10343 6581 2517 8700 4806 4813 3754 2147 9174 2136 6987 8048 6581 3291 13729 4813 10539 2969 11753 8360 4813 2583 6133 3674 16483 8518 1012 12379 5047 9223 3679 7860 1012 2844 2517 12064 4807 4813 1012 10198 9174 3113 4031 2968 5073 3319 9603 6254 2291 5918 2640 4621 8114 4087 7300 3443 2152 3737 4007 2241 2449 5533 3289 23259 5450 3218 29003 8040 6824 2458 5461 3443 6549 3642 2504 12653 6631 4087 3716 2136 3073 2622 3570 2458 3208 4503 10408 4007 6753 6970 25918 8010 5589 8152 3642 4391 3319 3231 11100 3231 3572 2256 6666 7427 2950 7721 2966 6666 6975 3477 1047 5075 2933 1998 2172 2062 2055 8915 2243 19362 18885 2015 8915 2243 19362 18885 2015 2028 7915 3652 2797 3095 2075 9786 2142 2163 1012 2057 4239 10802 3811 4591 2009 5848 14877 7300 2449 4454 7300 2116 6960 4411 2408 3842 1012 2004 8519 3068 2136 4247 2674 10003 5848 2157 3105 4495 102\n"
          ],
          "name": "stdout"
        },
        {
          "output_type": "stream",
          "text": [
            "INFO:tensorflow:input_ids: 101 29296 8241 24529 4160 2140 20950 1060 14540 2102 4874 8048 4106 2640 3325 22975 2361 12997 22278 2241 3716 20116 2015 16129 3325 2551 2544 2491 4007 2136 3192 8241 1056 10343 6581 2517 8700 4806 4813 3754 2147 9174 2136 6987 8048 6581 3291 13729 4813 10539 2969 11753 8360 4813 2583 6133 3674 16483 8518 1012 12379 5047 9223 3679 7860 1012 2844 2517 12064 4807 4813 1012 10198 9174 3113 4031 2968 5073 3319 9603 6254 2291 5918 2640 4621 8114 4087 7300 3443 2152 3737 4007 2241 2449 5533 3289 23259 5450 3218 29003 8040 6824 2458 5461 3443 6549 3642 2504 12653 6631 4087 3716 2136 3073 2622 3570 2458 3208 4503 10408 4007 6753 6970 25918 8010 5589 8152 3642 4391 3319 3231 11100 3231 3572 2256 6666 7427 2950 7721 2966 6666 6975 3477 1047 5075 2933 1998 2172 2062 2055 8915 2243 19362 18885 2015 8915 2243 19362 18885 2015 2028 7915 3652 2797 3095 2075 9786 2142 2163 1012 2057 4239 10802 3811 4591 2009 5848 14877 7300 2449 4454 7300 2116 6960 4411 2408 3842 1012 2004 8519 3068 2136 4247 2674 10003 5848 2157 3105 4495 102\n"
          ],
          "name": "stderr"
        },
        {
          "output_type": "stream",
          "text": [
            "INFO:tensorflow:input_mask: 1 1 1 1 1 1 1 1 1 1 1 1 1 1 1 1 1 1 1 1 1 1 1 1 1 1 1 1 1 1 1 1 1 1 1 1 1 1 1 1 1 1 1 1 1 1 1 1 1 1 1 1 1 1 1 1 1 1 1 1 1 1 1 1 1 1 1 1 1 1 1 1 1 1 1 1 1 1 1 1 1 1 1 1 1 1 1 1 1 1 1 1 1 1 1 1 1 1 1 1 1 1 1 1 1 1 1 1 1 1 1 1 1 1 1 1 1 1 1 1 1 1 1 1 1 1 1 1 1 1 1 1 1 1 1 1 1 1 1 1 1 1 1 1 1 1 1 1 1 1 1 1 1 1 1 1 1 1 1 1 1 1 1 1 1 1 1 1 1 1 1 1 1 1 1 1 1 1 1 1 1 1 1 1 1 1 1 1 1 1 1 1 1 1 1 1 1 1 1 1\n"
          ],
          "name": "stdout"
        },
        {
          "output_type": "stream",
          "text": [
            "INFO:tensorflow:input_mask: 1 1 1 1 1 1 1 1 1 1 1 1 1 1 1 1 1 1 1 1 1 1 1 1 1 1 1 1 1 1 1 1 1 1 1 1 1 1 1 1 1 1 1 1 1 1 1 1 1 1 1 1 1 1 1 1 1 1 1 1 1 1 1 1 1 1 1 1 1 1 1 1 1 1 1 1 1 1 1 1 1 1 1 1 1 1 1 1 1 1 1 1 1 1 1 1 1 1 1 1 1 1 1 1 1 1 1 1 1 1 1 1 1 1 1 1 1 1 1 1 1 1 1 1 1 1 1 1 1 1 1 1 1 1 1 1 1 1 1 1 1 1 1 1 1 1 1 1 1 1 1 1 1 1 1 1 1 1 1 1 1 1 1 1 1 1 1 1 1 1 1 1 1 1 1 1 1 1 1 1 1 1 1 1 1 1 1 1 1 1 1 1 1 1 1 1 1 1 1 1\n"
          ],
          "name": "stderr"
        },
        {
          "output_type": "stream",
          "text": [
            "INFO:tensorflow:segment_ids: 0 0 0 0 0 0 0 0 0 0 0 0 0 0 0 0 0 0 0 0 0 0 0 0 0 0 0 0 0 0 0 0 0 0 0 0 0 0 0 0 0 0 0 0 0 0 0 0 0 0 0 0 0 0 0 0 0 0 0 0 0 0 0 0 0 0 0 0 0 0 0 0 0 0 0 0 0 0 0 0 0 0 0 0 0 0 0 0 0 0 0 0 0 0 0 0 0 0 0 0 0 0 0 0 0 0 0 0 0 0 0 0 0 0 0 0 0 0 0 0 0 0 0 0 0 0 0 0 0 0 0 0 0 0 0 0 0 0 0 0 0 0 0 0 0 0 0 0 0 0 0 0 0 0 0 0 0 0 0 0 0 0 0 0 0 0 0 0 0 0 0 0 0 0 0 0 0 0 0 0 0 0 0 0 0 0 0 0 0 0 0 0 0 0 0 0 0 0 0 0\n"
          ],
          "name": "stdout"
        },
        {
          "output_type": "stream",
          "text": [
            "INFO:tensorflow:segment_ids: 0 0 0 0 0 0 0 0 0 0 0 0 0 0 0 0 0 0 0 0 0 0 0 0 0 0 0 0 0 0 0 0 0 0 0 0 0 0 0 0 0 0 0 0 0 0 0 0 0 0 0 0 0 0 0 0 0 0 0 0 0 0 0 0 0 0 0 0 0 0 0 0 0 0 0 0 0 0 0 0 0 0 0 0 0 0 0 0 0 0 0 0 0 0 0 0 0 0 0 0 0 0 0 0 0 0 0 0 0 0 0 0 0 0 0 0 0 0 0 0 0 0 0 0 0 0 0 0 0 0 0 0 0 0 0 0 0 0 0 0 0 0 0 0 0 0 0 0 0 0 0 0 0 0 0 0 0 0 0 0 0 0 0 0 0 0 0 0 0 0 0 0 0 0 0 0 0 0 0 0 0 0 0 0 0 0 0 0 0 0 0 0 0 0 0 0 0 0 0 0\n"
          ],
          "name": "stderr"
        },
        {
          "output_type": "stream",
          "text": [
            "INFO:tensorflow:label: 1 (id = 1)\n"
          ],
          "name": "stdout"
        },
        {
          "output_type": "stream",
          "text": [
            "INFO:tensorflow:label: 1 (id = 1)\n"
          ],
          "name": "stderr"
        }
      ]
    },
    {
      "cell_type": "code",
      "metadata": {
        "id": "-nlDmp2bVFab",
        "colab_type": "code",
        "colab": {
          "base_uri": "https://localhost:8080/",
          "height": 0
        },
        "outputId": "b64f69e1-01d8-41e8-aa64-ce58d974f06d"
      },
      "source": [
        "\n",
        "#Example on first observation in the training set\n",
        "print(\"Sentence : \", train_InputExamples.iloc[0].text_a)\n",
        "print(\"-\"*30)\n",
        "print(\"Tokens : \", tokenizer.tokenize(train_InputExamples.iloc[0].text_a))\n",
        "print(\"-\"*30)\n",
        "print(\"Input IDs : \", train_features[0].input_ids)\n",
        "print(\"-\"*30)\n",
        "print(\"Input Masks : \", train_features[0].input_mask)\n",
        "print(\"-\"*30)\n",
        "print(\"Segment IDs : \", train_features[0].segment_ids)"
      ],
      "execution_count": 73,
      "outputs": [
        {
          "output_type": "stream",
          "text": [
            "Sentence :  Minimum Required Skills Photoshop Front End Development JavaScript JQuery HTML CSS Wireframes Mock ups Prototypes AJAX UX Development EXT JS If UX Developer experience please read Based Carlsbad CA one fastest growing supply chain intelligence companies hit market . We well funded well established company growing rapidly unique target market using cloud based technology collect analyze distribute big data supply chain intelligence order optimize efficiency logistics supply chain companies country . We excellent leadership made company flourishing San Diego area . Currently seeking highly skilled UX Developer experience Front End Development User Interface User Experience development Javascript .JS D . If strong working HTML HTML CSS CSS .JS Ext JS D skills listed read . We need someone extensive experience UI UX web development skills would love opportunity speak amazing opportunityTop Reasons Work Us Competitive Salary Great Benefits Brand New MAC PC hired work Flexible hours schedule week Fun work environment paid vacataion What You Will Be Doing Identify user requirements specifications Maintain complex files rapid prototyping Work design team product owners define optimal design specifications capabilitiesWhat You Need PositionMore Than Years experience knowledge Must UX UI Web Development Must experienced Angular Ember Backbone Node JS D Must solid Javascript\n",
            "------------------------------\n",
            "Tokens :  ['minimum', 'required', 'skills', 'photos', '##hop', 'front', 'end', 'development', 'java', '##script', 'j', '##que', '##ry', 'html', 'cs', '##s', 'wire', '##frame', '##s', 'mock', 'ups', 'prototypes', 'ajax', 'u', '##x', 'development', 'ex', '##t', 'j', '##s', 'if', 'u', '##x', 'developer', 'experience', 'please', 'read', 'based', 'carl', '##sb', '##ad', 'ca', 'one', 'fastest', 'growing', 'supply', 'chain', 'intelligence', 'companies', 'hit', 'market', '.', 'we', 'well', 'funded', 'well', 'established', 'company', 'growing', 'rapidly', 'unique', 'target', 'market', 'using', 'cloud', 'based', 'technology', 'collect', 'analyze', 'distribute', 'big', 'data', 'supply', 'chain', 'intelligence', 'order', 'opt', '##imi', '##ze', 'efficiency', 'logistics', 'supply', 'chain', 'companies', 'country', '.', 'we', 'excellent', 'leadership', 'made', 'company', 'flourishing', 'san', 'diego', 'area', '.', 'currently', 'seeking', 'highly', 'skilled', 'u', '##x', 'developer', 'experience', 'front', 'end', 'development', 'user', 'interface', 'user', 'experience', 'development', 'java', '##script', '.', 'j', '##s', 'd', '.', 'if', 'strong', 'working', 'html', 'html', 'cs', '##s', 'cs', '##s', '.', 'j', '##s', 'ex', '##t', 'j', '##s', 'd', 'skills', 'listed', 'read', '.', 'we', 'need', 'someone', 'extensive', 'experience', 'ui', 'u', '##x', 'web', 'development', 'skills', 'would', 'love', 'opportunity', 'speak', 'amazing', 'opportunity', '##top', 'reasons', 'work', 'us', 'competitive', 'salary', 'great', 'benefits', 'brand', 'new', 'mac', 'pc', 'hired', 'work', 'flexible', 'hours', 'schedule', 'week', 'fun', 'work', 'environment', 'paid', 'va', '##cat', '##ai', '##on', 'what', 'you', 'will', 'be', 'doing', 'identify', 'user', 'requirements', 'specifications', 'maintain', 'complex', 'files', 'rapid', 'proto', '##ty', '##ping', 'work', 'design', 'team', 'product', 'owners', 'define', 'optimal', 'design', 'specifications', 'capabilities', '##w', '##hat', 'you', 'need', 'position', '##more', 'than', 'years', 'experience', 'knowledge', 'must', 'u', '##x', 'ui', 'web', 'development', 'must', 'experienced', 'angular', 'em', '##ber', 'backbone', 'node', 'j', '##s', 'd', 'must', 'solid', 'java', '##script']\n",
            "------------------------------\n",
            "Input IDs :  [101, 6263, 3223, 4813, 7760, 18471, 2392, 2203, 2458, 9262, 22483, 1046, 4226, 2854, 16129, 20116, 2015, 7318, 15643, 2015, 12934, 11139, 19599, 18176, 1057, 2595, 2458, 4654, 2102, 1046, 2015, 2065, 1057, 2595, 9722, 3325, 3531, 3191, 2241, 5529, 19022, 4215, 6187, 2028, 7915, 3652, 4425, 4677, 4454, 3316, 2718, 3006, 1012, 2057, 2092, 6787, 2092, 2511, 2194, 3652, 5901, 4310, 4539, 3006, 2478, 6112, 2241, 2974, 8145, 17908, 16062, 2502, 2951, 4425, 4677, 4454, 2344, 23569, 27605, 4371, 8122, 12708, 4425, 4677, 3316, 2406, 1012, 2057, 6581, 4105, 2081, 2194, 29571, 2624, 5277, 2181, 1012, 2747, 6224, 3811, 10571, 1057, 2595, 9722, 3325, 2392, 2203, 2458, 5310, 8278, 5310, 3325, 2458, 9262, 22483, 1012, 1046, 2015, 1040, 1012, 2065, 2844, 2551, 16129, 16129, 20116, 2015, 20116, 2015, 1012, 1046, 2015, 4654, 2102, 1046, 2015, 1040, 4813, 3205, 3191, 1012, 2057, 2342, 2619, 4866, 3325, 21318, 1057, 2595, 4773, 2458, 4813, 2052, 2293, 4495, 3713, 6429, 4495, 14399, 4436, 2147, 2149, 6975, 10300, 2307, 6666, 4435, 2047, 6097, 7473, 5086, 2147, 12379, 2847, 6134, 2733, 4569, 2147, 4044, 3825, 12436, 11266, 4886, 2239, 2054, 2017, 2097, 2022, 2725, 6709, 5310, 5918, 15480, 5441, 3375, 6764, 5915, 15053, 3723, 102]\n",
            "------------------------------\n",
            "Input Masks :  [1, 1, 1, 1, 1, 1, 1, 1, 1, 1, 1, 1, 1, 1, 1, 1, 1, 1, 1, 1, 1, 1, 1, 1, 1, 1, 1, 1, 1, 1, 1, 1, 1, 1, 1, 1, 1, 1, 1, 1, 1, 1, 1, 1, 1, 1, 1, 1, 1, 1, 1, 1, 1, 1, 1, 1, 1, 1, 1, 1, 1, 1, 1, 1, 1, 1, 1, 1, 1, 1, 1, 1, 1, 1, 1, 1, 1, 1, 1, 1, 1, 1, 1, 1, 1, 1, 1, 1, 1, 1, 1, 1, 1, 1, 1, 1, 1, 1, 1, 1, 1, 1, 1, 1, 1, 1, 1, 1, 1, 1, 1, 1, 1, 1, 1, 1, 1, 1, 1, 1, 1, 1, 1, 1, 1, 1, 1, 1, 1, 1, 1, 1, 1, 1, 1, 1, 1, 1, 1, 1, 1, 1, 1, 1, 1, 1, 1, 1, 1, 1, 1, 1, 1, 1, 1, 1, 1, 1, 1, 1, 1, 1, 1, 1, 1, 1, 1, 1, 1, 1, 1, 1, 1, 1, 1, 1, 1, 1, 1, 1, 1, 1, 1, 1, 1, 1, 1, 1, 1, 1, 1, 1, 1, 1, 1, 1, 1, 1, 1, 1]\n",
            "------------------------------\n",
            "Segment IDs :  [0, 0, 0, 0, 0, 0, 0, 0, 0, 0, 0, 0, 0, 0, 0, 0, 0, 0, 0, 0, 0, 0, 0, 0, 0, 0, 0, 0, 0, 0, 0, 0, 0, 0, 0, 0, 0, 0, 0, 0, 0, 0, 0, 0, 0, 0, 0, 0, 0, 0, 0, 0, 0, 0, 0, 0, 0, 0, 0, 0, 0, 0, 0, 0, 0, 0, 0, 0, 0, 0, 0, 0, 0, 0, 0, 0, 0, 0, 0, 0, 0, 0, 0, 0, 0, 0, 0, 0, 0, 0, 0, 0, 0, 0, 0, 0, 0, 0, 0, 0, 0, 0, 0, 0, 0, 0, 0, 0, 0, 0, 0, 0, 0, 0, 0, 0, 0, 0, 0, 0, 0, 0, 0, 0, 0, 0, 0, 0, 0, 0, 0, 0, 0, 0, 0, 0, 0, 0, 0, 0, 0, 0, 0, 0, 0, 0, 0, 0, 0, 0, 0, 0, 0, 0, 0, 0, 0, 0, 0, 0, 0, 0, 0, 0, 0, 0, 0, 0, 0, 0, 0, 0, 0, 0, 0, 0, 0, 0, 0, 0, 0, 0, 0, 0, 0, 0, 0, 0, 0, 0, 0, 0, 0, 0, 0, 0, 0, 0, 0, 0]\n"
          ],
          "name": "stdout"
        }
      ]
    },
    {
      "cell_type": "code",
      "metadata": {
        "id": "cr4GTn_vVFeL",
        "colab_type": "code",
        "colab": {}
      },
      "source": [
        "def create_model(is_predicting, input_ids, input_mask, segment_ids, labels,\n",
        "                 num_labels):\n",
        "  \n",
        "  bert_module = hub.Module(\n",
        "      BERT_MODEL_HUB,\n",
        "      trainable=True)\n",
        "  bert_inputs = dict(\n",
        "      input_ids=input_ids,\n",
        "      input_mask=input_mask,\n",
        "      segment_ids=segment_ids)\n",
        "  bert_outputs = bert_module(\n",
        "      inputs=bert_inputs,\n",
        "      signature=\"tokens\",\n",
        "      as_dict=True)\n",
        "\n",
        "  # Use \"pooled_output\" for classification tasks on an entire sentence.\n",
        "  # Use \"sequence_outputs\" for token-level output.\n",
        "  output_layer = bert_outputs[\"pooled_output\"]\n",
        "  # with tf.Session() as sess:\n",
        "  output_layer1 = bert_outputs[\"pooled_output\"]\n",
        "  # output_layer1 = 999\n",
        "  hidden_size = output_layer.shape[-1].value\n",
        "\n",
        "  # Create our own layer to tune for politeness data.\n",
        "  output_weights = tf.get_variable(\n",
        "      \"output_weights\", [num_labels, hidden_size],\n",
        "      initializer=tf.truncated_normal_initializer(stddev=0.02))\n",
        "\n",
        "  output_bias = tf.get_variable(\n",
        "      \"output_bias\", [num_labels], initializer=tf.zeros_initializer())\n",
        "\n",
        "  with tf.variable_scope(\"loss\"):\n",
        "\n",
        "    # Dropout helps prevent overfitting\n",
        "    output_layer = tf.nn.dropout(output_layer, keep_prob=0.8)\n",
        "\n",
        "    logits = tf.matmul(output_layer, output_weights, transpose_b=True)\n",
        "    logits = tf.nn.bias_add(logits, output_bias)\n",
        "    log_probs = tf.nn.log_softmax(logits, axis=-1)\n",
        "\n",
        "    # Convert labels into one-hot encoding\n",
        "    one_hot_labels = tf.one_hot(labels, depth=num_labels, dtype=tf.float32)\n",
        "\n",
        "    predicted_labels = tf.squeeze(tf.argmax(log_probs, axis=-1, output_type=tf.int32))\n",
        "    # If we're predicting, we want predicted labels and the probabiltiies.\n",
        "    if is_predicting:\n",
        "      return (predicted_labels, log_probs, output_layer1)\n",
        "\n",
        "    # If we're train/eval, compute loss between predicted and actual label\n",
        "    per_example_loss = -tf.reduce_sum(one_hot_labels * log_probs, axis=-1)\n",
        "    loss = tf.reduce_mean(per_example_loss)\n",
        "    return (loss, predicted_labels, log_probs)"
      ],
      "execution_count": 74,
      "outputs": []
    },
    {
      "cell_type": "code",
      "metadata": {
        "id": "X5JXgexKVFhQ",
        "colab_type": "code",
        "colab": {}
      },
      "source": [
        "def model_fn_builder(num_labels, learning_rate, num_train_steps,\n",
        "                     num_warmup_steps):\n",
        "  \"\"\"Returns model_fn closure for TPUEstimator.\"\"\"\n",
        "  def model_fn(features, labels, mode, params):  # pylint: disable=unused-argument\n",
        "    \"\"\"The model_fn for TPUEstimator.\"\"\"\n",
        "\n",
        "    input_ids = features[\"input_ids\"]\n",
        "    input_mask = features[\"input_mask\"]\n",
        "    segment_ids = features[\"segment_ids\"]\n",
        "    label_ids = features[\"label_ids\"]\n",
        "\n",
        "    is_predicting = (mode == tf.estimator.ModeKeys.PREDICT)\n",
        "    \n",
        "    # TRAIN and EVAL\n",
        "    if not is_predicting:\n",
        "\n",
        "      (loss, predicted_labels, log_probs) = create_model(\n",
        "        is_predicting, input_ids, input_mask, segment_ids, label_ids, num_labels)\n",
        "\n",
        "      train_op = bert.optimization.create_optimizer(\n",
        "          loss, learning_rate, num_train_steps, num_warmup_steps, use_tpu=False)\n",
        "\n",
        "      # Calculate evaluation metrics. \n",
        "      def metric_fn(label_ids, predicted_labels):\n",
        "        accuracy = tf.metrics.accuracy(label_ids, predicted_labels)\n",
        "        true_pos = tf.metrics.true_positives(\n",
        "            label_ids,\n",
        "            predicted_labels)\n",
        "        true_neg = tf.metrics.true_negatives(\n",
        "            label_ids,\n",
        "            predicted_labels)   \n",
        "        false_pos = tf.metrics.false_positives(\n",
        "            label_ids,\n",
        "            predicted_labels)  \n",
        "        false_neg = tf.metrics.false_negatives(\n",
        "            label_ids,\n",
        "            predicted_labels)\n",
        "        \n",
        "        return {\n",
        "            \"eval_accuracy\": accuracy,\n",
        "            \"true_positives\": true_pos,\n",
        "            \"true_negatives\": true_neg,\n",
        "            \"false_positives\": false_pos,\n",
        "            \"false_negatives\": false_neg,\n",
        "            }\n",
        "\n",
        "      eval_metrics = metric_fn(label_ids, predicted_labels)\n",
        "\n",
        "      if mode == tf.estimator.ModeKeys.TRAIN:\n",
        "        return tf.estimator.EstimatorSpec(mode=mode,\n",
        "          loss=loss,\n",
        "          train_op=train_op)\n",
        "      else:\n",
        "          return tf.estimator.EstimatorSpec(mode=mode,\n",
        "            loss=loss,\n",
        "            eval_metric_ops=eval_metrics)\n",
        "    else:\n",
        "      (predicted_labels, log_probs, output_layer) = create_model(\n",
        "        is_predicting, input_ids, input_mask, segment_ids, label_ids, num_labels)\n",
        "      predictions = {\n",
        "          'probabilities': log_probs,\n",
        "          'labels': predicted_labels,\n",
        "          'pooled_output': output_layer\n",
        "      }\n",
        "      return tf.estimator.EstimatorSpec(mode, predictions=predictions)\n",
        "\n",
        "  # Return the actual model function in the closure\n",
        "  return model_fn"
      ],
      "execution_count": 75,
      "outputs": []
    },
    {
      "cell_type": "code",
      "metadata": {
        "id": "cj_SqwuGVFkz",
        "colab_type": "code",
        "colab": {}
      },
      "source": [
        "BATCH_SIZE = 16\n",
        "LEARNING_RATE = 2e-5\n",
        "NUM_TRAIN_EPOCHS = 1.0\n",
        "# Warmup is a period of time where the learning rate is small and gradually increases--usually helps training.\n",
        "WARMUP_PROPORTION = 0.1\n",
        "# Model configs\n",
        "SAVE_CHECKPOINTS_STEPS = 300\n",
        "SAVE_SUMMARY_STEPS = 100\n",
        "\n",
        "# Compute train and warmup steps from batch size\n",
        "num_train_steps = int(len(train_features) / BATCH_SIZE * NUM_TRAIN_EPOCHS)\n",
        "num_warmup_steps = int(num_train_steps * WARMUP_PROPORTION)\n",
        "\n",
        "# Specify output directory and number of checkpoint steps to save\n",
        "run_config = tf.estimator.RunConfig(\n",
        "    model_dir=OUTPUT_DIR,\n",
        "    save_summary_steps=SAVE_SUMMARY_STEPS,\n",
        "    save_checkpoints_steps=SAVE_CHECKPOINTS_STEPS)\n",
        "\n",
        "# Specify output directory and number of checkpoint steps to save\n",
        "run_config = tf.estimator.RunConfig(\n",
        "    model_dir=OUTPUT_DIR,\n",
        "    save_summary_steps=SAVE_SUMMARY_STEPS,\n",
        "    save_checkpoints_steps=SAVE_CHECKPOINTS_STEPS)"
      ],
      "execution_count": 76,
      "outputs": []
    },
    {
      "cell_type": "code",
      "metadata": {
        "id": "AEZ0mt9VdwYG",
        "colab_type": "code",
        "colab": {
          "base_uri": "https://localhost:8080/",
          "height": 0
        },
        "outputId": "b73f6773-c405-4529-8beb-5d651f976284"
      },
      "source": [
        "num_train_steps, len(label_list)"
      ],
      "execution_count": 77,
      "outputs": [
        {
          "output_type": "execute_result",
          "data": {
            "text/plain": [
              "(232, 2)"
            ]
          },
          "metadata": {
            "tags": []
          },
          "execution_count": 77
        }
      ]
    },
    {
      "cell_type": "code",
      "metadata": {
        "id": "Q-Gi1JjNdwdO",
        "colab_type": "code",
        "colab": {
          "base_uri": "https://localhost:8080/",
          "height": 0
        },
        "outputId": "174fdaf1-3471-45aa-eaeb-d60809ea03e0"
      },
      "source": [
        "#Initializing the model and the estimator\n",
        "model_fn = model_fn_builder(\n",
        "  num_labels=len(label_list),\n",
        "  learning_rate=LEARNING_RATE,\n",
        "  num_train_steps=num_train_steps,\n",
        "  num_warmup_steps=num_warmup_steps)\n",
        "\n",
        "estimator = tf.estimator.Estimator(\n",
        "  model_fn=model_fn,\n",
        "  config=run_config,\n",
        "  params={\"batch_size\": BATCH_SIZE})"
      ],
      "execution_count": 78,
      "outputs": [
        {
          "output_type": "stream",
          "text": [
            "INFO:tensorflow:Using config: {'_model_dir': '/content/bert_jd_category', '_tf_random_seed': None, '_save_summary_steps': 100, '_save_checkpoints_steps': 300, '_save_checkpoints_secs': None, '_session_config': allow_soft_placement: true\n",
            "graph_options {\n",
            "  rewrite_options {\n",
            "    meta_optimizer_iterations: ONE\n",
            "  }\n",
            "}\n",
            ", '_keep_checkpoint_max': 5, '_keep_checkpoint_every_n_hours': 10000, '_log_step_count_steps': 100, '_train_distribute': None, '_device_fn': None, '_protocol': None, '_eval_distribute': None, '_experimental_distribute': None, '_experimental_max_worker_delay_secs': None, '_session_creation_timeout_secs': 7200, '_service': None, '_cluster_spec': <tensorflow.python.training.server_lib.ClusterSpec object at 0x7f128b4afdd8>, '_task_type': 'worker', '_task_id': 0, '_global_id_in_cluster': 0, '_master': '', '_evaluation_master': '', '_is_chief': True, '_num_ps_replicas': 0, '_num_worker_replicas': 1}\n"
          ],
          "name": "stdout"
        },
        {
          "output_type": "stream",
          "text": [
            "INFO:tensorflow:Using config: {'_model_dir': '/content/bert_jd_category', '_tf_random_seed': None, '_save_summary_steps': 100, '_save_checkpoints_steps': 300, '_save_checkpoints_secs': None, '_session_config': allow_soft_placement: true\n",
            "graph_options {\n",
            "  rewrite_options {\n",
            "    meta_optimizer_iterations: ONE\n",
            "  }\n",
            "}\n",
            ", '_keep_checkpoint_max': 5, '_keep_checkpoint_every_n_hours': 10000, '_log_step_count_steps': 100, '_train_distribute': None, '_device_fn': None, '_protocol': None, '_eval_distribute': None, '_experimental_distribute': None, '_experimental_max_worker_delay_secs': None, '_session_creation_timeout_secs': 7200, '_service': None, '_cluster_spec': <tensorflow.python.training.server_lib.ClusterSpec object at 0x7f128b4afdd8>, '_task_type': 'worker', '_task_id': 0, '_global_id_in_cluster': 0, '_master': '', '_evaluation_master': '', '_is_chief': True, '_num_ps_replicas': 0, '_num_worker_replicas': 1}\n"
          ],
          "name": "stderr"
        }
      ]
    },
    {
      "cell_type": "code",
      "metadata": {
        "id": "fUhN22BPdwg4",
        "colab_type": "code",
        "colab": {}
      },
      "source": [
        "\n",
        "# Create an input function for training. drop_remainder = True for using TPUs.\n",
        "train_input_fn = bert.run_classifier.input_fn_builder(\n",
        "    features=train_features,\n",
        "    seq_length=MAX_SEQ_LENGTH,\n",
        "    is_training=True,\n",
        "    drop_remainder=False)\n",
        "\n",
        "# Create an input function for validating. drop_remainder = True for using TPUs.\n",
        "val_input_fn = run_classifier.input_fn_builder(\n",
        "    features=val_features,\n",
        "    seq_length=MAX_SEQ_LENGTH,\n",
        "    is_training=False,\n",
        "    drop_remainder=False)"
      ],
      "execution_count": 79,
      "outputs": []
    },
    {
      "cell_type": "code",
      "metadata": {
        "id": "306m1DnHdwla",
        "colab_type": "code",
        "colab": {
          "base_uri": "https://localhost:8080/",
          "height": 751
        },
        "outputId": "8f4aecf6-c6cb-430e-ff3b-611af3659f99"
      },
      "source": [
        "#Training the model\n",
        "print(f'Beginning Training!')\n",
        "current_time = datetime.now()\n",
        "estimator.train(input_fn=train_input_fn, max_steps=num_train_steps)\n",
        "print(\"Training took time \", datetime.now() - current_time)"
      ],
      "execution_count": 82,
      "outputs": [
        {
          "output_type": "stream",
          "text": [
            "Beginning Training!\n",
            "INFO:tensorflow:Calling model_fn.\n"
          ],
          "name": "stdout"
        },
        {
          "output_type": "stream",
          "text": [
            "INFO:tensorflow:Calling model_fn.\n"
          ],
          "name": "stderr"
        },
        {
          "output_type": "stream",
          "text": [
            "INFO:tensorflow:Saver not created because there are no variables in the graph to restore\n"
          ],
          "name": "stdout"
        },
        {
          "output_type": "stream",
          "text": [
            "INFO:tensorflow:Saver not created because there are no variables in the graph to restore\n",
            "/tensorflow-1.15.2/python3.6/tensorflow_core/python/framework/indexed_slices.py:424: UserWarning: Converting sparse IndexedSlices to a dense Tensor of unknown shape. This may consume a large amount of memory.\n",
            "  \"Converting sparse IndexedSlices to a dense Tensor of unknown shape. \"\n"
          ],
          "name": "stderr"
        },
        {
          "output_type": "stream",
          "text": [
            "INFO:tensorflow:Done calling model_fn.\n"
          ],
          "name": "stdout"
        },
        {
          "output_type": "stream",
          "text": [
            "INFO:tensorflow:Done calling model_fn.\n"
          ],
          "name": "stderr"
        },
        {
          "output_type": "stream",
          "text": [
            "INFO:tensorflow:Create CheckpointSaverHook.\n"
          ],
          "name": "stdout"
        },
        {
          "output_type": "stream",
          "text": [
            "INFO:tensorflow:Create CheckpointSaverHook.\n"
          ],
          "name": "stderr"
        },
        {
          "output_type": "stream",
          "text": [
            "INFO:tensorflow:Graph was finalized.\n"
          ],
          "name": "stdout"
        },
        {
          "output_type": "stream",
          "text": [
            "INFO:tensorflow:Graph was finalized.\n"
          ],
          "name": "stderr"
        },
        {
          "output_type": "stream",
          "text": [
            "INFO:tensorflow:Restoring parameters from /content/bert_jd_category/model.ckpt-0\n"
          ],
          "name": "stdout"
        },
        {
          "output_type": "stream",
          "text": [
            "INFO:tensorflow:Restoring parameters from /content/bert_jd_category/model.ckpt-0\n"
          ],
          "name": "stderr"
        },
        {
          "output_type": "stream",
          "text": [
            "WARNING:tensorflow:From /tensorflow-1.15.2/python3.6/tensorflow_core/python/training/saver.py:1069: get_checkpoint_mtimes (from tensorflow.python.training.checkpoint_management) is deprecated and will be removed in a future version.\n",
            "Instructions for updating:\n",
            "Use standard file utilities to get mtimes.\n"
          ],
          "name": "stdout"
        },
        {
          "output_type": "stream",
          "text": [
            "WARNING:tensorflow:From /tensorflow-1.15.2/python3.6/tensorflow_core/python/training/saver.py:1069: get_checkpoint_mtimes (from tensorflow.python.training.checkpoint_management) is deprecated and will be removed in a future version.\n",
            "Instructions for updating:\n",
            "Use standard file utilities to get mtimes.\n"
          ],
          "name": "stderr"
        },
        {
          "output_type": "stream",
          "text": [
            "INFO:tensorflow:Running local_init_op.\n"
          ],
          "name": "stdout"
        },
        {
          "output_type": "stream",
          "text": [
            "INFO:tensorflow:Running local_init_op.\n"
          ],
          "name": "stderr"
        },
        {
          "output_type": "stream",
          "text": [
            "INFO:tensorflow:Done running local_init_op.\n"
          ],
          "name": "stdout"
        },
        {
          "output_type": "stream",
          "text": [
            "INFO:tensorflow:Done running local_init_op.\n"
          ],
          "name": "stderr"
        },
        {
          "output_type": "stream",
          "text": [
            "INFO:tensorflow:Saving checkpoints for 0 into /content/bert_jd_category/model.ckpt.\n"
          ],
          "name": "stdout"
        },
        {
          "output_type": "stream",
          "text": [
            "INFO:tensorflow:Saving checkpoints for 0 into /content/bert_jd_category/model.ckpt.\n"
          ],
          "name": "stderr"
        },
        {
          "output_type": "stream",
          "text": [
            "INFO:tensorflow:loss = 0.69896746, step = 0\n"
          ],
          "name": "stdout"
        },
        {
          "output_type": "stream",
          "text": [
            "INFO:tensorflow:loss = 0.69896746, step = 0\n"
          ],
          "name": "stderr"
        },
        {
          "output_type": "stream",
          "text": [
            "INFO:tensorflow:global_step/sec: 0.915923\n"
          ],
          "name": "stdout"
        },
        {
          "output_type": "stream",
          "text": [
            "INFO:tensorflow:global_step/sec: 0.915923\n"
          ],
          "name": "stderr"
        },
        {
          "output_type": "stream",
          "text": [
            "INFO:tensorflow:loss = 0.21595019, step = 100 (109.182 sec)\n"
          ],
          "name": "stdout"
        },
        {
          "output_type": "stream",
          "text": [
            "INFO:tensorflow:loss = 0.21595019, step = 100 (109.182 sec)\n"
          ],
          "name": "stderr"
        },
        {
          "output_type": "stream",
          "text": [
            "INFO:tensorflow:global_step/sec: 1.076\n"
          ],
          "name": "stdout"
        },
        {
          "output_type": "stream",
          "text": [
            "INFO:tensorflow:global_step/sec: 1.076\n"
          ],
          "name": "stderr"
        },
        {
          "output_type": "stream",
          "text": [
            "INFO:tensorflow:loss = 0.37110186, step = 200 (92.936 sec)\n"
          ],
          "name": "stdout"
        },
        {
          "output_type": "stream",
          "text": [
            "INFO:tensorflow:loss = 0.37110186, step = 200 (92.936 sec)\n"
          ],
          "name": "stderr"
        },
        {
          "output_type": "stream",
          "text": [
            "INFO:tensorflow:Saving checkpoints for 232 into /content/bert_jd_category/model.ckpt.\n"
          ],
          "name": "stdout"
        },
        {
          "output_type": "stream",
          "text": [
            "INFO:tensorflow:Saving checkpoints for 232 into /content/bert_jd_category/model.ckpt.\n"
          ],
          "name": "stderr"
        },
        {
          "output_type": "stream",
          "text": [
            "INFO:tensorflow:Loss for final step: 0.5568793.\n"
          ],
          "name": "stdout"
        },
        {
          "output_type": "stream",
          "text": [
            "INFO:tensorflow:Loss for final step: 0.5568793.\n"
          ],
          "name": "stderr"
        },
        {
          "output_type": "stream",
          "text": [
            "Training took time  0:04:35.126929\n"
          ],
          "name": "stdout"
        }
      ]
    },
    {
      "cell_type": "code",
      "metadata": {
        "id": "h7-mjCZHeKxO",
        "colab_type": "code",
        "colab": {
          "base_uri": "https://localhost:8080/",
          "height": 564
        },
        "outputId": "165e19c3-b83d-49f0-a739-4e804db3bb0e"
      },
      "source": [
        "estimator.evaluate(input_fn=val_input_fn, steps=None)"
      ],
      "execution_count": 83,
      "outputs": [
        {
          "output_type": "stream",
          "text": [
            "INFO:tensorflow:Calling model_fn.\n"
          ],
          "name": "stdout"
        },
        {
          "output_type": "stream",
          "text": [
            "INFO:tensorflow:Calling model_fn.\n"
          ],
          "name": "stderr"
        },
        {
          "output_type": "stream",
          "text": [
            "INFO:tensorflow:Saver not created because there are no variables in the graph to restore\n"
          ],
          "name": "stdout"
        },
        {
          "output_type": "stream",
          "text": [
            "INFO:tensorflow:Saver not created because there are no variables in the graph to restore\n",
            "/tensorflow-1.15.2/python3.6/tensorflow_core/python/framework/indexed_slices.py:424: UserWarning: Converting sparse IndexedSlices to a dense Tensor of unknown shape. This may consume a large amount of memory.\n",
            "  \"Converting sparse IndexedSlices to a dense Tensor of unknown shape. \"\n"
          ],
          "name": "stderr"
        },
        {
          "output_type": "stream",
          "text": [
            "INFO:tensorflow:Done calling model_fn.\n"
          ],
          "name": "stdout"
        },
        {
          "output_type": "stream",
          "text": [
            "INFO:tensorflow:Done calling model_fn.\n"
          ],
          "name": "stderr"
        },
        {
          "output_type": "stream",
          "text": [
            "INFO:tensorflow:Starting evaluation at 2020-06-26T12:00:57Z\n"
          ],
          "name": "stdout"
        },
        {
          "output_type": "stream",
          "text": [
            "INFO:tensorflow:Starting evaluation at 2020-06-26T12:00:57Z\n"
          ],
          "name": "stderr"
        },
        {
          "output_type": "stream",
          "text": [
            "INFO:tensorflow:Graph was finalized.\n"
          ],
          "name": "stdout"
        },
        {
          "output_type": "stream",
          "text": [
            "INFO:tensorflow:Graph was finalized.\n"
          ],
          "name": "stderr"
        },
        {
          "output_type": "stream",
          "text": [
            "INFO:tensorflow:Restoring parameters from /content/bert_jd_category/model.ckpt-232\n"
          ],
          "name": "stdout"
        },
        {
          "output_type": "stream",
          "text": [
            "INFO:tensorflow:Restoring parameters from /content/bert_jd_category/model.ckpt-232\n"
          ],
          "name": "stderr"
        },
        {
          "output_type": "stream",
          "text": [
            "INFO:tensorflow:Running local_init_op.\n"
          ],
          "name": "stdout"
        },
        {
          "output_type": "stream",
          "text": [
            "INFO:tensorflow:Running local_init_op.\n"
          ],
          "name": "stderr"
        },
        {
          "output_type": "stream",
          "text": [
            "INFO:tensorflow:Done running local_init_op.\n"
          ],
          "name": "stdout"
        },
        {
          "output_type": "stream",
          "text": [
            "INFO:tensorflow:Done running local_init_op.\n"
          ],
          "name": "stderr"
        },
        {
          "output_type": "stream",
          "text": [
            "INFO:tensorflow:Finished evaluation at 2020-06-26-12:01:21\n"
          ],
          "name": "stdout"
        },
        {
          "output_type": "stream",
          "text": [
            "INFO:tensorflow:Finished evaluation at 2020-06-26-12:01:21\n"
          ],
          "name": "stderr"
        },
        {
          "output_type": "stream",
          "text": [
            "INFO:tensorflow:Saving dict for global step 232: eval_accuracy = 0.8552775, false_negatives = 49.0, false_positives = 84.0, global_step = 232, loss = 0.3392484, true_negatives = 329.0, true_positives = 457.0\n"
          ],
          "name": "stdout"
        },
        {
          "output_type": "stream",
          "text": [
            "INFO:tensorflow:Saving dict for global step 232: eval_accuracy = 0.8552775, false_negatives = 49.0, false_positives = 84.0, global_step = 232, loss = 0.3392484, true_negatives = 329.0, true_positives = 457.0\n"
          ],
          "name": "stderr"
        },
        {
          "output_type": "stream",
          "text": [
            "INFO:tensorflow:Saving 'checkpoint_path' summary for global step 232: /content/bert_jd_category/model.ckpt-232\n"
          ],
          "name": "stdout"
        },
        {
          "output_type": "stream",
          "text": [
            "INFO:tensorflow:Saving 'checkpoint_path' summary for global step 232: /content/bert_jd_category/model.ckpt-232\n"
          ],
          "name": "stderr"
        },
        {
          "output_type": "execute_result",
          "data": {
            "text/plain": [
              "{'eval_accuracy': 0.8552775,\n",
              " 'false_negatives': 49.0,\n",
              " 'false_positives': 84.0,\n",
              " 'global_step': 232,\n",
              " 'loss': 0.3392484,\n",
              " 'true_negatives': 329.0,\n",
              " 'true_positives': 457.0}"
            ]
          },
          "metadata": {
            "tags": []
          },
          "execution_count": 83
        }
      ]
    },
    {
      "cell_type": "markdown",
      "metadata": {
        "id": "Ozc2nF7ig8th",
        "colab_type": "text"
      },
      "source": [
        "### 4. BERT: Get The Vector Transformations from the Fine Tuned BERT"
      ]
    },
    {
      "cell_type": "code",
      "metadata": {
        "id": "KO2ybJ4xeK1W",
        "colab_type": "code",
        "colab": {}
      },
      "source": [
        "# A method to get predictions\n",
        "def getPrediction(in_sentences, type_output = \"features\"):\n",
        "  #A list to map the actual labels to the predictions\n",
        "  labels = np.unique(train['label'])\n",
        "  input_examples = [run_classifier.InputExample(guid=\"\", text_a = x, text_b = None, label = 0) for x in in_sentences] \n",
        "  input_features = run_classifier.convert_examples_to_features(input_examples, label_list, MAX_SEQ_LENGTH, tokenizer)\n",
        "  #Predicting the classes \n",
        "  predict_input_fn = run_classifier.input_fn_builder(features=input_features, seq_length=MAX_SEQ_LENGTH, is_training=False, drop_remainder=False)\n",
        "  predictions = estimator.predict(predict_input_fn)\n",
        "  if type_output == \"features\":\n",
        "    return [prediction['pooled_output'] for _,prediction in enumerate(predictions) ]\n",
        "  else:\n",
        "    return ([(sentence, prediction['probabilities'],\n",
        "              prediction['labels'], labels[prediction['labels']]) for sentence, prediction in zip(in_sentences, predictions)])"
      ],
      "execution_count": 84,
      "outputs": []
    },
    {
      "cell_type": "code",
      "metadata": {
        "id": "0d9GW2B5eK5F",
        "colab_type": "code",
        "colab": {
          "base_uri": "https://localhost:8080/",
          "height": 34
        },
        "outputId": "db8ffe9c-77bb-4eec-deb3-7735d495ea60"
      },
      "source": [
        "tf.compat.v1.logging.set_verbosity(tf.logging.ERROR)\n",
        "MAX_SEQ_LENGTH"
      ],
      "execution_count": 85,
      "outputs": [
        {
          "output_type": "execute_result",
          "data": {
            "text/plain": [
              "200"
            ]
          },
          "metadata": {
            "tags": []
          },
          "execution_count": 85
        }
      ]
    },
    {
      "cell_type": "code",
      "metadata": {
        "id": "am84xrJ-eK80",
        "colab_type": "code",
        "colab": {
          "base_uri": "https://localhost:8080/",
          "height": 34
        },
        "outputId": "1499cd9e-9e22-4b01-d4db-886968969044"
      },
      "source": [
        "train_df.shape, val_df.shape"
      ],
      "execution_count": 86,
      "outputs": [
        {
          "output_type": "execute_result",
          "data": {
            "text/plain": [
              "((3722, 2), (919, 2))"
            ]
          },
          "metadata": {
            "tags": []
          },
          "execution_count": 86
        }
      ]
    },
    {
      "cell_type": "code",
      "metadata": {
        "id": "dqoOq92ZOcuH",
        "colab_type": "code",
        "colab": {
          "base_uri": "https://localhost:8080/",
          "height": 51
        },
        "outputId": "dcd6b154-a863-48cc-ac4b-2d6eff2a5333"
      },
      "source": [
        "%%time\n",
        "tr_emb = np.apply_along_axis(getPrediction, 0,np.array(train_df[DATA_COLUMN]))"
      ],
      "execution_count": 87,
      "outputs": [
        {
          "output_type": "stream",
          "text": [
            "CPU times: user 23.6 s, sys: 2.95 s, total: 26.5 s\n",
            "Wall time: 1min 24s\n"
          ],
          "name": "stdout"
        }
      ]
    },
    {
      "cell_type": "code",
      "metadata": {
        "id": "gVaZTXdfhUSq",
        "colab_type": "code",
        "colab": {
          "base_uri": "https://localhost:8080/",
          "height": 51
        },
        "outputId": "9685b4f8-afbc-48cf-e6ba-ae9ce66731be"
      },
      "source": [
        "%%time\n",
        "val_emb = np.apply_along_axis(getPrediction, 0,np.array(val_df[DATA_COLUMN]))\n",
        "val_emb.shape"
      ],
      "execution_count": 88,
      "outputs": [
        {
          "output_type": "stream",
          "text": [
            "CPU times: user 9.47 s, sys: 858 ms, total: 10.3 s\n",
            "Wall time: 24.6 s\n"
          ],
          "name": "stdout"
        }
      ]
    },
    {
      "cell_type": "code",
      "metadata": {
        "id": "j_YBRBd7hUV7",
        "colab_type": "code",
        "colab": {
          "base_uri": "https://localhost:8080/",
          "height": 34
        },
        "outputId": "5c2e2430-6b34-49d6-8e43-20106b94cf4f"
      },
      "source": [
        "val_emb.shape, tr_emb.shape"
      ],
      "execution_count": 89,
      "outputs": [
        {
          "output_type": "execute_result",
          "data": {
            "text/plain": [
              "((919, 768), (3722, 768))"
            ]
          },
          "metadata": {
            "tags": []
          },
          "execution_count": 89
        }
      ]
    },
    {
      "cell_type": "code",
      "metadata": {
        "id": "-WBtcP7lhUZg",
        "colab_type": "code",
        "colab": {
          "base_uri": "https://localhost:8080/",
          "height": 34
        },
        "outputId": "b882f957-9329-4302-f3b6-1d4e08b7a83e"
      },
      "source": [
        "aux = -1\n",
        "len_l = 0\n",
        "train_x = {}\n",
        "for l, emb in zip(index_l, tr_emb):\n",
        "  if l in train_x.keys():\n",
        "    train_x[l]  =np.vstack([train_x[l], emb])\n",
        "  else:\n",
        "    train_x[l] = [emb]\n",
        "\n",
        "len(train_x.keys())"
      ],
      "execution_count": 90,
      "outputs": [
        {
          "output_type": "execute_result",
          "data": {
            "text/plain": [
              "2886"
            ]
          },
          "metadata": {
            "tags": []
          },
          "execution_count": 90
        }
      ]
    },
    {
      "cell_type": "code",
      "metadata": {
        "id": "qjqkE0zQOcxh",
        "colab_type": "code",
        "colab": {
          "base_uri": "https://localhost:8080/",
          "height": 204
        },
        "outputId": "9de82e3d-a2c7-448b-84ea-21561d673f15"
      },
      "source": [
        "train_l_final = []\n",
        "label_l_final = []\n",
        "for k in train_x.keys():\n",
        "  train_l_final.append(train_x[k])\n",
        "  label_l_final.append(train.loc[k]['label'])\n",
        "\n",
        "df_train = pd.DataFrame({'emb': train_l_final, 'label': label_l_final, })\n",
        "df_train.head()"
      ],
      "execution_count": 91,
      "outputs": [
        {
          "output_type": "execute_result",
          "data": {
            "text/html": [
              "<div>\n",
              "<style scoped>\n",
              "    .dataframe tbody tr th:only-of-type {\n",
              "        vertical-align: middle;\n",
              "    }\n",
              "\n",
              "    .dataframe tbody tr th {\n",
              "        vertical-align: top;\n",
              "    }\n",
              "\n",
              "    .dataframe thead th {\n",
              "        text-align: right;\n",
              "    }\n",
              "</style>\n",
              "<table border=\"1\" class=\"dataframe\">\n",
              "  <thead>\n",
              "    <tr style=\"text-align: right;\">\n",
              "      <th></th>\n",
              "      <th>emb</th>\n",
              "      <th>label</th>\n",
              "    </tr>\n",
              "  </thead>\n",
              "  <tbody>\n",
              "    <tr>\n",
              "      <th>0</th>\n",
              "      <td>[[-0.015635394, 0.006173022, 0.21209292, 0.454...</td>\n",
              "      <td>1</td>\n",
              "    </tr>\n",
              "    <tr>\n",
              "      <th>1</th>\n",
              "      <td>[[-0.80123156, -0.52722305, -0.83960366, 0.602...</td>\n",
              "      <td>0</td>\n",
              "    </tr>\n",
              "    <tr>\n",
              "      <th>2</th>\n",
              "      <td>[[-0.7350571, -0.63593197, -0.96630454, 0.2540...</td>\n",
              "      <td>0</td>\n",
              "    </tr>\n",
              "    <tr>\n",
              "      <th>3</th>\n",
              "      <td>[[-0.007482888, 0.0032068754, 0.26268652, 0.43...</td>\n",
              "      <td>1</td>\n",
              "    </tr>\n",
              "    <tr>\n",
              "      <th>4</th>\n",
              "      <td>[[-0.84541595, -0.7079223, -0.96165466, 0.4178...</td>\n",
              "      <td>1</td>\n",
              "    </tr>\n",
              "  </tbody>\n",
              "</table>\n",
              "</div>"
            ],
            "text/plain": [
              "                                                 emb  label\n",
              "0  [[-0.015635394, 0.006173022, 0.21209292, 0.454...      1\n",
              "1  [[-0.80123156, -0.52722305, -0.83960366, 0.602...      0\n",
              "2  [[-0.7350571, -0.63593197, -0.96630454, 0.2540...      0\n",
              "3  [[-0.007482888, 0.0032068754, 0.26268652, 0.43...      1\n",
              "4  [[-0.84541595, -0.7079223, -0.96165466, 0.4178...      1"
            ]
          },
          "metadata": {
            "tags": []
          },
          "execution_count": 91
        }
      ]
    },
    {
      "cell_type": "code",
      "metadata": {
        "id": "k0gM3S8ehrFB",
        "colab_type": "code",
        "colab": {
          "base_uri": "https://localhost:8080/",
          "height": 204
        },
        "outputId": "6b7caac3-b69d-44c9-9851-8502e2bcb16d"
      },
      "source": [
        "aux = -1\n",
        "len_l = 0\n",
        "val_x = {}\n",
        "\n",
        "for l, emb in zip(val_index_l, val_emb):\n",
        "  if l in val_x.keys():\n",
        "    val_x[l]  =np.vstack([val_x[l], emb])\n",
        "  else:\n",
        "    val_x[l] = [emb]\n",
        "\n",
        "\n",
        "val_l_final = []\n",
        "vlabel_l_final = []\n",
        "for k in val_x.keys():\n",
        "  val_l_final.append(val_x[k])\n",
        "  vlabel_l_final.append(val.loc[k]['label'])\n",
        "\n",
        "df_val = pd.DataFrame({'emb': val_l_final, 'label': vlabel_l_final})\n",
        "df_val.head()"
      ],
      "execution_count": 92,
      "outputs": [
        {
          "output_type": "execute_result",
          "data": {
            "text/html": [
              "<div>\n",
              "<style scoped>\n",
              "    .dataframe tbody tr th:only-of-type {\n",
              "        vertical-align: middle;\n",
              "    }\n",
              "\n",
              "    .dataframe tbody tr th {\n",
              "        vertical-align: top;\n",
              "    }\n",
              "\n",
              "    .dataframe thead th {\n",
              "        text-align: right;\n",
              "    }\n",
              "</style>\n",
              "<table border=\"1\" class=\"dataframe\">\n",
              "  <thead>\n",
              "    <tr style=\"text-align: right;\">\n",
              "      <th></th>\n",
              "      <th>emb</th>\n",
              "      <th>label</th>\n",
              "    </tr>\n",
              "  </thead>\n",
              "  <tbody>\n",
              "    <tr>\n",
              "      <th>0</th>\n",
              "      <td>[[-0.02285242, -0.016839357, 0.15717326, 0.471...</td>\n",
              "      <td>1</td>\n",
              "    </tr>\n",
              "    <tr>\n",
              "      <th>1</th>\n",
              "      <td>[[-0.36400923, -0.17717886, 0.35727957, 0.5691...</td>\n",
              "      <td>1</td>\n",
              "    </tr>\n",
              "    <tr>\n",
              "      <th>2</th>\n",
              "      <td>[[0.06146312, 0.031843733, 0.2095397, 0.404605...</td>\n",
              "      <td>1</td>\n",
              "    </tr>\n",
              "    <tr>\n",
              "      <th>3</th>\n",
              "      <td>[[-0.49680787, -0.25885338, -0.16426398, 0.660...</td>\n",
              "      <td>1</td>\n",
              "    </tr>\n",
              "    <tr>\n",
              "      <th>4</th>\n",
              "      <td>[[0.03341547, 0.036919635, 0.1683239, 0.426336...</td>\n",
              "      <td>1</td>\n",
              "    </tr>\n",
              "  </tbody>\n",
              "</table>\n",
              "</div>"
            ],
            "text/plain": [
              "                                                 emb  label\n",
              "0  [[-0.02285242, -0.016839357, 0.15717326, 0.471...      1\n",
              "1  [[-0.36400923, -0.17717886, 0.35727957, 0.5691...      1\n",
              "2  [[0.06146312, 0.031843733, 0.2095397, 0.404605...      1\n",
              "3  [[-0.49680787, -0.25885338, -0.16426398, 0.660...      1\n",
              "4  [[0.03341547, 0.036919635, 0.1683239, 0.426336...      1"
            ]
          },
          "metadata": {
            "tags": []
          },
          "execution_count": 92
        }
      ]
    },
    {
      "cell_type": "code",
      "metadata": {
        "id": "bZ2bQNVOhrIZ",
        "colab_type": "code",
        "colab": {}
      },
      "source": [
        "df_val, df_test = train_test_split(df_val, test_size=0.4, random_state=35)"
      ],
      "execution_count": 93,
      "outputs": []
    },
    {
      "cell_type": "code",
      "metadata": {
        "id": "WUwzhmmShrL8",
        "colab_type": "code",
        "colab": {}
      },
      "source": [
        ""
      ],
      "execution_count": null,
      "outputs": []
    },
    {
      "cell_type": "code",
      "metadata": {
        "id": "jqrtfCHEhrOd",
        "colab_type": "code",
        "colab": {}
      },
      "source": [
        ""
      ],
      "execution_count": null,
      "outputs": []
    },
    {
      "cell_type": "markdown",
      "metadata": {
        "id": "4TtVQOl_lk1u",
        "colab_type": "text"
      },
      "source": [
        "### 5. Modelling the BERT and LSTM"
      ]
    },
    {
      "cell_type": "code",
      "metadata": {
        "id": "lCfo983blep6",
        "colab_type": "code",
        "colab": {
          "base_uri": "https://localhost:8080/",
          "height": 323
        },
        "outputId": "5d3237f7-e157-4888-fac8-89978c6d07ad"
      },
      "source": [
        "from keras import layers\n",
        "text_input = Input(shape=(None,768,), dtype='float32', name='text')\n",
        "\n",
        "l_mask = layers.Masking(mask_value=-99.)(text_input)\n",
        "# Which we encoded in a single vector via a LSTM\n",
        "encoded_text = layers.LSTM(100,)(l_mask)\n",
        "out_dense = layers.Dense(30, activation='relu')(encoded_text)\n",
        "# And we add a softmax classifier on top\n",
        "out = layers.Dense(len(label_list), activation='softmax')(out_dense)\n",
        "# At model instantiation, we specify the input and the output:\n",
        "model = Model(text_input, out)\n",
        "model.compile(optimizer='adam',\n",
        "              loss='sparse_categorical_crossentropy',\n",
        "              metrics=['acc'])\n",
        "model.summary()"
      ],
      "execution_count": 94,
      "outputs": [
        {
          "output_type": "stream",
          "text": [
            "Model: \"model_1\"\n",
            "_________________________________________________________________\n",
            "Layer (type)                 Output Shape              Param #   \n",
            "=================================================================\n",
            "text (InputLayer)            (None, None, 768)         0         \n",
            "_________________________________________________________________\n",
            "masking_1 (Masking)          (None, None, 768)         0         \n",
            "_________________________________________________________________\n",
            "lstm_1 (LSTM)                (None, 100)               347600    \n",
            "_________________________________________________________________\n",
            "dense_1 (Dense)              (None, 30)                3030      \n",
            "_________________________________________________________________\n",
            "dense_2 (Dense)              (None, 2)                 62        \n",
            "=================================================================\n",
            "Total params: 350,692\n",
            "Trainable params: 350,692\n",
            "Non-trainable params: 0\n",
            "_________________________________________________________________\n"
          ],
          "name": "stdout"
        }
      ]
    },
    {
      "cell_type": "code",
      "metadata": {
        "id": "JluqLcB7h51_",
        "colab_type": "code",
        "colab": {
          "base_uri": "https://localhost:8080/",
          "height": 34
        },
        "outputId": "11c1177e-723b-478c-9a23-af26d3cfbd8c"
      },
      "source": [
        "df_train.shape, df_val.shape, df_test.shape"
      ],
      "execution_count": 95,
      "outputs": [
        {
          "output_type": "execute_result",
          "data": {
            "text/plain": [
              "((2886, 2), (433, 2), (289, 2))"
            ]
          },
          "metadata": {
            "tags": []
          },
          "execution_count": 95
        }
      ]
    },
    {
      "cell_type": "code",
      "metadata": {
        "id": "pkC9zCdAijQv",
        "colab_type": "code",
        "colab": {
          "base_uri": "https://localhost:8080/",
          "height": 34
        },
        "outputId": "044dcc6a-2b7c-400a-90ff-6108154c2490"
      },
      "source": [
        "len(df_train['emb'].to_list())"
      ],
      "execution_count": 100,
      "outputs": [
        {
          "output_type": "execute_result",
          "data": {
            "text/plain": [
              "2886"
            ]
          },
          "metadata": {
            "tags": []
          },
          "execution_count": 100
        }
      ]
    },
    {
      "cell_type": "code",
      "metadata": {
        "id": "htX3BfO3ikXH",
        "colab_type": "code",
        "colab": {
          "base_uri": "https://localhost:8080/",
          "height": 34
        },
        "outputId": "73f9bfe9-07e6-4e4a-92fe-1653083e5294"
      },
      "source": [
        "2886/3"
      ],
      "execution_count": 101,
      "outputs": [
        {
          "output_type": "execute_result",
          "data": {
            "text/plain": [
              "962.0"
            ]
          },
          "metadata": {
            "tags": []
          },
          "execution_count": 101
        }
      ]
    },
    {
      "cell_type": "code",
      "metadata": {
        "id": "OAeyEFCWh55P",
        "colab_type": "code",
        "colab": {}
      },
      "source": [
        "num_sequences = len(df_train['emb'].to_list())\n",
        "batch_size = 3\n",
        "batches_per_epoch =  962\n",
        "assert batch_size * batches_per_epoch == num_sequences\n",
        "num_features= 768\n",
        "def train_generator(df):\n",
        "    x_list= df['emb'].to_list()\n",
        "    y_list =  df.label.to_list()\n",
        "    # Generate batches\n",
        "    while True:\n",
        "        for b in range(batches_per_epoch):\n",
        "            longest_index = (b + 1) * batch_size - 1\n",
        "            timesteps = len(max(df['emb'].to_list()[:(b + 1) * batch_size][-batch_size:], key=len))\n",
        "            x_train = np.full((batch_size, timesteps, num_features), -99.)\n",
        "            y_train = np.zeros((batch_size,  1))\n",
        "            for i in range(batch_size):\n",
        "                li = b * batch_size + i\n",
        "                x_train[i, 0:len(x_list[li]), :] = x_list[li]\n",
        "                y_train[i] = y_list[li]\n",
        "            yield x_train, y_train"
      ],
      "execution_count": 102,
      "outputs": []
    },
    {
      "cell_type": "code",
      "metadata": {
        "id": "gtUKJipjixTO",
        "colab_type": "code",
        "colab": {
          "base_uri": "https://localhost:8080/",
          "height": 34
        },
        "outputId": "965300df-fee8-44e0-a6e4-da074201944c"
      },
      "source": [
        "len(df_val['emb'].to_list())"
      ],
      "execution_count": 103,
      "outputs": [
        {
          "output_type": "execute_result",
          "data": {
            "text/plain": [
              "433"
            ]
          },
          "metadata": {
            "tags": []
          },
          "execution_count": 103
        }
      ]
    },
    {
      "cell_type": "code",
      "metadata": {
        "id": "3vUmIiMAizVo",
        "colab_type": "code",
        "colab": {
          "base_uri": "https://localhost:8080/",
          "height": 34
        },
        "outputId": "cbb98136-71a5-44f5-b980-2e56c246826b"
      },
      "source": [
        "433/11"
      ],
      "execution_count": 104,
      "outputs": [
        {
          "output_type": "execute_result",
          "data": {
            "text/plain": [
              "39.36363636363637"
            ]
          },
          "metadata": {
            "tags": []
          },
          "execution_count": 104
        }
      ]
    },
    {
      "cell_type": "code",
      "metadata": {
        "id": "DeCcuG3kh_A-",
        "colab_type": "code",
        "colab": {}
      },
      "source": [
        "num_sequences_val = len(df_val['emb'].to_list())\n",
        "batch_size_val = 11\n",
        "batches_per_epoch_val = 39\n",
        "# assert batch_size_val * batches_per_epoch_val == num_sequences_val\n",
        "num_features= 768\n",
        "def val_generator(df):\n",
        "    x_list= df['emb'].to_list()\n",
        "    y_list =  df.label.to_list()\n",
        "    # Generate batches\n",
        "    while True:\n",
        "        for b in range(batches_per_epoch_val):\n",
        "            longest_index = (b + 1) * batch_size_val - 1\n",
        "            timesteps = len(max(df['emb'].to_list()[:(b + 1) * batch_size_val][-31:], key=len))\n",
        "            # print(len(df_train['emb'].to_list()[:b+batch_size][-7:]))\n",
        "            x_train = np.full((batch_size_val, timesteps, num_features), -99.)\n",
        "            y_train = np.zeros((batch_size_val,  1))\n",
        "            for i in range(batch_size_val):\n",
        "                li = b * batch_size_val + i\n",
        "                # print(\"li\", li)\n",
        "                # print(x_train[i, 0:len(x_list[li]), :].shape, len(x_list[li]))\n",
        "                x_train[i, 0:len(x_list[li]), :] = x_list[li]\n",
        "                y_train[i] = y_list[li]\n",
        "            yield x_train, y_train"
      ],
      "execution_count": 105,
      "outputs": []
    },
    {
      "cell_type": "code",
      "metadata": {
        "id": "d46KobXHh_E1",
        "colab_type": "code",
        "colab": {}
      },
      "source": [
        "from keras.callbacks import ReduceLROnPlateau\n",
        "call_reduce = ReduceLROnPlateau(monitor='val_acc', factor=0.95, patience=3, verbose=2,\n",
        "                                mode='auto', min_delta=0.01, cooldown=0, min_lr=0)"
      ],
      "execution_count": 106,
      "outputs": []
    },
    {
      "cell_type": "code",
      "metadata": {
        "id": "XewTe_Njh_In",
        "colab_type": "code",
        "colab": {
          "base_uri": "https://localhost:8080/",
          "height": 476
        },
        "outputId": "9d4fad56-912c-476e-f5a1-ef94801034ac"
      },
      "source": [
        "model.fit_generator(train_generator(df_train), steps_per_epoch=batches_per_epoch, epochs=10,\n",
        "                    validation_data=val_generator(df_val), validation_steps=batches_per_epoch_val, callbacks =[call_reduce] )"
      ],
      "execution_count": 107,
      "outputs": [
        {
          "output_type": "stream",
          "text": [
            "Epoch 1/10\n",
            "962/962 [==============================] - 7s 7ms/step - loss: 0.2365 - acc: 0.9026 - val_loss: 0.1070 - val_acc: 0.8928\n",
            "Epoch 2/10\n",
            "962/962 [==============================] - 6s 7ms/step - loss: 0.2288 - acc: 0.9054 - val_loss: 0.0875 - val_acc: 0.8904\n",
            "Epoch 3/10\n",
            "962/962 [==============================] - 6s 7ms/step - loss: 0.2262 - acc: 0.9092 - val_loss: 0.0944 - val_acc: 0.8858\n",
            "Epoch 4/10\n",
            "962/962 [==============================] - 7s 7ms/step - loss: 0.2238 - acc: 0.9078 - val_loss: 0.0847 - val_acc: 0.8904\n",
            "\n",
            "Epoch 00004: ReduceLROnPlateau reducing learning rate to 0.0009500000451225787.\n",
            "Epoch 5/10\n",
            "962/962 [==============================] - 6s 6ms/step - loss: 0.2225 - acc: 0.9099 - val_loss: 0.0755 - val_acc: 0.8951\n",
            "Epoch 6/10\n",
            "962/962 [==============================] - 6s 6ms/step - loss: 0.2232 - acc: 0.9106 - val_loss: 0.0963 - val_acc: 0.8928\n",
            "Epoch 7/10\n",
            "962/962 [==============================] - 6s 6ms/step - loss: 0.2236 - acc: 0.9061 - val_loss: 0.0689 - val_acc: 0.8974\n",
            "\n",
            "Epoch 00007: ReduceLROnPlateau reducing learning rate to 0.0009025000152178108.\n",
            "Epoch 8/10\n",
            "962/962 [==============================] - 6s 6ms/step - loss: 0.2224 - acc: 0.9085 - val_loss: 0.0762 - val_acc: 0.8998\n",
            "Epoch 9/10\n",
            "962/962 [==============================] - 6s 7ms/step - loss: 0.2219 - acc: 0.9096 - val_loss: 0.0685 - val_acc: 0.8928\n",
            "Epoch 10/10\n",
            "962/962 [==============================] - 6s 6ms/step - loss: 0.2201 - acc: 0.9082 - val_loss: 0.0615 - val_acc: 0.8998\n",
            "\n",
            "Epoch 00010: ReduceLROnPlateau reducing learning rate to 0.0008573750033974647.\n"
          ],
          "name": "stdout"
        },
        {
          "output_type": "execute_result",
          "data": {
            "text/plain": [
              "<keras.callbacks.callbacks.History at 0x7f1043739be0>"
            ]
          },
          "metadata": {
            "tags": []
          },
          "execution_count": 107
        }
      ]
    },
    {
      "cell_type": "code",
      "metadata": {
        "id": "DV14bUEljv1X",
        "colab_type": "code",
        "colab": {
          "base_uri": "https://localhost:8080/",
          "height": 34
        },
        "outputId": "7f5df2b2-307c-41c2-85a9-d6ae56dcadac"
      },
      "source": [
        "len(df_test['emb'].to_list())"
      ],
      "execution_count": 109,
      "outputs": [
        {
          "output_type": "execute_result",
          "data": {
            "text/plain": [
              "289"
            ]
          },
          "metadata": {
            "tags": []
          },
          "execution_count": 109
        }
      ]
    },
    {
      "cell_type": "code",
      "metadata": {
        "id": "xVGlmXAJjw5W",
        "colab_type": "code",
        "colab": {
          "base_uri": "https://localhost:8080/",
          "height": 34
        },
        "outputId": "c968ac4e-7020-4f54-89d0-171831c8f4c2"
      },
      "source": [
        "289/4"
      ],
      "execution_count": 110,
      "outputs": [
        {
          "output_type": "execute_result",
          "data": {
            "text/plain": [
              "72.25"
            ]
          },
          "metadata": {
            "tags": []
          },
          "execution_count": 110
        }
      ]
    },
    {
      "cell_type": "code",
      "metadata": {
        "id": "kHeD4nmrh5-1",
        "colab_type": "code",
        "colab": {
          "base_uri": "https://localhost:8080/",
          "height": 34
        },
        "outputId": "b2636dce-d290-4ff0-97f1-3c6fd7563abf"
      },
      "source": [
        "num_sequences_val = len(df_test['emb'].to_list())\n",
        "batch_size_val = 4\n",
        "batches_per_epoch_val = 72\n",
        "# assert batch_size_val * batches_per_epoch_val == num_sequences_val\n",
        "num_features= 768\n",
        "model.evaluate_generator(val_generator(df_test), steps= batches_per_epoch_val)"
      ],
      "execution_count": 111,
      "outputs": [
        {
          "output_type": "execute_result",
          "data": {
            "text/plain": [
              "[0.7637361288070679, 0.8472222089767456]"
            ]
          },
          "metadata": {
            "tags": []
          },
          "execution_count": 111
        }
      ]
    },
    {
      "cell_type": "code",
      "metadata": {
        "id": "USlwqp2HjnzQ",
        "colab_type": "code",
        "colab": {}
      },
      "source": [
        ""
      ],
      "execution_count": null,
      "outputs": []
    }
  ]
}