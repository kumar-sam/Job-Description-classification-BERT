{
  "nbformat": 4,
  "nbformat_minor": 0,
  "metadata": {
    "colab": {
      "name": "embedding_and_lstm.ipynb",
      "provenance": [],
      "toc_visible": true,
      "authorship_tag": "ABX9TyP8gmdjCfcdq3IXF+3/BK6W",
      "include_colab_link": true
    },
    "kernelspec": {
      "name": "python3",
      "display_name": "Python 3"
    }
  },
  "cells": [
    {
      "cell_type": "markdown",
      "metadata": {
        "id": "view-in-github",
        "colab_type": "text"
      },
      "source": [
        "<a href=\"https://colab.research.google.com/github/kumar-sam/Job-Description-classification-BERT/blob/master/embedding_and_lstm.ipynb\" target=\"_parent\"><img src=\"https://colab.research.google.com/assets/colab-badge.svg\" alt=\"Open In Colab\"/></a>"
      ]
    },
    {
      "cell_type": "code",
      "metadata": {
        "id": "18-3ExMF8X7a",
        "colab_type": "code",
        "colab": {
          "base_uri": "https://localhost:8080/",
          "height": 35
        },
        "outputId": "0db83712-5f2a-4773-8769-5a21f91b97a9"
      },
      "source": [
        "import tensorflow as tf\n",
        "tf.test.gpu_device_name()"
      ],
      "execution_count": 1,
      "outputs": [
        {
          "output_type": "execute_result",
          "data": {
            "application/vnd.google.colaboratory.intrinsic": {
              "type": "string"
            },
            "text/plain": [
              "''"
            ]
          },
          "metadata": {
            "tags": []
          },
          "execution_count": 1
        }
      ]
    },
    {
      "cell_type": "code",
      "metadata": {
        "id": "O6LQy0U58ZuX",
        "colab_type": "code",
        "colab": {
          "base_uri": "https://localhost:8080/",
          "height": 34
        },
        "outputId": "fa7850c1-7151-49ca-901d-772429ef8c34"
      },
      "source": [
        "#importing the library\n",
        "import re\n",
        "import nltk\n",
        "import numpy as np\n",
        "import pandas as pd\n",
        "from nltk import word_tokenize\n",
        "np.random.seed(1337)\n",
        "from keras import Sequential\n",
        "from keras.utils import Sequence\n",
        "from keras.layers import LSTM, Dense, Masking\n",
        "import numpy as np\n",
        "import keras\n",
        "from keras.utils import np_utils\n",
        "from keras import optimizers\n",
        "from keras.models import Sequential, Model\n",
        "from keras.layers import Embedding, Dense, Input, concatenate, Layer, Lambda, Dropout, Activation\n",
        "import datetime\n",
        "from datetime import datetime\n",
        "from keras.callbacks import ModelCheckpoint, EarlyStopping, Callback, TensorBoard\n",
        "import tensorflow as tf\n",
        "import tensorflow_hub as hub"
      ],
      "execution_count": 2,
      "outputs": [
        {
          "output_type": "stream",
          "text": [
            "Using TensorFlow backend.\n"
          ],
          "name": "stderr"
        }
      ]
    },
    {
      "cell_type": "code",
      "metadata": {
        "id": "FxnYkyXG8bwH",
        "colab_type": "code",
        "colab": {
          "base_uri": "https://localhost:8080/",
          "height": 111
        },
        "outputId": "3624f09d-bd12-483a-8c86-d6d974228686"
      },
      "source": [
        "df = pd.read_excel(\"/content/dataset_jd.xlsx\")\n",
        "df.head(2)"
      ],
      "execution_count": 3,
      "outputs": [
        {
          "output_type": "execute_result",
          "data": {
            "text/html": [
              "<div>\n",
              "<style scoped>\n",
              "    .dataframe tbody tr th:only-of-type {\n",
              "        vertical-align: middle;\n",
              "    }\n",
              "\n",
              "    .dataframe tbody tr th {\n",
              "        vertical-align: top;\n",
              "    }\n",
              "\n",
              "    .dataframe thead th {\n",
              "        text-align: right;\n",
              "    }\n",
              "</style>\n",
              "<table border=\"1\" class=\"dataframe\">\n",
              "  <thead>\n",
              "    <tr style=\"text-align: right;\">\n",
              "      <th></th>\n",
              "      <th>JD Type</th>\n",
              "      <th>TITLE</th>\n",
              "      <th>JD</th>\n",
              "    </tr>\n",
              "  </thead>\n",
              "  <tbody>\n",
              "    <tr>\n",
              "      <th>0</th>\n",
              "      <td>T</td>\n",
              "      <td>Software Developer</td>\n",
              "      <td>Minimum Required Skills:C/C#/C++, Java/J2EE, G...</td>\n",
              "    </tr>\n",
              "    <tr>\n",
              "      <th>1</th>\n",
              "      <td>T</td>\n",
              "      <td>Mechanical Engineer</td>\n",
              "      <td>Interested please share resumes ASAP. Call 301...</td>\n",
              "    </tr>\n",
              "  </tbody>\n",
              "</table>\n",
              "</div>"
            ],
            "text/plain": [
              "  JD Type  ...                                                 JD\n",
              "0       T  ...  Minimum Required Skills:C/C#/C++, Java/J2EE, G...\n",
              "1       T  ...  Interested please share resumes ASAP. Call 301...\n",
              "\n",
              "[2 rows x 3 columns]"
            ]
          },
          "metadata": {
            "tags": []
          },
          "execution_count": 3
        }
      ]
    },
    {
      "cell_type": "code",
      "metadata": {
        "id": "_hYOVwDg8oN7",
        "colab_type": "code",
        "colab": {
          "base_uri": "https://localhost:8080/",
          "height": 68
        },
        "outputId": "9fe0891e-e93c-4ed6-aa22-d05337e97bca"
      },
      "source": [
        "import nltk\n",
        "nltk.download('punkt')"
      ],
      "execution_count": 4,
      "outputs": [
        {
          "output_type": "stream",
          "text": [
            "[nltk_data] Downloading package punkt to /root/nltk_data...\n",
            "[nltk_data]   Unzipping tokenizers/punkt.zip.\n"
          ],
          "name": "stdout"
        },
        {
          "output_type": "execute_result",
          "data": {
            "text/plain": [
              "True"
            ]
          },
          "metadata": {
            "tags": []
          },
          "execution_count": 4
        }
      ]
    },
    {
      "cell_type": "code",
      "metadata": {
        "id": "_T_xilQuEygB",
        "colab_type": "code",
        "colab": {
          "base_uri": "https://localhost:8080/",
          "height": 51
        },
        "outputId": "663c6c32-cca2-433a-f85d-df2558526d2f"
      },
      "source": [
        "TAG_RE = re.compile(r'<[^>]+>')\n",
        "def remove_tags(text):\n",
        "    return TAG_RE.sub(' ', text)\n",
        "\n",
        "\n",
        "import nltk\n",
        "nltk.download('stopwords')\n",
        "from nltk.corpus import stopwords"
      ],
      "execution_count": 5,
      "outputs": [
        {
          "output_type": "stream",
          "text": [
            "[nltk_data] Downloading package stopwords to /root/nltk_data...\n",
            "[nltk_data]   Unzipping corpora/stopwords.zip.\n"
          ],
          "name": "stdout"
        }
      ]
    },
    {
      "cell_type": "code",
      "metadata": {
        "id": "W-O_L9gDE0dh",
        "colab_type": "code",
        "colab": {}
      },
      "source": [
        "stop_words = stopwords.words('english')"
      ],
      "execution_count": 6,
      "outputs": []
    },
    {
      "cell_type": "code",
      "metadata": {
        "id": "nBX8CmQgE20Z",
        "colab_type": "code",
        "colab": {}
      },
      "source": [
        "df['JD'] =df['JD'].apply(remove_tags)"
      ],
      "execution_count": 7,
      "outputs": []
    },
    {
      "cell_type": "code",
      "metadata": {
        "id": "jaWT1ZoUE4vh",
        "colab_type": "code",
        "colab": {}
      },
      "source": [
        "def preprocessJob(job_desc):\n",
        "    \"\"\"\n",
        "        processess the document text by removing punct, digits,\n",
        "        replaces phrase skill words with underscore, removes stop_words\n",
        "        \"\"\"\n",
        "    global stop_words\n",
        "\n",
        "    job_desc = job_desc.lower()\n",
        "    #replacing html based space(&nbsp)\n",
        "    job_desc = job_desc.replace('&nbsp', ' ')\n",
        "\n",
        "    #dealing with unicode char\n",
        "    job_desc = job_desc.replace(u'\\xa0', u' ')\n",
        "    job_desc = re.sub(r'[^\\x00-\\x7F]',' ', job_desc)\n",
        "\n",
        "    # Removes non-alphabetic characters excluding _\n",
        "    job_desc= re.sub('[^.A-Za-z]', ' ', job_desc)\n",
        "    #replacing multiple space with single space\n",
        "    job_desc = re.sub('\\s+', ' ', job_desc)\n",
        "\n",
        "    tokens = word_tokenize(str(job_desc))\n",
        "    result = [token for token in tokens if token not in stop_words]\n",
        "    result = \" \".join(result)\n",
        "    return result\n"
      ],
      "execution_count": 8,
      "outputs": []
    },
    {
      "cell_type": "code",
      "metadata": {
        "id": "Chguw7nMFdtl",
        "colab_type": "code",
        "colab": {}
      },
      "source": [
        "df['JD'] =df['JD'].apply(preprocessJob)"
      ],
      "execution_count": 9,
      "outputs": []
    },
    {
      "cell_type": "code",
      "metadata": {
        "id": "ciEpXQB5FgC8",
        "colab_type": "code",
        "colab": {
          "base_uri": "https://localhost:8080/",
          "height": 122
        },
        "outputId": "483ef894-f36f-4428-ba50-e56fc06d264d"
      },
      "source": [
        "for jd in df.JD.values[0:5]:\n",
        "  print(jd)"
      ],
      "execution_count": 10,
      "outputs": [
        {
          "output_type": "stream",
          "text": [
            "minimum required skills c c c java j ee gui development software development life cycle ts sci clearance full scope polygraphif software developer ts sci full scope polygraph read high end engineering services company central focus protecting propelling nations cyber resources . based washington d.c metro area specialize big data analytics batch streaming cloud computing infrastructure multi int visualization enterprise architectures . also support operational missions source financial cnd serve product owners open source research initiatives.what need positionat least ten years software development engineering c c c comparable languages implementing software life cycle management build guis custom applicationswhat great base salary k doe amazing benefits edu assistance k ptoso software developer full scope polygraph please apply today applicants must authorized work u.s.security clearance needed therefore us citizens considered.please apply directly clicking click apply word resume looking forward receiving resume going position detail . fit position click link bottom email search open positions.looking forward receiving resume cybercoderscybercoders inc proud equal opportunity employerall qualified applicants receive consideration employment without regard race color religion sex national origin disability protected veteran status characteristic protected law.your right work compliance federal law persons hired required verify identity eligibility work united states complete required employment eligibility verification document form upon hire.copyright . cybercoders inc. rights reserved .\n",
            "interested please share resumes asap . call fast moving position . bs mechanical chemical engineering science related field . english fluent speaking writing minimum years related industry experience required . years experience pharmaceutical biotech operations thorough working knowledge hvac plant utility systems . direct experience regulated environments i.e . cgmp osha epa required design experience owners experience hvac plant utility systems chilled water glycol chilled water tower water process utility systems purified water wfi cip sip compressed air waste treatment . working knowledge biotech manufacturing processes fermentation purification filling desired .\n",
            "responsibilities designing developing products customer sales sme specifications.responsible integration materials methods tools necessary develop new products.provide support software hardware development documentation agile environment.projects typically medically related medical instruments devices involve embedded systems software technology include c .net sql server mvc mvvm wpf wcf entity framework etc.may perform following power measurements increase battery life router firewall configurations setting software hardware test environments automating procedures calibrating sensors.ensures production procedures efficiently utilize materials methods.works external design resources ensure quality design performance . qualifications years experience product engineerexperience analyzing gathering requirements hardware softwarea background education electrical engineering preferreda background education medical instruments preferred\n",
            "serves liaison internal external business community organization order provide technical solutions meet user needs . translates business requirements functional specifications organization manages changes specifications educates organization direction business . gathers information organization work processes information flows . documents existing process technical model format order evaluate define new solutions implementation processes . possesses understanding technological trends uses knowledge bring solutions business groups supported enhance enterprise competitive edge . basic knowledge functions support . knowledge background technologies tools . basic understanding business market industry issues facing specific business unit function . supports several simple moderately complex business processes . third parties sub contractors corp corp data resource technologies inc. information technology staffing firm serving markets united states america greatest country world . work direct clients participate multi layer contracts . earn possible put years information technology industry experience work today call apply\n",
            "company descriptionwinning edge solutions technology firm headquartered maryland usa . provide solutions staffing services soa esb eai api bpm etl bi b b cloud integration micro services.job descriptionwinning edge currently looking tibco developers implement large scale integration project direct client.folks come baltimore f f interview go top list . years experience tibco business works .xsolid understanding enterprise application integration must.good understanding soa concepts best practices design patterns.good understanding restful service implementation s.experience business works .x highly preferred.previous experience integration multiple enterprise applications.experience integration microsoft azure rest services preferred.ability interact various roles teams organization.ability understand high level specifications perform development using tibco business works.experience java microsoft technologies highly preferred.should able explain previously performed work precisely.qualifications\n"
          ],
          "name": "stdout"
        }
      ]
    },
    {
      "cell_type": "code",
      "metadata": {
        "id": "rCLdLPQ1FiYz",
        "colab_type": "code",
        "colab": {
          "base_uri": "https://localhost:8080/",
          "height": 142
        },
        "outputId": "1928ad01-d606-41d4-978a-0f74da182b11"
      },
      "source": [
        "df.head(3)"
      ],
      "execution_count": 11,
      "outputs": [
        {
          "output_type": "execute_result",
          "data": {
            "text/html": [
              "<div>\n",
              "<style scoped>\n",
              "    .dataframe tbody tr th:only-of-type {\n",
              "        vertical-align: middle;\n",
              "    }\n",
              "\n",
              "    .dataframe tbody tr th {\n",
              "        vertical-align: top;\n",
              "    }\n",
              "\n",
              "    .dataframe thead th {\n",
              "        text-align: right;\n",
              "    }\n",
              "</style>\n",
              "<table border=\"1\" class=\"dataframe\">\n",
              "  <thead>\n",
              "    <tr style=\"text-align: right;\">\n",
              "      <th></th>\n",
              "      <th>JD Type</th>\n",
              "      <th>TITLE</th>\n",
              "      <th>JD</th>\n",
              "    </tr>\n",
              "  </thead>\n",
              "  <tbody>\n",
              "    <tr>\n",
              "      <th>0</th>\n",
              "      <td>T</td>\n",
              "      <td>Software Developer</td>\n",
              "      <td>minimum required skills c c c java j ee gui de...</td>\n",
              "    </tr>\n",
              "    <tr>\n",
              "      <th>1</th>\n",
              "      <td>T</td>\n",
              "      <td>Mechanical Engineer</td>\n",
              "      <td>interested please share resumes asap . call fa...</td>\n",
              "    </tr>\n",
              "    <tr>\n",
              "      <th>2</th>\n",
              "      <td>T</td>\n",
              "      <td>Product Engineer</td>\n",
              "      <td>responsibilities designing developing products...</td>\n",
              "    </tr>\n",
              "  </tbody>\n",
              "</table>\n",
              "</div>"
            ],
            "text/plain": [
              "  JD Type  ...                                                 JD\n",
              "0       T  ...  minimum required skills c c c java j ee gui de...\n",
              "1       T  ...  interested please share resumes asap . call fa...\n",
              "2       T  ...  responsibilities designing developing products...\n",
              "\n",
              "[3 rows x 3 columns]"
            ]
          },
          "metadata": {
            "tags": []
          },
          "execution_count": 11
        }
      ]
    },
    {
      "cell_type": "code",
      "metadata": {
        "id": "N_TT33rsFqiY",
        "colab_type": "code",
        "colab": {}
      },
      "source": [
        "df = df[['JD','JD Type']]"
      ],
      "execution_count": 12,
      "outputs": []
    },
    {
      "cell_type": "code",
      "metadata": {
        "id": "s35yeQKbFuuP",
        "colab_type": "code",
        "colab": {}
      },
      "source": [
        "df.rename(columns={\"JD\": \"text\", \"JD Type\": \"label\"}, inplace=True, errors=\"raise\")"
      ],
      "execution_count": 13,
      "outputs": []
    },
    {
      "cell_type": "code",
      "metadata": {
        "id": "PXtTgS1mH5iQ",
        "colab_type": "code",
        "colab": {
          "base_uri": "https://localhost:8080/",
          "height": 142
        },
        "outputId": "00dd1e40-20b0-4425-cc90-ad2663b0930f"
      },
      "source": [
        "df.head(3)"
      ],
      "execution_count": 14,
      "outputs": [
        {
          "output_type": "execute_result",
          "data": {
            "text/html": [
              "<div>\n",
              "<style scoped>\n",
              "    .dataframe tbody tr th:only-of-type {\n",
              "        vertical-align: middle;\n",
              "    }\n",
              "\n",
              "    .dataframe tbody tr th {\n",
              "        vertical-align: top;\n",
              "    }\n",
              "\n",
              "    .dataframe thead th {\n",
              "        text-align: right;\n",
              "    }\n",
              "</style>\n",
              "<table border=\"1\" class=\"dataframe\">\n",
              "  <thead>\n",
              "    <tr style=\"text-align: right;\">\n",
              "      <th></th>\n",
              "      <th>text</th>\n",
              "      <th>label</th>\n",
              "    </tr>\n",
              "  </thead>\n",
              "  <tbody>\n",
              "    <tr>\n",
              "      <th>0</th>\n",
              "      <td>minimum required skills c c c java j ee gui de...</td>\n",
              "      <td>T</td>\n",
              "    </tr>\n",
              "    <tr>\n",
              "      <th>1</th>\n",
              "      <td>interested please share resumes asap . call fa...</td>\n",
              "      <td>T</td>\n",
              "    </tr>\n",
              "    <tr>\n",
              "      <th>2</th>\n",
              "      <td>responsibilities designing developing products...</td>\n",
              "      <td>T</td>\n",
              "    </tr>\n",
              "  </tbody>\n",
              "</table>\n",
              "</div>"
            ],
            "text/plain": [
              "                                                text label\n",
              "0  minimum required skills c c c java j ee gui de...     T\n",
              "1  interested please share resumes asap . call fa...     T\n",
              "2  responsibilities designing developing products...     T"
            ]
          },
          "metadata": {
            "tags": []
          },
          "execution_count": 14
        }
      ]
    },
    {
      "cell_type": "code",
      "metadata": {
        "id": "yHZ5X479H7AP",
        "colab_type": "code",
        "colab": {}
      },
      "source": [
        "def trim_label(label):\n",
        "  return label.strip()"
      ],
      "execution_count": 15,
      "outputs": []
    },
    {
      "cell_type": "code",
      "metadata": {
        "id": "7C1tIpBqIELA",
        "colab_type": "code",
        "colab": {}
      },
      "source": [
        "df['label'] = df['label'].apply(trim_label)"
      ],
      "execution_count": 16,
      "outputs": []
    },
    {
      "cell_type": "code",
      "metadata": {
        "id": "88hxAqh5IGpf",
        "colab_type": "code",
        "colab": {
          "base_uri": "https://localhost:8080/",
          "height": 204
        },
        "outputId": "a672d0e6-c638-49dd-c6d8-cd30b618520d"
      },
      "source": [
        "from sklearn.preprocessing import LabelEncoder\n",
        "\n",
        "LE = LabelEncoder()\n",
        "df['label'] = LE.fit_transform(df['label'])\n",
        "df.head()"
      ],
      "execution_count": 17,
      "outputs": [
        {
          "output_type": "execute_result",
          "data": {
            "text/html": [
              "<div>\n",
              "<style scoped>\n",
              "    .dataframe tbody tr th:only-of-type {\n",
              "        vertical-align: middle;\n",
              "    }\n",
              "\n",
              "    .dataframe tbody tr th {\n",
              "        vertical-align: top;\n",
              "    }\n",
              "\n",
              "    .dataframe thead th {\n",
              "        text-align: right;\n",
              "    }\n",
              "</style>\n",
              "<table border=\"1\" class=\"dataframe\">\n",
              "  <thead>\n",
              "    <tr style=\"text-align: right;\">\n",
              "      <th></th>\n",
              "      <th>text</th>\n",
              "      <th>label</th>\n",
              "    </tr>\n",
              "  </thead>\n",
              "  <tbody>\n",
              "    <tr>\n",
              "      <th>0</th>\n",
              "      <td>minimum required skills c c c java j ee gui de...</td>\n",
              "      <td>1</td>\n",
              "    </tr>\n",
              "    <tr>\n",
              "      <th>1</th>\n",
              "      <td>interested please share resumes asap . call fa...</td>\n",
              "      <td>1</td>\n",
              "    </tr>\n",
              "    <tr>\n",
              "      <th>2</th>\n",
              "      <td>responsibilities designing developing products...</td>\n",
              "      <td>1</td>\n",
              "    </tr>\n",
              "    <tr>\n",
              "      <th>3</th>\n",
              "      <td>serves liaison internal external business comm...</td>\n",
              "      <td>0</td>\n",
              "    </tr>\n",
              "    <tr>\n",
              "      <th>4</th>\n",
              "      <td>company descriptionwinning edge solutions tech...</td>\n",
              "      <td>1</td>\n",
              "    </tr>\n",
              "  </tbody>\n",
              "</table>\n",
              "</div>"
            ],
            "text/plain": [
              "                                                text  label\n",
              "0  minimum required skills c c c java j ee gui de...      1\n",
              "1  interested please share resumes asap . call fa...      1\n",
              "2  responsibilities designing developing products...      1\n",
              "3  serves liaison internal external business comm...      0\n",
              "4  company descriptionwinning edge solutions tech...      1"
            ]
          },
          "metadata": {
            "tags": []
          },
          "execution_count": 17
        }
      ]
    },
    {
      "cell_type": "code",
      "metadata": {
        "id": "o9h3U6_FIIYH",
        "colab_type": "code",
        "colab": {
          "base_uri": "https://localhost:8080/",
          "height": 34
        },
        "outputId": "b6504d86-320a-443e-cd1d-cf454311e1bc"
      },
      "source": [
        "df.shape"
      ],
      "execution_count": 18,
      "outputs": [
        {
          "output_type": "execute_result",
          "data": {
            "text/plain": [
              "(3608, 2)"
            ]
          },
          "metadata": {
            "tags": []
          },
          "execution_count": 18
        }
      ]
    },
    {
      "cell_type": "code",
      "metadata": {
        "id": "cRfdyM9hI6F8",
        "colab_type": "code",
        "colab": {
          "base_uri": "https://localhost:8080/",
          "height": 68
        },
        "outputId": "301f75af-02e4-493a-aec7-3de4753feaaf"
      },
      "source": [
        "df.label.value_counts()"
      ],
      "execution_count": 19,
      "outputs": [
        {
          "output_type": "execute_result",
          "data": {
            "text/plain": [
              "1    1963\n",
              "0    1645\n",
              "Name: label, dtype: int64"
            ]
          },
          "metadata": {
            "tags": []
          },
          "execution_count": 19
        }
      ]
    },
    {
      "cell_type": "code",
      "metadata": {
        "id": "M7FZlslBI7rs",
        "colab_type": "code",
        "colab": {
          "base_uri": "https://localhost:8080/",
          "height": 279
        },
        "outputId": "21296467-0731-46e7-cf6b-172664039e72"
      },
      "source": [
        "df.label.value_counts().plot(kind='bar')"
      ],
      "execution_count": 20,
      "outputs": [
        {
          "output_type": "execute_result",
          "data": {
            "text/plain": [
              "<matplotlib.axes._subplots.AxesSubplot at 0x7f020e100860>"
            ]
          },
          "metadata": {
            "tags": []
          },
          "execution_count": 20
        },
        {
          "output_type": "display_data",
          "data": {
            "image/png": "[encoded data removed]",
            "text/plain": [
              "<Figure size 432x288 with 1 Axes>"
            ]
          },
          "metadata": {
            "tags": [],
            "needs_background": "light"
          }
        }
      ]
    },
    {
      "cell_type": "code",
      "metadata": {
        "id": "taVtHyy3I930",
        "colab_type": "code",
        "colab": {}
      },
      "source": [
        "from sklearn.model_selection import train_test_split\n",
        "\n",
        "X_train, X_test, y_train, y_test = train_test_split(df['text'], df['label'], test_size=0.2, random_state=35)\n"
      ],
      "execution_count": 21,
      "outputs": []
    },
    {
      "cell_type": "code",
      "metadata": {
        "id": "BWGoZKxwOd95",
        "colab_type": "code",
        "colab": {
          "base_uri": "https://localhost:8080/",
          "height": 119
        },
        "outputId": "fc84b273-2187-4ae9-ac16-f6e5befdae24"
      },
      "source": [
        "X_train.reset_index(drop = True, inplace=True)\n",
        "X_train.head()"
      ],
      "execution_count": 22,
      "outputs": [
        {
          "output_type": "execute_result",
          "data": {
            "text/plain": [
              "0    minimum required skills photoshop front end de...\n",
              "1    years business group one trading leading speci...\n",
              "2    entry help desk coordinator skills years exper...\n",
              "3    minimum required skills rest apis agile java u...\n",
              "4    responsibilities kforce client searching help ...\n",
              "Name: text, dtype: object"
            ]
          },
          "metadata": {
            "tags": []
          },
          "execution_count": 22
        }
      ]
    },
    {
      "cell_type": "code",
      "metadata": {
        "id": "D_H2l8ZMOeBh",
        "colab_type": "code",
        "colab": {
          "base_uri": "https://localhost:8080/",
          "height": 119
        },
        "outputId": "cb8cdca0-8dae-4e77-9c83-725f5194bf14"
      },
      "source": [
        "X_test.reset_index(drop = True, inplace=True)\n",
        "X_test.head()"
      ],
      "execution_count": 23,
      "outputs": [
        {
          "output_type": "execute_result",
          "data": {
            "text/plain": [
              "0    minimum required skills linux devops chef pupp...\n",
              "1    skills mandatory preferabletechnical skills ye...\n",
              "2    title .net developer location boca raton fl du...\n",
              "3    location rocklin caposition senior developer t...\n",
              "4    duties migrating sql server data warehouse aws...\n",
              "Name: text, dtype: object"
            ]
          },
          "metadata": {
            "tags": []
          },
          "execution_count": 23
        }
      ]
    },
    {
      "cell_type": "code",
      "metadata": {
        "id": "znUtgjirOeFP",
        "colab_type": "code",
        "colab": {
          "base_uri": "https://localhost:8080/",
          "height": 119
        },
        "outputId": "52c2c980-7c03-4e66-ae7c-46d624c8618c"
      },
      "source": [
        "y_train.reset_index(drop = True, inplace=True)\n",
        "y_train.head()"
      ],
      "execution_count": 24,
      "outputs": [
        {
          "output_type": "execute_result",
          "data": {
            "text/plain": [
              "0    1\n",
              "1    0\n",
              "2    0\n",
              "3    1\n",
              "4    1\n",
              "Name: label, dtype: int64"
            ]
          },
          "metadata": {
            "tags": []
          },
          "execution_count": 24
        }
      ]
    },
    {
      "cell_type": "code",
      "metadata": {
        "id": "WelITOspOeIr",
        "colab_type": "code",
        "colab": {
          "base_uri": "https://localhost:8080/",
          "height": 119
        },
        "outputId": "ab4cb5d8-2b33-4ea3-c533-69097ed8ba16"
      },
      "source": [
        "y_test.reset_index(drop = True, inplace=True)\n",
        "y_test.head()"
      ],
      "execution_count": 25,
      "outputs": [
        {
          "output_type": "execute_result",
          "data": {
            "text/plain": [
              "0    1\n",
              "1    1\n",
              "2    1\n",
              "3    1\n",
              "4    1\n",
              "Name: label, dtype: int64"
            ]
          },
          "metadata": {
            "tags": []
          },
          "execution_count": 25
        }
      ]
    },
    {
      "cell_type": "markdown",
      "metadata": {
        "id": "ShnI90EGI-_p",
        "colab_type": "text"
      },
      "source": [
        "### creating word embedding"
      ]
    },
    {
      "cell_type": "code",
      "metadata": {
        "id": "bNbRqACuJE3c",
        "colab_type": "code",
        "colab": {}
      },
      "source": [
        "from tensorflow.python.keras.preprocessing.text import Tokenizer\n",
        "from tensorflow.python.keras.preprocessing.sequence import pad_sequences"
      ],
      "execution_count": 26,
      "outputs": []
    },
    {
      "cell_type": "code",
      "metadata": {
        "id": "_sBa7Sa9MWwE",
        "colab_type": "code",
        "colab": {
          "base_uri": "https://localhost:8080/",
          "height": 173
        },
        "outputId": "0d23f615-c4ec-4348-f448-a9232c97ea5a"
      },
      "source": [
        "df['text'].values"
      ],
      "execution_count": 27,
      "outputs": [
        {
          "output_type": "execute_result",
          "data": {
            "text/plain": [
              "array(['minimum required skills c c c java j ee gui development software development life cycle ts sci clearance full scope polygraphif software developer ts sci full scope polygraph read high end engineering services company central focus protecting propelling nations cyber resources . based washington d.c metro area specialize big data analytics batch streaming cloud computing infrastructure multi int visualization enterprise architectures . also support operational missions source financial cnd serve product owners open source research initiatives.what need positionat least ten years software development engineering c c c comparable languages implementing software life cycle management build guis custom applicationswhat great base salary k doe amazing benefits edu assistance k ptoso software developer full scope polygraph please apply today applicants must authorized work u.s.security clearance needed therefore us citizens considered.please apply directly clicking click apply word resume looking forward receiving resume going position detail . fit position click link bottom email search open positions.looking forward receiving resume cybercoderscybercoders inc proud equal opportunity employerall qualified applicants receive consideration employment without regard race color religion sex national origin disability protected veteran status characteristic protected law.your right work compliance federal law persons hired required verify identity eligibility work united states complete required employment eligibility verification document form upon hire.copyright . cybercoders inc. rights reserved .',\n",
              "       'interested please share resumes asap . call fast moving position . bs mechanical chemical engineering science related field . english fluent speaking writing minimum years related industry experience required . years experience pharmaceutical biotech operations thorough working knowledge hvac plant utility systems . direct experience regulated environments i.e . cgmp osha epa required design experience owners experience hvac plant utility systems chilled water glycol chilled water tower water process utility systems purified water wfi cip sip compressed air waste treatment . working knowledge biotech manufacturing processes fermentation purification filling desired .',\n",
              "       'responsibilities designing developing products customer sales sme specifications.responsible integration materials methods tools necessary develop new products.provide support software hardware development documentation agile environment.projects typically medically related medical instruments devices involve embedded systems software technology include c .net sql server mvc mvvm wpf wcf entity framework etc.may perform following power measurements increase battery life router firewall configurations setting software hardware test environments automating procedures calibrating sensors.ensures production procedures efficiently utilize materials methods.works external design resources ensure quality design performance . qualifications years experience product engineerexperience analyzing gathering requirements hardware softwarea background education electrical engineering preferreda background education medical instruments preferred',\n",
              "       ...,\n",
              "       'etablished admired broward organziation looking hire human resources manager . ideal candidate support full scope human resources responsibilities partner organization strategic initiatives . maintain enhance organization human resources planning implementing evaluating human resources policies programs practices . responsibilities recruit onboard new hires conduct performance management provide feedback manage process bi weekly payroll benefits employees responsible annual health insurance open enrollment company events cruises picnics holiday parties injury incident reports special projects qualifications bachelor degree relevant experience years experience human resources must experience working paychex software strong recruiting demonstrated ability improve talent acquisition strategies demonstrated expertise training managers employees strong organizational critical thinking communications skills attention detail good judgement',\n",
              "       'recruitment consultant understanding recruitment one uk highly respected forward thinking external staffing companies making boston brand new home first location physical international expansion . unique opportunity recruitment consultant start top brand new arm hugely successful uk company workplace dedicated solely sourcing placing best individuals within artificial intelligence market ..one exciting fastest growing markets worldwide . uk understanding recruitment sterling reputation candidate client experience means business repeat business . helped build teams uk successful innovative tech fintech companies creating exactly successes boston ny area . strong internal employee satisfaction rate link glassdoor really push training positive culture career progression tonnes incentives get behind trips away around world days etc plus strong financial incentives . commission structure designed lucrative awards hard work put exactly get . work hard though reap huge rewards . recruitment consultant within organisation learn understand nuances artificial intelligence market . identify future business initiate strategic plans growth manage recruitment process candidate qualification placement cultivate manage candidate relationships ... ..we long game bring new accounts manage client relationships competitive environment highly autonomous environment ideas become part annual company strategy staff get say put forward opinions really value . looking individuals use sense determination resilience passion order achieve great things personally professionally . let talk .',\n",
              "       'representing new york based recruitment firm partner first tier suppliers operators energy industry . looking hire headhunter source best talent clients businesses . company projects recruit span year period encompassing design development manufacturing products energy market . products desgined drive efficiencies energy storage help operators shift carbon non carbon solutions . goals include hit heads within year period . open new offices across country means management directorship opportunities . expand adjacent markets fmcg high tech engineering supply chain . work across usa europe . travel extensively work key decision makers energy sector . role headhunting world class talent energy sector key client accounts . attending networking events meet decision makers expand client base build long term relationships . offer multiple services clients including employer branding marketing candidate attraction employee retention planning . alongside receive industry renowned training access latest recruiting technology . average st year earnings reaching figures year . incentive team holidays nights reward successes think cabo skiing rockies day races . modern workspace first class training development . ideally confident engaging keen develop professionally born communicator afraid engaging new people . degree educated commercial experience e.g . sales customer facing role'],\n",
              "      dtype=object)"
            ]
          },
          "metadata": {
            "tags": []
          },
          "execution_count": 27
        }
      ]
    },
    {
      "cell_type": "code",
      "metadata": {
        "id": "WuQRVtQ1Lfjx",
        "colab_type": "code",
        "colab": {}
      },
      "source": [
        "tokenizer_obj = Tokenizer()\n",
        "total_reviews = df['text'].values\n",
        "\n",
        "tokenizer_obj.fit_on_texts(total_reviews)\n",
        "\n",
        "#pad sequences\n",
        "max_length = max(len(s.split()) for s in total_reviews)\n",
        "\n",
        "#define vocabulory\n",
        "vocab_size = len(tokenizer_obj.word_index) + 1\n",
        "\n",
        "X_train_tokens = tokenizer_obj.texts_to_sequences(X_train)\n",
        "X_test_tokens = tokenizer_obj.texts_to_sequences(X_test)\n",
        "\n",
        "X_train_pad = pad_sequences(X_train_tokens, maxlen =max_length, padding= 'post')\n",
        "X_test_pad = pad_sequences(X_test_tokens, maxlen = max_length, padding= 'post')"
      ],
      "execution_count": 28,
      "outputs": []
    },
    {
      "cell_type": "code",
      "metadata": {
        "id": "AzWoyicrQIQ3",
        "colab_type": "code",
        "colab": {
          "base_uri": "https://localhost:8080/",
          "height": 136
        },
        "outputId": "4a6b98f3-e5fa-400a-964f-6e1888b18566"
      },
      "source": [
        "X_train_pad"
      ],
      "execution_count": 29,
      "outputs": [
        {
          "output_type": "execute_result",
          "data": {
            "text/plain": [
              "array([[  78,    6,    4, ...,    0,    0,    0],\n",
              "       [   8,    5,  311, ...,    0,    0,    0],\n",
              "       [ 815,  148,  687, ...,    0,    0,    0],\n",
              "       ...,\n",
              "       [  22,   81,   29, ...,    0,    0,    0],\n",
              "       [  78,    6,    4, ...,    0,    0,    0],\n",
              "       [1193,   40,   22, ...,    0,    0,    0]], dtype=int32)"
            ]
          },
          "metadata": {
            "tags": []
          },
          "execution_count": 29
        }
      ]
    },
    {
      "cell_type": "code",
      "metadata": {
        "id": "FNuKflbhQWBu",
        "colab_type": "code",
        "colab": {}
      },
      "source": [
        "from keras.models import Sequential\n",
        "from keras.layers import Dense, Embedding, LSTM, GRU\n",
        "from keras.layers.embeddings import Embedding"
      ],
      "execution_count": 30,
      "outputs": []
    },
    {
      "cell_type": "code",
      "metadata": {
        "id": "NW15_BcuQWF8",
        "colab_type": "code",
        "colab": {}
      },
      "source": [
        "EMBEDDING_DIM = 100\n",
        "\n",
        "model = Sequential()\n",
        "model.add(Embedding(vocab_size, EMBEDDING_DIM, input_length= max_length ))\n",
        "model.add( GRU(units =32, dropout= 0.2, recurrent_dropout= 0.2))\n",
        "model.add( Dense(128, activation= 'relu'))\n",
        "model.add( Dense(128, activation= 'relu'))\n",
        "model.add( Dense(64, activation= 'relu'))\n",
        "model.add( Dense(64, activation= 'relu'))\n",
        "model.add( Dense(1, activation= 'sigmoid'))\n",
        "\n",
        "model.compile( loss= 'binary_crossentropy', optimizer ='adam', metrics =['accuracy'])"
      ],
      "execution_count": 31,
      "outputs": []
    },
    {
      "cell_type": "code",
      "metadata": {
        "id": "irOu10DIQWJQ",
        "colab_type": "code",
        "colab": {
          "base_uri": "https://localhost:8080/",
          "height": 1000
        },
        "outputId": "d4a03c3d-a546-457a-a3b1-e38a07bfa655"
      },
      "source": [
        "model.fit(X_train_pad, y_train, batch_size=10, epochs =250, validation_data=(X_test_pad, y_test), verbose=2)"
      ],
      "execution_count": null,
      "outputs": [
        {
          "output_type": "stream",
          "text": [
            "/usr/local/lib/python3.6/dist-packages/tensorflow/python/framework/indexed_slices.py:434: UserWarning: Converting sparse IndexedSlices to a dense Tensor of unknown shape. This may consume a large amount of memory.\n",
            "  \"Converting sparse IndexedSlices to a dense Tensor of unknown shape. \"\n"
          ],
          "name": "stderr"
        },
        {
          "output_type": "stream",
          "text": [
            "Train on 2886 samples, validate on 722 samples\n",
            "Epoch 1/250\n",
            " - 205s - loss: 0.6910 - accuracy: 0.5440 - val_loss: 0.6908 - val_accuracy: 0.5360\n",
            "Epoch 2/250\n",
            " - 204s - loss: 0.6897 - accuracy: 0.5461 - val_loss: 0.6909 - val_accuracy: 0.5360\n",
            "Epoch 3/250\n",
            " - 204s - loss: 0.6893 - accuracy: 0.5461 - val_loss: 0.6906 - val_accuracy: 0.5360\n",
            "Epoch 4/250\n",
            " - 202s - loss: 0.6894 - accuracy: 0.5461 - val_loss: 0.6907 - val_accuracy: 0.5360\n",
            "Epoch 5/250\n",
            " - 201s - loss: 0.6893 - accuracy: 0.5461 - val_loss: 0.6907 - val_accuracy: 0.5360\n",
            "Epoch 6/250\n",
            " - 201s - loss: 0.6896 - accuracy: 0.5461 - val_loss: 0.6907 - val_accuracy: 0.5360\n",
            "Epoch 7/250\n",
            " - 201s - loss: 0.6893 - accuracy: 0.5461 - val_loss: 0.6906 - val_accuracy: 0.5360\n",
            "Epoch 8/250\n",
            " - 201s - loss: 0.6892 - accuracy: 0.5461 - val_loss: 0.6912 - val_accuracy: 0.5360\n",
            "Epoch 9/250\n",
            " - 201s - loss: 0.6895 - accuracy: 0.5461 - val_loss: 0.6909 - val_accuracy: 0.5360\n",
            "Epoch 10/250\n",
            " - 202s - loss: 0.6890 - accuracy: 0.5461 - val_loss: 0.6906 - val_accuracy: 0.5360\n",
            "Epoch 11/250\n",
            " - 202s - loss: 0.6892 - accuracy: 0.5461 - val_loss: 0.6907 - val_accuracy: 0.5360\n",
            "Epoch 12/250\n",
            " - 200s - loss: 0.6891 - accuracy: 0.5461 - val_loss: 0.6910 - val_accuracy: 0.5360\n",
            "Epoch 13/250\n",
            " - 199s - loss: 0.6893 - accuracy: 0.5461 - val_loss: 0.6907 - val_accuracy: 0.5360\n",
            "Epoch 14/250\n",
            " - 198s - loss: 0.6892 - accuracy: 0.5461 - val_loss: 0.6908 - val_accuracy: 0.5360\n",
            "Epoch 15/250\n",
            " - 195s - loss: 0.6896 - accuracy: 0.5461 - val_loss: 0.6906 - val_accuracy: 0.5360\n",
            "Epoch 16/250\n",
            " - 191s - loss: 0.6891 - accuracy: 0.5461 - val_loss: 0.6907 - val_accuracy: 0.5360\n",
            "Epoch 17/250\n",
            " - 193s - loss: 0.6890 - accuracy: 0.5461 - val_loss: 0.6907 - val_accuracy: 0.5360\n",
            "Epoch 18/250\n",
            " - 191s - loss: 0.6889 - accuracy: 0.5461 - val_loss: 0.6906 - val_accuracy: 0.5360\n",
            "Epoch 19/250\n",
            " - 190s - loss: 0.6889 - accuracy: 0.5461 - val_loss: 0.6906 - val_accuracy: 0.5360\n",
            "Epoch 20/250\n",
            " - 190s - loss: 0.6889 - accuracy: 0.5461 - val_loss: 0.6908 - val_accuracy: 0.5360\n",
            "Epoch 21/250\n",
            " - 193s - loss: 0.6889 - accuracy: 0.5461 - val_loss: 0.6908 - val_accuracy: 0.5360\n",
            "Epoch 22/250\n",
            " - 190s - loss: 0.6891 - accuracy: 0.5461 - val_loss: 0.6914 - val_accuracy: 0.5360\n",
            "Epoch 23/250\n",
            " - 192s - loss: 0.6892 - accuracy: 0.5461 - val_loss: 0.6907 - val_accuracy: 0.5360\n",
            "Epoch 24/250\n",
            " - 192s - loss: 0.6888 - accuracy: 0.5461 - val_loss: 0.6906 - val_accuracy: 0.5360\n",
            "Epoch 25/250\n",
            " - 190s - loss: 0.6890 - accuracy: 0.5461 - val_loss: 0.6907 - val_accuracy: 0.5360\n",
            "Epoch 26/250\n",
            " - 195s - loss: 0.6889 - accuracy: 0.5461 - val_loss: 0.6908 - val_accuracy: 0.5360\n",
            "Epoch 27/250\n",
            " - 190s - loss: 0.6889 - accuracy: 0.5461 - val_loss: 0.6906 - val_accuracy: 0.5360\n",
            "Epoch 28/250\n"
          ],
          "name": "stdout"
        }
      ]
    },
    {
      "cell_type": "code",
      "metadata": {
        "id": "sIy-a7GsQWMc",
        "colab_type": "code",
        "colab": {
          "base_uri": "https://localhost:8080/",
          "height": 391
        },
        "outputId": "3dba5c55-393d-4e9c-a404-04c1c4a1efed"
      },
      "source": [
        "model.summary()"
      ],
      "execution_count": 32,
      "outputs": [
        {
          "output_type": "stream",
          "text": [
            "Model: \"sequential_1\"\n",
            "_________________________________________________________________\n",
            "Layer (type)                 Output Shape              Param #   \n",
            "=================================================================\n",
            "embedding_1 (Embedding)      (None, 1096, 100)         2602300   \n",
            "_________________________________________________________________\n",
            "gru_1 (GRU)                  (None, 32)                12768     \n",
            "_________________________________________________________________\n",
            "dense_1 (Dense)              (None, 128)               4224      \n",
            "_________________________________________________________________\n",
            "dense_2 (Dense)              (None, 128)               16512     \n",
            "_________________________________________________________________\n",
            "dense_3 (Dense)              (None, 64)                8256      \n",
            "_________________________________________________________________\n",
            "dense_4 (Dense)              (None, 64)                4160      \n",
            "_________________________________________________________________\n",
            "dense_5 (Dense)              (None, 1)                 65        \n",
            "=================================================================\n",
            "Total params: 2,648,285\n",
            "Trainable params: 2,648,285\n",
            "Non-trainable params: 0\n",
            "_________________________________________________________________\n"
          ],
          "name": "stdout"
        }
      ]
    },
    {
      "cell_type": "code",
      "metadata": {
        "id": "2t6xY95IzJ-T",
        "colab_type": "code",
        "colab": {}
      },
      "source": [
        ""
      ],
      "execution_count": null,
      "outputs": []
    }
  ]
}